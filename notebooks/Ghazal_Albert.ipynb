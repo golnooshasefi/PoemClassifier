{
  "nbformat": 4,
  "nbformat_minor": 0,
  "metadata": {
    "colab": {
      "provenance": [],
      "gpuType": "T4"
    },
    "kernelspec": {
      "name": "python3",
      "display_name": "Python 3"
    },
    "language_info": {
      "name": "python"
    },
    "accelerator": "GPU"
  },
  "cells": [
    {
      "cell_type": "code",
      "execution_count": null,
      "metadata": {
        "colab": {
          "base_uri": "https://localhost:8080/"
        },
        "id": "lGkDtvwgf1xr",
        "outputId": "81b51368-4010-41ea-abaa-7fb53291cf32"
      },
      "outputs": [
        {
          "output_type": "stream",
          "name": "stdout",
          "text": [
            "Mounted at /content/gdrive\n"
          ]
        }
      ],
      "source": [
        "from google.colab import drive\n",
        "drive.mount('/content/gdrive')"
      ]
    },
    {
      "cell_type": "code",
      "execution_count": null,
      "metadata": {
        "id": "GRSr8b72kJ7r"
      },
      "outputs": [],
      "source": [
        "!unzip gdrive/MyDrive/GhazalDataset.zip"
      ]
    },
    {
      "cell_type": "code",
      "execution_count": null,
      "metadata": {
        "id": "eJ_JCG5hZ5nm"
      },
      "outputs": [],
      "source": [
        "!pip install hazm"
      ]
    },
    {
      "cell_type": "code",
      "source": [
        "!pip install --upgrade tensorflow"
      ],
      "metadata": {
        "id": "FCUeRuOItK7H"
      },
      "execution_count": null,
      "outputs": []
    },
    {
      "cell_type": "code",
      "source": [
        "!pip install -q sentencepiece\n",
        "!pip install transformers"
      ],
      "metadata": {
        "id": "nHloNuTtgD5N",
        "colab": {
          "base_uri": "https://localhost:8080/"
        },
        "outputId": "b6747abe-2d04-4ce3-c7fd-11c480b61269"
      },
      "execution_count": null,
      "outputs": [
        {
          "output_type": "stream",
          "name": "stdout",
          "text": [
            "\u001b[2K     \u001b[90m━━━━━━━━━━━━━━━━━━━━━━━━━━━━━━━━━━━━━━━━\u001b[0m \u001b[32m1.3/1.3 MB\u001b[0m \u001b[31m9.8 MB/s\u001b[0m eta \u001b[36m0:00:00\u001b[0m\n",
            "\u001b[?25hCollecting transformers\n",
            "  Downloading transformers-4.31.0-py3-none-any.whl (7.4 MB)\n",
            "\u001b[2K     \u001b[90m━━━━━━━━━━━━━━━━━━━━━━━━━━━━━━━━━━━━━━━━\u001b[0m \u001b[32m7.4/7.4 MB\u001b[0m \u001b[31m25.6 MB/s\u001b[0m eta \u001b[36m0:00:00\u001b[0m\n",
            "\u001b[?25hRequirement already satisfied: filelock in /usr/local/lib/python3.10/dist-packages (from transformers) (3.12.2)\n",
            "Collecting huggingface-hub<1.0,>=0.14.1 (from transformers)\n",
            "  Downloading huggingface_hub-0.16.4-py3-none-any.whl (268 kB)\n",
            "\u001b[2K     \u001b[90m━━━━━━━━━━━━━━━━━━━━━━━━━━━━━━━━━━━━━━\u001b[0m \u001b[32m268.8/268.8 kB\u001b[0m \u001b[31m31.6 MB/s\u001b[0m eta \u001b[36m0:00:00\u001b[0m\n",
            "\u001b[?25hRequirement already satisfied: numpy>=1.17 in /usr/local/lib/python3.10/dist-packages (from transformers) (1.24.3)\n",
            "Requirement already satisfied: packaging>=20.0 in /usr/local/lib/python3.10/dist-packages (from transformers) (23.1)\n",
            "Requirement already satisfied: pyyaml>=5.1 in /usr/local/lib/python3.10/dist-packages (from transformers) (6.0.1)\n",
            "Requirement already satisfied: regex!=2019.12.17 in /usr/local/lib/python3.10/dist-packages (from transformers) (2023.6.3)\n",
            "Requirement already satisfied: requests in /usr/local/lib/python3.10/dist-packages (from transformers) (2.31.0)\n",
            "Collecting tokenizers!=0.11.3,<0.14,>=0.11.1 (from transformers)\n",
            "  Downloading tokenizers-0.13.3-cp310-cp310-manylinux_2_17_x86_64.manylinux2014_x86_64.whl (7.8 MB)\n",
            "\u001b[2K     \u001b[90m━━━━━━━━━━━━━━━━━━━━━━━━━━━━━━━━━━━━━━━━\u001b[0m \u001b[32m7.8/7.8 MB\u001b[0m \u001b[31m87.1 MB/s\u001b[0m eta \u001b[36m0:00:00\u001b[0m\n",
            "\u001b[?25hCollecting safetensors>=0.3.1 (from transformers)\n",
            "  Downloading safetensors-0.3.2-cp310-cp310-manylinux_2_17_x86_64.manylinux2014_x86_64.whl (1.3 MB)\n",
            "\u001b[2K     \u001b[90m━━━━━━━━━━━━━━━━━━━━━━━━━━━━━━━━━━━━━━━━\u001b[0m \u001b[32m1.3/1.3 MB\u001b[0m \u001b[31m75.9 MB/s\u001b[0m eta \u001b[36m0:00:00\u001b[0m\n",
            "\u001b[?25hRequirement already satisfied: tqdm>=4.27 in /usr/local/lib/python3.10/dist-packages (from transformers) (4.66.1)\n",
            "Requirement already satisfied: fsspec in /usr/local/lib/python3.10/dist-packages (from huggingface-hub<1.0,>=0.14.1->transformers) (2023.6.0)\n",
            "Requirement already satisfied: typing-extensions>=3.7.4.3 in /usr/local/lib/python3.10/dist-packages (from huggingface-hub<1.0,>=0.14.1->transformers) (4.5.0)\n",
            "Requirement already satisfied: charset-normalizer<4,>=2 in /usr/local/lib/python3.10/dist-packages (from requests->transformers) (3.2.0)\n",
            "Requirement already satisfied: idna<4,>=2.5 in /usr/local/lib/python3.10/dist-packages (from requests->transformers) (3.4)\n",
            "Requirement already satisfied: urllib3<3,>=1.21.1 in /usr/local/lib/python3.10/dist-packages (from requests->transformers) (2.0.4)\n",
            "Requirement already satisfied: certifi>=2017.4.17 in /usr/local/lib/python3.10/dist-packages (from requests->transformers) (2023.7.22)\n",
            "Installing collected packages: tokenizers, safetensors, huggingface-hub, transformers\n",
            "Successfully installed huggingface-hub-0.16.4 safetensors-0.3.2 tokenizers-0.13.3 transformers-4.31.0\n"
          ]
        }
      ]
    },
    {
      "cell_type": "code",
      "execution_count": null,
      "metadata": {
        "id": "ENsi2ej2kwT-"
      },
      "outputs": [],
      "source": [
        "import csv\n",
        "import glob\n",
        "import pandas as pd\n",
        "import os\n",
        "import numpy as np"
      ]
    },
    {
      "cell_type": "code",
      "execution_count": null,
      "metadata": {
        "id": "joxg22bwRSnT"
      },
      "outputs": [],
      "source": [
        "# Data visualization\n",
        "import matplotlib.pyplot as plt\n",
        "import seaborn as sns"
      ]
    },
    {
      "cell_type": "code",
      "execution_count": null,
      "metadata": {
        "id": "Y3uYhAJPkU3J"
      },
      "outputs": [],
      "source": [
        "dirpath = \"./GhazalDataset\"\n",
        "outputpath = 'datasetcsv.csv'\n",
        "columns_name =[\"poem\",\"poet\"]\n",
        "output = open(outputpath,'w')\n",
        "csvout = csv.DictWriter(output,columns_name)\n",
        "csvout.writeheader()\n",
        "folders_name = os.listdir(dirpath);\n",
        "\n",
        "for folder in folders_name:\n",
        "  # print(folder)\n",
        "  files = os.listdir(dirpath + '/' + folder)\n",
        "  # print(files)\n",
        "\n",
        "  for f in files :\n",
        "    with open(dirpath + '/' + folder + '/' + f,encoding=\"utf8\",errors=\"ignore\")as afile:\n",
        "      text_file = afile.read().replace('\\n',' ')\n",
        "      row = {'poem': text_file,'poet': folder}\n",
        "      csvout.writerow(row)\n",
        "output.close()"
      ]
    },
    {
      "cell_type": "code",
      "execution_count": null,
      "metadata": {
        "colab": {
          "base_uri": "https://localhost:8080/",
          "height": 424
        },
        "id": "gXRf3hSfZqoc",
        "outputId": "1f154e40-8a93-44df-ca2f-04f77f32676a"
      },
      "outputs": [
        {
          "output_type": "execute_result",
          "data": {
            "text/plain": [
              "                                                   poem     poet\n",
              "0      ای باد بی‌آرام ما با گل بگو پیغام ما کای گل گ...  moulavi\n",
              "1      ای گشته ز شاه عشق شهمات در خشم مباش و در مکاف...  moulavi\n",
              "2      آخر بشنید آن مه آه سحر ما را تا حشر دگر آمد ا...  moulavi\n",
              "3      گویم سخن شکرنباتت یا قصه چشمه حیاتت  رخ بر رخ...  moulavi\n",
              "4      اسیر شیشه کن آن جنیان دانا را بریز خون دل آن ...  moulavi\n",
              "...                                                 ...      ...\n",
              "2426   کاروانی شکر از مصر به شیراز آید اگر آن یار سف...    saadi\n",
              "2427   چه دل‌ها بردی ای ساقی به ساق فتنه‌انگیزت دریغ...    saadi\n",
              "2428   دوش دور از رویت ای جان جانم از غم تاب داشت اب...    saadi\n",
              "2429   عشقبازی نه من آخر به جهان آوردم یا گناهیست که...    saadi\n",
              "2430   مپندار از لب شیرین عبارت که کامی حاصل آید بی ...    saadi\n",
              "\n",
              "[2431 rows x 2 columns]"
            ],
            "text/html": [
              "\n",
              "  <div id=\"df-2f703931-e726-401c-8a4a-012dafba8be6\" class=\"colab-df-container\">\n",
              "    <div>\n",
              "<style scoped>\n",
              "    .dataframe tbody tr th:only-of-type {\n",
              "        vertical-align: middle;\n",
              "    }\n",
              "\n",
              "    .dataframe tbody tr th {\n",
              "        vertical-align: top;\n",
              "    }\n",
              "\n",
              "    .dataframe thead th {\n",
              "        text-align: right;\n",
              "    }\n",
              "</style>\n",
              "<table border=\"1\" class=\"dataframe\">\n",
              "  <thead>\n",
              "    <tr style=\"text-align: right;\">\n",
              "      <th></th>\n",
              "      <th>poem</th>\n",
              "      <th>poet</th>\n",
              "    </tr>\n",
              "  </thead>\n",
              "  <tbody>\n",
              "    <tr>\n",
              "      <th>0</th>\n",
              "      <td>ای باد بی‌آرام ما با گل بگو پیغام ما کای گل گ...</td>\n",
              "      <td>moulavi</td>\n",
              "    </tr>\n",
              "    <tr>\n",
              "      <th>1</th>\n",
              "      <td>ای گشته ز شاه عشق شهمات در خشم مباش و در مکاف...</td>\n",
              "      <td>moulavi</td>\n",
              "    </tr>\n",
              "    <tr>\n",
              "      <th>2</th>\n",
              "      <td>آخر بشنید آن مه آه سحر ما را تا حشر دگر آمد ا...</td>\n",
              "      <td>moulavi</td>\n",
              "    </tr>\n",
              "    <tr>\n",
              "      <th>3</th>\n",
              "      <td>گویم سخن شکرنباتت یا قصه چشمه حیاتت  رخ بر رخ...</td>\n",
              "      <td>moulavi</td>\n",
              "    </tr>\n",
              "    <tr>\n",
              "      <th>4</th>\n",
              "      <td>اسیر شیشه کن آن جنیان دانا را بریز خون دل آن ...</td>\n",
              "      <td>moulavi</td>\n",
              "    </tr>\n",
              "    <tr>\n",
              "      <th>...</th>\n",
              "      <td>...</td>\n",
              "      <td>...</td>\n",
              "    </tr>\n",
              "    <tr>\n",
              "      <th>2426</th>\n",
              "      <td>کاروانی شکر از مصر به شیراز آید اگر آن یار سف...</td>\n",
              "      <td>saadi</td>\n",
              "    </tr>\n",
              "    <tr>\n",
              "      <th>2427</th>\n",
              "      <td>چه دل‌ها بردی ای ساقی به ساق فتنه‌انگیزت دریغ...</td>\n",
              "      <td>saadi</td>\n",
              "    </tr>\n",
              "    <tr>\n",
              "      <th>2428</th>\n",
              "      <td>دوش دور از رویت ای جان جانم از غم تاب داشت اب...</td>\n",
              "      <td>saadi</td>\n",
              "    </tr>\n",
              "    <tr>\n",
              "      <th>2429</th>\n",
              "      <td>عشقبازی نه من آخر به جهان آوردم یا گناهیست که...</td>\n",
              "      <td>saadi</td>\n",
              "    </tr>\n",
              "    <tr>\n",
              "      <th>2430</th>\n",
              "      <td>مپندار از لب شیرین عبارت که کامی حاصل آید بی ...</td>\n",
              "      <td>saadi</td>\n",
              "    </tr>\n",
              "  </tbody>\n",
              "</table>\n",
              "<p>2431 rows × 2 columns</p>\n",
              "</div>\n",
              "    <div class=\"colab-df-buttons\">\n",
              "\n",
              "  <div class=\"colab-df-container\">\n",
              "    <button class=\"colab-df-convert\" onclick=\"convertToInteractive('df-2f703931-e726-401c-8a4a-012dafba8be6')\"\n",
              "            title=\"Convert this dataframe to an interactive table.\"\n",
              "            style=\"display:none;\">\n",
              "\n",
              "  <svg xmlns=\"http://www.w3.org/2000/svg\" height=\"24px\" viewBox=\"0 -960 960 960\">\n",
              "    <path d=\"M120-120v-720h720v720H120Zm60-500h600v-160H180v160Zm220 220h160v-160H400v160Zm0 220h160v-160H400v160ZM180-400h160v-160H180v160Zm440 0h160v-160H620v160ZM180-180h160v-160H180v160Zm440 0h160v-160H620v160Z\"/>\n",
              "  </svg>\n",
              "    </button>\n",
              "\n",
              "  <style>\n",
              "    .colab-df-container {\n",
              "      display:flex;\n",
              "      gap: 12px;\n",
              "    }\n",
              "\n",
              "    .colab-df-convert {\n",
              "      background-color: #E8F0FE;\n",
              "      border: none;\n",
              "      border-radius: 50%;\n",
              "      cursor: pointer;\n",
              "      display: none;\n",
              "      fill: #1967D2;\n",
              "      height: 32px;\n",
              "      padding: 0 0 0 0;\n",
              "      width: 32px;\n",
              "    }\n",
              "\n",
              "    .colab-df-convert:hover {\n",
              "      background-color: #E2EBFA;\n",
              "      box-shadow: 0px 1px 2px rgba(60, 64, 67, 0.3), 0px 1px 3px 1px rgba(60, 64, 67, 0.15);\n",
              "      fill: #174EA6;\n",
              "    }\n",
              "\n",
              "    .colab-df-buttons div {\n",
              "      margin-bottom: 4px;\n",
              "    }\n",
              "\n",
              "    [theme=dark] .colab-df-convert {\n",
              "      background-color: #3B4455;\n",
              "      fill: #D2E3FC;\n",
              "    }\n",
              "\n",
              "    [theme=dark] .colab-df-convert:hover {\n",
              "      background-color: #434B5C;\n",
              "      box-shadow: 0px 1px 3px 1px rgba(0, 0, 0, 0.15);\n",
              "      filter: drop-shadow(0px 1px 2px rgba(0, 0, 0, 0.3));\n",
              "      fill: #FFFFFF;\n",
              "    }\n",
              "  </style>\n",
              "\n",
              "    <script>\n",
              "      const buttonEl =\n",
              "        document.querySelector('#df-2f703931-e726-401c-8a4a-012dafba8be6 button.colab-df-convert');\n",
              "      buttonEl.style.display =\n",
              "        google.colab.kernel.accessAllowed ? 'block' : 'none';\n",
              "\n",
              "      async function convertToInteractive(key) {\n",
              "        const element = document.querySelector('#df-2f703931-e726-401c-8a4a-012dafba8be6');\n",
              "        const dataTable =\n",
              "          await google.colab.kernel.invokeFunction('convertToInteractive',\n",
              "                                                    [key], {});\n",
              "        if (!dataTable) return;\n",
              "\n",
              "        const docLinkHtml = 'Like what you see? Visit the ' +\n",
              "          '<a target=\"_blank\" href=https://colab.research.google.com/notebooks/data_table.ipynb>data table notebook</a>'\n",
              "          + ' to learn more about interactive tables.';\n",
              "        element.innerHTML = '';\n",
              "        dataTable['output_type'] = 'display_data';\n",
              "        await google.colab.output.renderOutput(dataTable, element);\n",
              "        const docLink = document.createElement('div');\n",
              "        docLink.innerHTML = docLinkHtml;\n",
              "        element.appendChild(docLink);\n",
              "      }\n",
              "    </script>\n",
              "  </div>\n",
              "\n",
              "\n",
              "<div id=\"df-b129a5ef-753f-4a28-9853-84d52c3ac27d\">\n",
              "  <button class=\"colab-df-quickchart\" onclick=\"quickchart('df-b129a5ef-753f-4a28-9853-84d52c3ac27d')\"\n",
              "            title=\"Suggest charts.\"\n",
              "            style=\"display:none;\">\n",
              "\n",
              "<svg xmlns=\"http://www.w3.org/2000/svg\" height=\"24px\"viewBox=\"0 0 24 24\"\n",
              "     width=\"24px\">\n",
              "    <g>\n",
              "        <path d=\"M19 3H5c-1.1 0-2 .9-2 2v14c0 1.1.9 2 2 2h14c1.1 0 2-.9 2-2V5c0-1.1-.9-2-2-2zM9 17H7v-7h2v7zm4 0h-2V7h2v10zm4 0h-2v-4h2v4z\"/>\n",
              "    </g>\n",
              "</svg>\n",
              "  </button>\n",
              "\n",
              "<style>\n",
              "  .colab-df-quickchart {\n",
              "    background-color: #E8F0FE;\n",
              "    border: none;\n",
              "    border-radius: 50%;\n",
              "    cursor: pointer;\n",
              "    display: none;\n",
              "    fill: #1967D2;\n",
              "    height: 32px;\n",
              "    padding: 0 0 0 0;\n",
              "    width: 32px;\n",
              "  }\n",
              "\n",
              "  .colab-df-quickchart:hover {\n",
              "    background-color: #E2EBFA;\n",
              "    box-shadow: 0px 1px 2px rgba(60, 64, 67, 0.3), 0px 1px 3px 1px rgba(60, 64, 67, 0.15);\n",
              "    fill: #174EA6;\n",
              "  }\n",
              "\n",
              "  [theme=dark] .colab-df-quickchart {\n",
              "    background-color: #3B4455;\n",
              "    fill: #D2E3FC;\n",
              "  }\n",
              "\n",
              "  [theme=dark] .colab-df-quickchart:hover {\n",
              "    background-color: #434B5C;\n",
              "    box-shadow: 0px 1px 3px 1px rgba(0, 0, 0, 0.15);\n",
              "    filter: drop-shadow(0px 1px 2px rgba(0, 0, 0, 0.3));\n",
              "    fill: #FFFFFF;\n",
              "  }\n",
              "</style>\n",
              "\n",
              "  <script>\n",
              "    async function quickchart(key) {\n",
              "      const charts = await google.colab.kernel.invokeFunction(\n",
              "          'suggestCharts', [key], {});\n",
              "    }\n",
              "    (() => {\n",
              "      let quickchartButtonEl =\n",
              "        document.querySelector('#df-b129a5ef-753f-4a28-9853-84d52c3ac27d button');\n",
              "      quickchartButtonEl.style.display =\n",
              "        google.colab.kernel.accessAllowed ? 'block' : 'none';\n",
              "    })();\n",
              "  </script>\n",
              "</div>\n",
              "    </div>\n",
              "  </div>\n"
            ]
          },
          "metadata": {},
          "execution_count": 3
        }
      ],
      "source": [
        "df = pd.read_csv('datasetcsv.csv')\n",
        "df"
      ]
    },
    {
      "cell_type": "code",
      "execution_count": null,
      "metadata": {
        "colab": {
          "base_uri": "https://localhost:8080/"
        },
        "id": "2XaeoK39aYkT",
        "outputId": "e05444d3-a2e5-44f7-c384-177a5cbddb89"
      },
      "outputs": [
        {
          "output_type": "stream",
          "name": "stdout",
          "text": [
            "missing values stats\n",
            "poem    0\n",
            "poet    0\n",
            "dtype: int64 \n",
            "\n",
            "some missing values\n",
            "Empty DataFrame\n",
            "Columns: [poem, poet]\n",
            "Index: [] \n",
            "\n"
          ]
        }
      ],
      "source": [
        "# print missing values information\n",
        "print('missing values stats')\n",
        "print(df.isnull().sum(), '\\n')\n",
        "\n",
        "# print some missing values\n",
        "print('some missing values')\n",
        "print(df[df['poem'].isnull()], '\\n')"
      ]
    },
    {
      "cell_type": "code",
      "source": [
        "count = df['poet'].value_counts()\n",
        "\n",
        "print(count)\n",
        "count.plot.bar()"
      ],
      "metadata": {
        "colab": {
          "base_uri": "https://localhost:8080/",
          "height": 593
        },
        "id": "SZnVDu5rIH3x",
        "outputId": "3fa9dc64-ef94-4def-97d4-275bf20a42ff"
      },
      "execution_count": null,
      "outputs": [
        {
          "output_type": "stream",
          "name": "stdout",
          "text": [
            "moulavi    501\n",
            "attar      500\n",
            "saadi      500\n",
            "hafez      495\n",
            "sanaee     435\n",
            "Name: poet, dtype: int64\n"
          ]
        },
        {
          "output_type": "execute_result",
          "data": {
            "text/plain": [
              "<Axes: >"
            ]
          },
          "metadata": {},
          "execution_count": 9
        },
        {
          "output_type": "display_data",
          "data": {
            "text/plain": [
              "<Figure size 640x480 with 1 Axes>"
            ],
            "image/png": "[encoded data removed]"
          },
          "metadata": {}
        }
      ]
    },
    {
      "cell_type": "code",
      "source": [
        "from pandas import read_csv\n",
        "from matplotlib import pyplot\n",
        "from sklearn.preprocessing import LabelEncoder"
      ],
      "metadata": {
        "id": "TCtIxncOJVLe"
      },
      "execution_count": null,
      "outputs": []
    },
    {
      "cell_type": "code",
      "execution_count": null,
      "metadata": {
        "id": "KE-lSdg5akQg"
      },
      "outputs": [],
      "source": [
        "import re\n",
        "import hazm"
      ]
    },
    {
      "cell_type": "code",
      "execution_count": null,
      "metadata": {
        "id": "N6hzTLQx3pM7",
        "colab": {
          "base_uri": "https://localhost:8080/",
          "height": 424
        },
        "outputId": "55dd5805-0b2d-4a85-e8f3-e6367500c194"
      },
      "outputs": [
        {
          "output_type": "execute_result",
          "data": {
            "text/plain": [
              "                                                   poem     poet\n",
              "0     ای باد بی آرام ما با گل بگو پیغام ما کای گل گر...  moulavi\n",
              "1     ای گشته ز شاه عشق شهمات در خشم مباش و در مکافا...  moulavi\n",
              "2     آخر بشنید آن مه آه سحر ما را تا حشر دگر آمد ام...  moulavi\n",
              "3     گویم سخن شکرنباتت یا قصه چشمه حیاتت رخ بر رخ م...  moulavi\n",
              "4     اسیر شیشه کن آن جنیان دانا را بریز خون دل آن خ...  moulavi\n",
              "...                                                 ...      ...\n",
              "2426  کاروانی شکر از مصر به شیراز آید اگر آن یار سفر...    saadi\n",
              "2427  چه دل ها بردی ای ساقی به ساق فتنه انگیزت دریغا...    saadi\n",
              "2428  دوش دور از رویت ای جان جانم از غم تاب داشت ابر...    saadi\n",
              "2429  عشقبازی نه من آخر به جهان آوردم یا گناهیست که ...    saadi\n",
              "2430  مپندار از لب شیرین عبارت که کامی حاصل آید بی م...    saadi\n",
              "\n",
              "[2431 rows x 2 columns]"
            ],
            "text/html": [
              "\n",
              "  <div id=\"df-9ea7034a-cc7c-48aa-abd3-35f55b6d4490\" class=\"colab-df-container\">\n",
              "    <div>\n",
              "<style scoped>\n",
              "    .dataframe tbody tr th:only-of-type {\n",
              "        vertical-align: middle;\n",
              "    }\n",
              "\n",
              "    .dataframe tbody tr th {\n",
              "        vertical-align: top;\n",
              "    }\n",
              "\n",
              "    .dataframe thead th {\n",
              "        text-align: right;\n",
              "    }\n",
              "</style>\n",
              "<table border=\"1\" class=\"dataframe\">\n",
              "  <thead>\n",
              "    <tr style=\"text-align: right;\">\n",
              "      <th></th>\n",
              "      <th>poem</th>\n",
              "      <th>poet</th>\n",
              "    </tr>\n",
              "  </thead>\n",
              "  <tbody>\n",
              "    <tr>\n",
              "      <th>0</th>\n",
              "      <td>ای باد بی آرام ما با گل بگو پیغام ما کای گل گر...</td>\n",
              "      <td>moulavi</td>\n",
              "    </tr>\n",
              "    <tr>\n",
              "      <th>1</th>\n",
              "      <td>ای گشته ز شاه عشق شهمات در خشم مباش و در مکافا...</td>\n",
              "      <td>moulavi</td>\n",
              "    </tr>\n",
              "    <tr>\n",
              "      <th>2</th>\n",
              "      <td>آخر بشنید آن مه آه سحر ما را تا حشر دگر آمد ام...</td>\n",
              "      <td>moulavi</td>\n",
              "    </tr>\n",
              "    <tr>\n",
              "      <th>3</th>\n",
              "      <td>گویم سخن شکرنباتت یا قصه چشمه حیاتت رخ بر رخ م...</td>\n",
              "      <td>moulavi</td>\n",
              "    </tr>\n",
              "    <tr>\n",
              "      <th>4</th>\n",
              "      <td>اسیر شیشه کن آن جنیان دانا را بریز خون دل آن خ...</td>\n",
              "      <td>moulavi</td>\n",
              "    </tr>\n",
              "    <tr>\n",
              "      <th>...</th>\n",
              "      <td>...</td>\n",
              "      <td>...</td>\n",
              "    </tr>\n",
              "    <tr>\n",
              "      <th>2426</th>\n",
              "      <td>کاروانی شکر از مصر به شیراز آید اگر آن یار سفر...</td>\n",
              "      <td>saadi</td>\n",
              "    </tr>\n",
              "    <tr>\n",
              "      <th>2427</th>\n",
              "      <td>چه دل ها بردی ای ساقی به ساق فتنه انگیزت دریغا...</td>\n",
              "      <td>saadi</td>\n",
              "    </tr>\n",
              "    <tr>\n",
              "      <th>2428</th>\n",
              "      <td>دوش دور از رویت ای جان جانم از غم تاب داشت ابر...</td>\n",
              "      <td>saadi</td>\n",
              "    </tr>\n",
              "    <tr>\n",
              "      <th>2429</th>\n",
              "      <td>عشقبازی نه من آخر به جهان آوردم یا گناهیست که ...</td>\n",
              "      <td>saadi</td>\n",
              "    </tr>\n",
              "    <tr>\n",
              "      <th>2430</th>\n",
              "      <td>مپندار از لب شیرین عبارت که کامی حاصل آید بی م...</td>\n",
              "      <td>saadi</td>\n",
              "    </tr>\n",
              "  </tbody>\n",
              "</table>\n",
              "<p>2431 rows × 2 columns</p>\n",
              "</div>\n",
              "    <div class=\"colab-df-buttons\">\n",
              "\n",
              "  <div class=\"colab-df-container\">\n",
              "    <button class=\"colab-df-convert\" onclick=\"convertToInteractive('df-9ea7034a-cc7c-48aa-abd3-35f55b6d4490')\"\n",
              "            title=\"Convert this dataframe to an interactive table.\"\n",
              "            style=\"display:none;\">\n",
              "\n",
              "  <svg xmlns=\"http://www.w3.org/2000/svg\" height=\"24px\" viewBox=\"0 -960 960 960\">\n",
              "    <path d=\"M120-120v-720h720v720H120Zm60-500h600v-160H180v160Zm220 220h160v-160H400v160Zm0 220h160v-160H400v160ZM180-400h160v-160H180v160Zm440 0h160v-160H620v160ZM180-180h160v-160H180v160Zm440 0h160v-160H620v160Z\"/>\n",
              "  </svg>\n",
              "    </button>\n",
              "\n",
              "  <style>\n",
              "    .colab-df-container {\n",
              "      display:flex;\n",
              "      gap: 12px;\n",
              "    }\n",
              "\n",
              "    .colab-df-convert {\n",
              "      background-color: #E8F0FE;\n",
              "      border: none;\n",
              "      border-radius: 50%;\n",
              "      cursor: pointer;\n",
              "      display: none;\n",
              "      fill: #1967D2;\n",
              "      height: 32px;\n",
              "      padding: 0 0 0 0;\n",
              "      width: 32px;\n",
              "    }\n",
              "\n",
              "    .colab-df-convert:hover {\n",
              "      background-color: #E2EBFA;\n",
              "      box-shadow: 0px 1px 2px rgba(60, 64, 67, 0.3), 0px 1px 3px 1px rgba(60, 64, 67, 0.15);\n",
              "      fill: #174EA6;\n",
              "    }\n",
              "\n",
              "    .colab-df-buttons div {\n",
              "      margin-bottom: 4px;\n",
              "    }\n",
              "\n",
              "    [theme=dark] .colab-df-convert {\n",
              "      background-color: #3B4455;\n",
              "      fill: #D2E3FC;\n",
              "    }\n",
              "\n",
              "    [theme=dark] .colab-df-convert:hover {\n",
              "      background-color: #434B5C;\n",
              "      box-shadow: 0px 1px 3px 1px rgba(0, 0, 0, 0.15);\n",
              "      filter: drop-shadow(0px 1px 2px rgba(0, 0, 0, 0.3));\n",
              "      fill: #FFFFFF;\n",
              "    }\n",
              "  </style>\n",
              "\n",
              "    <script>\n",
              "      const buttonEl =\n",
              "        document.querySelector('#df-9ea7034a-cc7c-48aa-abd3-35f55b6d4490 button.colab-df-convert');\n",
              "      buttonEl.style.display =\n",
              "        google.colab.kernel.accessAllowed ? 'block' : 'none';\n",
              "\n",
              "      async function convertToInteractive(key) {\n",
              "        const element = document.querySelector('#df-9ea7034a-cc7c-48aa-abd3-35f55b6d4490');\n",
              "        const dataTable =\n",
              "          await google.colab.kernel.invokeFunction('convertToInteractive',\n",
              "                                                    [key], {});\n",
              "        if (!dataTable) return;\n",
              "\n",
              "        const docLinkHtml = 'Like what you see? Visit the ' +\n",
              "          '<a target=\"_blank\" href=https://colab.research.google.com/notebooks/data_table.ipynb>data table notebook</a>'\n",
              "          + ' to learn more about interactive tables.';\n",
              "        element.innerHTML = '';\n",
              "        dataTable['output_type'] = 'display_data';\n",
              "        await google.colab.output.renderOutput(dataTable, element);\n",
              "        const docLink = document.createElement('div');\n",
              "        docLink.innerHTML = docLinkHtml;\n",
              "        element.appendChild(docLink);\n",
              "      }\n",
              "    </script>\n",
              "  </div>\n",
              "\n",
              "\n",
              "<div id=\"df-e3654221-8f5b-43f0-9e92-bef0fc6f127a\">\n",
              "  <button class=\"colab-df-quickchart\" onclick=\"quickchart('df-e3654221-8f5b-43f0-9e92-bef0fc6f127a')\"\n",
              "            title=\"Suggest charts.\"\n",
              "            style=\"display:none;\">\n",
              "\n",
              "<svg xmlns=\"http://www.w3.org/2000/svg\" height=\"24px\"viewBox=\"0 0 24 24\"\n",
              "     width=\"24px\">\n",
              "    <g>\n",
              "        <path d=\"M19 3H5c-1.1 0-2 .9-2 2v14c0 1.1.9 2 2 2h14c1.1 0 2-.9 2-2V5c0-1.1-.9-2-2-2zM9 17H7v-7h2v7zm4 0h-2V7h2v10zm4 0h-2v-4h2v4z\"/>\n",
              "    </g>\n",
              "</svg>\n",
              "  </button>\n",
              "\n",
              "<style>\n",
              "  .colab-df-quickchart {\n",
              "    background-color: #E8F0FE;\n",
              "    border: none;\n",
              "    border-radius: 50%;\n",
              "    cursor: pointer;\n",
              "    display: none;\n",
              "    fill: #1967D2;\n",
              "    height: 32px;\n",
              "    padding: 0 0 0 0;\n",
              "    width: 32px;\n",
              "  }\n",
              "\n",
              "  .colab-df-quickchart:hover {\n",
              "    background-color: #E2EBFA;\n",
              "    box-shadow: 0px 1px 2px rgba(60, 64, 67, 0.3), 0px 1px 3px 1px rgba(60, 64, 67, 0.15);\n",
              "    fill: #174EA6;\n",
              "  }\n",
              "\n",
              "  [theme=dark] .colab-df-quickchart {\n",
              "    background-color: #3B4455;\n",
              "    fill: #D2E3FC;\n",
              "  }\n",
              "\n",
              "  [theme=dark] .colab-df-quickchart:hover {\n",
              "    background-color: #434B5C;\n",
              "    box-shadow: 0px 1px 3px 1px rgba(0, 0, 0, 0.15);\n",
              "    filter: drop-shadow(0px 1px 2px rgba(0, 0, 0, 0.3));\n",
              "    fill: #FFFFFF;\n",
              "  }\n",
              "</style>\n",
              "\n",
              "  <script>\n",
              "    async function quickchart(key) {\n",
              "      const charts = await google.colab.kernel.invokeFunction(\n",
              "          'suggestCharts', [key], {});\n",
              "    }\n",
              "    (() => {\n",
              "      let quickchartButtonEl =\n",
              "        document.querySelector('#df-e3654221-8f5b-43f0-9e92-bef0fc6f127a button');\n",
              "      quickchartButtonEl.style.display =\n",
              "        google.colab.kernel.accessAllowed ? 'block' : 'none';\n",
              "    })();\n",
              "  </script>\n",
              "</div>\n",
              "    </div>\n",
              "  </div>\n"
            ]
          },
          "metadata": {},
          "execution_count": 6
        }
      ],
      "source": [
        "normalizer = hazm.Normalizer()\n",
        "def cleaning(text):\n",
        "    text = text.strip()\n",
        "    # normalizing\n",
        "    text = normalizer.normalize(text)\n",
        "\n",
        "    # replacing all spaces,hyphens,  with white space\n",
        "    space_pattern = r\"[\\xad\\ufeff\\u200e\\u200d\\u200b\\x7f\\u202a\\u2003\\xa0\\u206e\\u200c\\x9d\\]]\"\n",
        "    space_pattern = re.compile(space_pattern)\n",
        "    text = space_pattern.sub(\" \", text)\n",
        "\n",
        "    # let's delete the un-required elements\n",
        "    deleted_pattern = r\"(\\d|[\\|\\[]]|\\\"|'ٍ|[0-9]|¬|[a-zA-Z]|[؛“،,”‘۔’’‘–]|[|\\.÷+\\:\\-\\?»\\=\\{}\\*«_…\\؟!/ـ]|[۲۹۱۷۸۵۶۴۴۳]|[\\\\u\\\\x]|[\\(\\)]|[۰'ٓ۫'ٔ]|[ٓٔ]|[ًٌٍْﹼ،َُِّ«ٰ»ٖء]|\\[]|\\[\\])\"\n",
        "    deleted_pattern = re.compile(deleted_pattern)\n",
        "    text = deleted_pattern.sub(\"\", text).strip()\n",
        "\n",
        "\n",
        "    # removing wierd patterns\n",
        "    wierd_pattern = re.compile(\"[\"\n",
        "        u\"\\U0001F300-\\U0001F5FF\"  # symbols & pictographs\n",
        "        u\"\\U0001F680-\\U0001F6FF\"  # transport & map symbols\n",
        "        u\"\\U0001F1E0-\\U0001F1FF\"  # flags (iOS)\n",
        "        u\"\\U00002702-\\U000027B0\"\n",
        "        u\"\\U000024C2-\\U0001F251\"\n",
        "        u\"\\U0001f926-\\U0001f937\"\n",
        "        u'\\U00010000-\\U0010ffff'\n",
        "        u\"\\u200d\"\n",
        "        u\"\\u200c\"\n",
        "        u\"\\u2640-\\u2642\"\n",
        "        u\"\\u2600-\\u2B55\"\n",
        "        u\"\\u23cf\"\n",
        "        u\"\\u23e9\"\n",
        "        u\"\\u231a\"\n",
        "        u\"\\u3030\"\n",
        "        u\"\\ufe0f\"\n",
        "        u\"\\u2069\"\n",
        "        u\"\\u2066\"\n",
        "        u\"\\u2068\"\n",
        "        u\"\\u2067\"\n",
        "        \"]+\", flags=re.UNICODE)\n",
        "\n",
        "    text = wierd_pattern.sub(r'', text)\n",
        "    # removing extra spaces, hashtags\n",
        "    text = re.sub(\"#\", \"\", text)\n",
        "    text = re.sub(\"\\s+\", \" \", text)\n",
        "    return text\n",
        "\n",
        "df['cleaned_poems'] = df['poem'].apply(cleaning)\n",
        "df = df[['cleaned_poems', 'poet']]\n",
        "df.columns = ['poem', 'poet']\n",
        "df"
      ]
    },
    {
      "cell_type": "code",
      "execution_count": null,
      "metadata": {
        "id": "tiI3b9HuIZzw"
      },
      "outputs": [],
      "source": [
        "def stop_word_importer(file_name):# importing persian stopwords\n",
        "    with open(file_name, 'r', encoding=\"utf8\") as myfile:\n",
        "        stop_words = myfile.read().replace('\\n', ' ').replace(\"\\u200c\",\"\").replace(\"\\ufeff\",\"\").replace(\".\",\" \").split(' ')# a list of stop words\n",
        "    return stop_words"
      ]
    },
    {
      "cell_type": "code",
      "execution_count": null,
      "metadata": {
        "id": "bZh08JySKGmK"
      },
      "outputs": [],
      "source": [
        "stop_words = stop_word_importer('stop_words.txt') # importing stop words to a list"
      ]
    },
    {
      "cell_type": "code",
      "execution_count": null,
      "metadata": {
        "id": "b7HQ2x3RJcsI",
        "colab": {
          "base_uri": "https://localhost:8080/",
          "height": 424
        },
        "outputId": "d1a0d821-1a61-48b7-a7f7-4d3f665019bc"
      },
      "outputs": [
        {
          "output_type": "execute_result",
          "data": {
            "text/plain": [
              "                                                   poem     poet\n",
              "0     گل پیغام کای گل گریز شکر گشتی گلشن گل اصل شکری...  moulavi\n",
              "1     شاه عشق شهمات خشم مباش مکافات باغ فنا درآ بنگر...  moulavi\n",
              "2     بشنید مه آه سحر حشر حشر چرخ زند مه سینه دور قم...  moulavi\n",
              "3     سخن شکرنباتت قصه چشمه حیاتت رخ رخ نهی شاه ماتت...  moulavi\n",
              "4     اسیر شیشه جنیان دانا بریز خون دل خونیان صهبا ر...  moulavi\n",
              "...                                                 ...      ...\n",
              "2426  کاروانی شکر مصر شیراز یار سفرکرده بازآید بازآی...    saadi\n",
              "2427  دل بردی ساقی ساق فتنه انگیزت بوسه چندی زنخدان ...    saadi\n",
              "2428  دوش دور رویت جان جانم غم تاب ابر چشمم رخ سودای...    saadi\n",
              "2429  عشقبازی جهان آوردم گناهیست مسکین دل خبری غم دل...    saadi\n",
              "2430  مپندار عبارت کامی حاصل مرارت فراق افتد دوستدار...    saadi\n",
              "\n",
              "[2431 rows x 2 columns]"
            ],
            "text/html": [
              "\n",
              "  <div id=\"df-5e9c1da6-77fc-4a10-bfe1-6f67e55d01dc\" class=\"colab-df-container\">\n",
              "    <div>\n",
              "<style scoped>\n",
              "    .dataframe tbody tr th:only-of-type {\n",
              "        vertical-align: middle;\n",
              "    }\n",
              "\n",
              "    .dataframe tbody tr th {\n",
              "        vertical-align: top;\n",
              "    }\n",
              "\n",
              "    .dataframe thead th {\n",
              "        text-align: right;\n",
              "    }\n",
              "</style>\n",
              "<table border=\"1\" class=\"dataframe\">\n",
              "  <thead>\n",
              "    <tr style=\"text-align: right;\">\n",
              "      <th></th>\n",
              "      <th>poem</th>\n",
              "      <th>poet</th>\n",
              "    </tr>\n",
              "  </thead>\n",
              "  <tbody>\n",
              "    <tr>\n",
              "      <th>0</th>\n",
              "      <td>گل پیغام کای گل گریز شکر گشتی گلشن گل اصل شکری...</td>\n",
              "      <td>moulavi</td>\n",
              "    </tr>\n",
              "    <tr>\n",
              "      <th>1</th>\n",
              "      <td>شاه عشق شهمات خشم مباش مکافات باغ فنا درآ بنگر...</td>\n",
              "      <td>moulavi</td>\n",
              "    </tr>\n",
              "    <tr>\n",
              "      <th>2</th>\n",
              "      <td>بشنید مه آه سحر حشر حشر چرخ زند مه سینه دور قم...</td>\n",
              "      <td>moulavi</td>\n",
              "    </tr>\n",
              "    <tr>\n",
              "      <th>3</th>\n",
              "      <td>سخن شکرنباتت قصه چشمه حیاتت رخ رخ نهی شاه ماتت...</td>\n",
              "      <td>moulavi</td>\n",
              "    </tr>\n",
              "    <tr>\n",
              "      <th>4</th>\n",
              "      <td>اسیر شیشه جنیان دانا بریز خون دل خونیان صهبا ر...</td>\n",
              "      <td>moulavi</td>\n",
              "    </tr>\n",
              "    <tr>\n",
              "      <th>...</th>\n",
              "      <td>...</td>\n",
              "      <td>...</td>\n",
              "    </tr>\n",
              "    <tr>\n",
              "      <th>2426</th>\n",
              "      <td>کاروانی شکر مصر شیراز یار سفرکرده بازآید بازآی...</td>\n",
              "      <td>saadi</td>\n",
              "    </tr>\n",
              "    <tr>\n",
              "      <th>2427</th>\n",
              "      <td>دل بردی ساقی ساق فتنه انگیزت بوسه چندی زنخدان ...</td>\n",
              "      <td>saadi</td>\n",
              "    </tr>\n",
              "    <tr>\n",
              "      <th>2428</th>\n",
              "      <td>دوش دور رویت جان جانم غم تاب ابر چشمم رخ سودای...</td>\n",
              "      <td>saadi</td>\n",
              "    </tr>\n",
              "    <tr>\n",
              "      <th>2429</th>\n",
              "      <td>عشقبازی جهان آوردم گناهیست مسکین دل خبری غم دل...</td>\n",
              "      <td>saadi</td>\n",
              "    </tr>\n",
              "    <tr>\n",
              "      <th>2430</th>\n",
              "      <td>مپندار عبارت کامی حاصل مرارت فراق افتد دوستدار...</td>\n",
              "      <td>saadi</td>\n",
              "    </tr>\n",
              "  </tbody>\n",
              "</table>\n",
              "<p>2431 rows × 2 columns</p>\n",
              "</div>\n",
              "    <div class=\"colab-df-buttons\">\n",
              "\n",
              "  <div class=\"colab-df-container\">\n",
              "    <button class=\"colab-df-convert\" onclick=\"convertToInteractive('df-5e9c1da6-77fc-4a10-bfe1-6f67e55d01dc')\"\n",
              "            title=\"Convert this dataframe to an interactive table.\"\n",
              "            style=\"display:none;\">\n",
              "\n",
              "  <svg xmlns=\"http://www.w3.org/2000/svg\" height=\"24px\" viewBox=\"0 -960 960 960\">\n",
              "    <path d=\"M120-120v-720h720v720H120Zm60-500h600v-160H180v160Zm220 220h160v-160H400v160Zm0 220h160v-160H400v160ZM180-400h160v-160H180v160Zm440 0h160v-160H620v160ZM180-180h160v-160H180v160Zm440 0h160v-160H620v160Z\"/>\n",
              "  </svg>\n",
              "    </button>\n",
              "\n",
              "  <style>\n",
              "    .colab-df-container {\n",
              "      display:flex;\n",
              "      gap: 12px;\n",
              "    }\n",
              "\n",
              "    .colab-df-convert {\n",
              "      background-color: #E8F0FE;\n",
              "      border: none;\n",
              "      border-radius: 50%;\n",
              "      cursor: pointer;\n",
              "      display: none;\n",
              "      fill: #1967D2;\n",
              "      height: 32px;\n",
              "      padding: 0 0 0 0;\n",
              "      width: 32px;\n",
              "    }\n",
              "\n",
              "    .colab-df-convert:hover {\n",
              "      background-color: #E2EBFA;\n",
              "      box-shadow: 0px 1px 2px rgba(60, 64, 67, 0.3), 0px 1px 3px 1px rgba(60, 64, 67, 0.15);\n",
              "      fill: #174EA6;\n",
              "    }\n",
              "\n",
              "    .colab-df-buttons div {\n",
              "      margin-bottom: 4px;\n",
              "    }\n",
              "\n",
              "    [theme=dark] .colab-df-convert {\n",
              "      background-color: #3B4455;\n",
              "      fill: #D2E3FC;\n",
              "    }\n",
              "\n",
              "    [theme=dark] .colab-df-convert:hover {\n",
              "      background-color: #434B5C;\n",
              "      box-shadow: 0px 1px 3px 1px rgba(0, 0, 0, 0.15);\n",
              "      filter: drop-shadow(0px 1px 2px rgba(0, 0, 0, 0.3));\n",
              "      fill: #FFFFFF;\n",
              "    }\n",
              "  </style>\n",
              "\n",
              "    <script>\n",
              "      const buttonEl =\n",
              "        document.querySelector('#df-5e9c1da6-77fc-4a10-bfe1-6f67e55d01dc button.colab-df-convert');\n",
              "      buttonEl.style.display =\n",
              "        google.colab.kernel.accessAllowed ? 'block' : 'none';\n",
              "\n",
              "      async function convertToInteractive(key) {\n",
              "        const element = document.querySelector('#df-5e9c1da6-77fc-4a10-bfe1-6f67e55d01dc');\n",
              "        const dataTable =\n",
              "          await google.colab.kernel.invokeFunction('convertToInteractive',\n",
              "                                                    [key], {});\n",
              "        if (!dataTable) return;\n",
              "\n",
              "        const docLinkHtml = 'Like what you see? Visit the ' +\n",
              "          '<a target=\"_blank\" href=https://colab.research.google.com/notebooks/data_table.ipynb>data table notebook</a>'\n",
              "          + ' to learn more about interactive tables.';\n",
              "        element.innerHTML = '';\n",
              "        dataTable['output_type'] = 'display_data';\n",
              "        await google.colab.output.renderOutput(dataTable, element);\n",
              "        const docLink = document.createElement('div');\n",
              "        docLink.innerHTML = docLinkHtml;\n",
              "        element.appendChild(docLink);\n",
              "      }\n",
              "    </script>\n",
              "  </div>\n",
              "\n",
              "\n",
              "<div id=\"df-0ab2e5a0-813c-4747-8752-415e78d25ff7\">\n",
              "  <button class=\"colab-df-quickchart\" onclick=\"quickchart('df-0ab2e5a0-813c-4747-8752-415e78d25ff7')\"\n",
              "            title=\"Suggest charts.\"\n",
              "            style=\"display:none;\">\n",
              "\n",
              "<svg xmlns=\"http://www.w3.org/2000/svg\" height=\"24px\"viewBox=\"0 0 24 24\"\n",
              "     width=\"24px\">\n",
              "    <g>\n",
              "        <path d=\"M19 3H5c-1.1 0-2 .9-2 2v14c0 1.1.9 2 2 2h14c1.1 0 2-.9 2-2V5c0-1.1-.9-2-2-2zM9 17H7v-7h2v7zm4 0h-2V7h2v10zm4 0h-2v-4h2v4z\"/>\n",
              "    </g>\n",
              "</svg>\n",
              "  </button>\n",
              "\n",
              "<style>\n",
              "  .colab-df-quickchart {\n",
              "    background-color: #E8F0FE;\n",
              "    border: none;\n",
              "    border-radius: 50%;\n",
              "    cursor: pointer;\n",
              "    display: none;\n",
              "    fill: #1967D2;\n",
              "    height: 32px;\n",
              "    padding: 0 0 0 0;\n",
              "    width: 32px;\n",
              "  }\n",
              "\n",
              "  .colab-df-quickchart:hover {\n",
              "    background-color: #E2EBFA;\n",
              "    box-shadow: 0px 1px 2px rgba(60, 64, 67, 0.3), 0px 1px 3px 1px rgba(60, 64, 67, 0.15);\n",
              "    fill: #174EA6;\n",
              "  }\n",
              "\n",
              "  [theme=dark] .colab-df-quickchart {\n",
              "    background-color: #3B4455;\n",
              "    fill: #D2E3FC;\n",
              "  }\n",
              "\n",
              "  [theme=dark] .colab-df-quickchart:hover {\n",
              "    background-color: #434B5C;\n",
              "    box-shadow: 0px 1px 3px 1px rgba(0, 0, 0, 0.15);\n",
              "    filter: drop-shadow(0px 1px 2px rgba(0, 0, 0, 0.3));\n",
              "    fill: #FFFFFF;\n",
              "  }\n",
              "</style>\n",
              "\n",
              "  <script>\n",
              "    async function quickchart(key) {\n",
              "      const charts = await google.colab.kernel.invokeFunction(\n",
              "          'suggestCharts', [key], {});\n",
              "    }\n",
              "    (() => {\n",
              "      let quickchartButtonEl =\n",
              "        document.querySelector('#df-0ab2e5a0-813c-4747-8752-415e78d25ff7 button');\n",
              "      quickchartButtonEl.style.display =\n",
              "        google.colab.kernel.accessAllowed ? 'block' : 'none';\n",
              "    })();\n",
              "  </script>\n",
              "</div>\n",
              "    </div>\n",
              "  </div>\n"
            ]
          },
          "metadata": {},
          "execution_count": 9
        }
      ],
      "source": [
        "from hazm import stopwords_list\n",
        "\n",
        "def removeStopWords(text):\n",
        "  # text = ' '.join([word for word in text.split() if word not in stopwords_list()])\n",
        "  text = ' '.join([word for word in text.split() if word not in stop_words])\n",
        "  return text\n",
        "\n",
        "df['cleaned_poems'] = df['poem'].apply(removeStopWords)\n",
        "df = df[['cleaned_poems', 'poet']]\n",
        "df.columns = ['poem', 'poet']\n",
        "df\n"
      ]
    },
    {
      "cell_type": "code",
      "source": [
        "df['cleaned_poems'] = df['poem'].apply(lambda t: normalizer.normalize(t))\n",
        "df = df[['cleaned_poems', 'poet']]\n",
        "df.columns = ['poem', 'poet']\n",
        "df"
      ],
      "metadata": {
        "colab": {
          "base_uri": "https://localhost:8080/",
          "height": 424
        },
        "id": "l-w6tClE19Qe",
        "outputId": "e4d425db-4332-46d8-a86a-d9a51c80a455"
      },
      "execution_count": null,
      "outputs": [
        {
          "output_type": "execute_result",
          "data": {
            "text/plain": [
              "                                                   poem     poet\n",
              "0     گل پیغام کای گل گریز شکر گشتی گلشن گل اصل شکری...  moulavi\n",
              "1     شاه عشق شهمات خشم مباش مکافات باغ فنا درآ بنگر...  moulavi\n",
              "2     بشنید مه آه سحر حشر حشر چرخ زند مه سینه دور قم...  moulavi\n",
              "3     سخن شکرنباتت قصه چشمه حیاتت رخ رخ نهی شاه ماتت...  moulavi\n",
              "4     اسیر شیشه جنیان دانا بریز خون دل خونیان صهبا ر...  moulavi\n",
              "...                                                 ...      ...\n",
              "2426  کاروانی شکر مصر شیراز یار سفرکرده بازآید بازآی...    saadi\n",
              "2427  دل بردی ساقی ساق فتنه انگیزت بوسه چندی زنخدان ...    saadi\n",
              "2428  دوش دور رویت جان جانم غم تاب ابر چشمم رخ سودای...    saadi\n",
              "2429  عشقبازی جهان آوردم گناهیست مسکین دل خبری غم دل...    saadi\n",
              "2430  مپندار عبارت کامی حاصل مرارت فراق افتد دوستدار...    saadi\n",
              "\n",
              "[2431 rows x 2 columns]"
            ],
            "text/html": [
              "\n",
              "  <div id=\"df-a947448d-b211-4db4-afe3-eccd7d1f6f6a\" class=\"colab-df-container\">\n",
              "    <div>\n",
              "<style scoped>\n",
              "    .dataframe tbody tr th:only-of-type {\n",
              "        vertical-align: middle;\n",
              "    }\n",
              "\n",
              "    .dataframe tbody tr th {\n",
              "        vertical-align: top;\n",
              "    }\n",
              "\n",
              "    .dataframe thead th {\n",
              "        text-align: right;\n",
              "    }\n",
              "</style>\n",
              "<table border=\"1\" class=\"dataframe\">\n",
              "  <thead>\n",
              "    <tr style=\"text-align: right;\">\n",
              "      <th></th>\n",
              "      <th>poem</th>\n",
              "      <th>poet</th>\n",
              "    </tr>\n",
              "  </thead>\n",
              "  <tbody>\n",
              "    <tr>\n",
              "      <th>0</th>\n",
              "      <td>گل پیغام کای گل گریز شکر گشتی گلشن گل اصل شکری...</td>\n",
              "      <td>moulavi</td>\n",
              "    </tr>\n",
              "    <tr>\n",
              "      <th>1</th>\n",
              "      <td>شاه عشق شهمات خشم مباش مکافات باغ فنا درآ بنگر...</td>\n",
              "      <td>moulavi</td>\n",
              "    </tr>\n",
              "    <tr>\n",
              "      <th>2</th>\n",
              "      <td>بشنید مه آه سحر حشر حشر چرخ زند مه سینه دور قم...</td>\n",
              "      <td>moulavi</td>\n",
              "    </tr>\n",
              "    <tr>\n",
              "      <th>3</th>\n",
              "      <td>سخن شکرنباتت قصه چشمه حیاتت رخ رخ نهی شاه ماتت...</td>\n",
              "      <td>moulavi</td>\n",
              "    </tr>\n",
              "    <tr>\n",
              "      <th>4</th>\n",
              "      <td>اسیر شیشه جنیان دانا بریز خون دل خونیان صهبا ر...</td>\n",
              "      <td>moulavi</td>\n",
              "    </tr>\n",
              "    <tr>\n",
              "      <th>...</th>\n",
              "      <td>...</td>\n",
              "      <td>...</td>\n",
              "    </tr>\n",
              "    <tr>\n",
              "      <th>2426</th>\n",
              "      <td>کاروانی شکر مصر شیراز یار سفرکرده بازآید بازآی...</td>\n",
              "      <td>saadi</td>\n",
              "    </tr>\n",
              "    <tr>\n",
              "      <th>2427</th>\n",
              "      <td>دل بردی ساقی ساق فتنه انگیزت بوسه چندی زنخدان ...</td>\n",
              "      <td>saadi</td>\n",
              "    </tr>\n",
              "    <tr>\n",
              "      <th>2428</th>\n",
              "      <td>دوش دور رویت جان جانم غم تاب ابر چشمم رخ سودای...</td>\n",
              "      <td>saadi</td>\n",
              "    </tr>\n",
              "    <tr>\n",
              "      <th>2429</th>\n",
              "      <td>عشقبازی جهان آوردم گناهیست مسکین دل خبری غم دل...</td>\n",
              "      <td>saadi</td>\n",
              "    </tr>\n",
              "    <tr>\n",
              "      <th>2430</th>\n",
              "      <td>مپندار عبارت کامی حاصل مرارت فراق افتد دوستدار...</td>\n",
              "      <td>saadi</td>\n",
              "    </tr>\n",
              "  </tbody>\n",
              "</table>\n",
              "<p>2431 rows × 2 columns</p>\n",
              "</div>\n",
              "    <div class=\"colab-df-buttons\">\n",
              "\n",
              "  <div class=\"colab-df-container\">\n",
              "    <button class=\"colab-df-convert\" onclick=\"convertToInteractive('df-a947448d-b211-4db4-afe3-eccd7d1f6f6a')\"\n",
              "            title=\"Convert this dataframe to an interactive table.\"\n",
              "            style=\"display:none;\">\n",
              "\n",
              "  <svg xmlns=\"http://www.w3.org/2000/svg\" height=\"24px\" viewBox=\"0 -960 960 960\">\n",
              "    <path d=\"M120-120v-720h720v720H120Zm60-500h600v-160H180v160Zm220 220h160v-160H400v160Zm0 220h160v-160H400v160ZM180-400h160v-160H180v160Zm440 0h160v-160H620v160ZM180-180h160v-160H180v160Zm440 0h160v-160H620v160Z\"/>\n",
              "  </svg>\n",
              "    </button>\n",
              "\n",
              "  <style>\n",
              "    .colab-df-container {\n",
              "      display:flex;\n",
              "      gap: 12px;\n",
              "    }\n",
              "\n",
              "    .colab-df-convert {\n",
              "      background-color: #E8F0FE;\n",
              "      border: none;\n",
              "      border-radius: 50%;\n",
              "      cursor: pointer;\n",
              "      display: none;\n",
              "      fill: #1967D2;\n",
              "      height: 32px;\n",
              "      padding: 0 0 0 0;\n",
              "      width: 32px;\n",
              "    }\n",
              "\n",
              "    .colab-df-convert:hover {\n",
              "      background-color: #E2EBFA;\n",
              "      box-shadow: 0px 1px 2px rgba(60, 64, 67, 0.3), 0px 1px 3px 1px rgba(60, 64, 67, 0.15);\n",
              "      fill: #174EA6;\n",
              "    }\n",
              "\n",
              "    .colab-df-buttons div {\n",
              "      margin-bottom: 4px;\n",
              "    }\n",
              "\n",
              "    [theme=dark] .colab-df-convert {\n",
              "      background-color: #3B4455;\n",
              "      fill: #D2E3FC;\n",
              "    }\n",
              "\n",
              "    [theme=dark] .colab-df-convert:hover {\n",
              "      background-color: #434B5C;\n",
              "      box-shadow: 0px 1px 3px 1px rgba(0, 0, 0, 0.15);\n",
              "      filter: drop-shadow(0px 1px 2px rgba(0, 0, 0, 0.3));\n",
              "      fill: #FFFFFF;\n",
              "    }\n",
              "  </style>\n",
              "\n",
              "    <script>\n",
              "      const buttonEl =\n",
              "        document.querySelector('#df-a947448d-b211-4db4-afe3-eccd7d1f6f6a button.colab-df-convert');\n",
              "      buttonEl.style.display =\n",
              "        google.colab.kernel.accessAllowed ? 'block' : 'none';\n",
              "\n",
              "      async function convertToInteractive(key) {\n",
              "        const element = document.querySelector('#df-a947448d-b211-4db4-afe3-eccd7d1f6f6a');\n",
              "        const dataTable =\n",
              "          await google.colab.kernel.invokeFunction('convertToInteractive',\n",
              "                                                    [key], {});\n",
              "        if (!dataTable) return;\n",
              "\n",
              "        const docLinkHtml = 'Like what you see? Visit the ' +\n",
              "          '<a target=\"_blank\" href=https://colab.research.google.com/notebooks/data_table.ipynb>data table notebook</a>'\n",
              "          + ' to learn more about interactive tables.';\n",
              "        element.innerHTML = '';\n",
              "        dataTable['output_type'] = 'display_data';\n",
              "        await google.colab.output.renderOutput(dataTable, element);\n",
              "        const docLink = document.createElement('div');\n",
              "        docLink.innerHTML = docLinkHtml;\n",
              "        element.appendChild(docLink);\n",
              "      }\n",
              "    </script>\n",
              "  </div>\n",
              "\n",
              "\n",
              "<div id=\"df-4b580122-da15-4650-a1d0-29ccefc3c108\">\n",
              "  <button class=\"colab-df-quickchart\" onclick=\"quickchart('df-4b580122-da15-4650-a1d0-29ccefc3c108')\"\n",
              "            title=\"Suggest charts.\"\n",
              "            style=\"display:none;\">\n",
              "\n",
              "<svg xmlns=\"http://www.w3.org/2000/svg\" height=\"24px\"viewBox=\"0 0 24 24\"\n",
              "     width=\"24px\">\n",
              "    <g>\n",
              "        <path d=\"M19 3H5c-1.1 0-2 .9-2 2v14c0 1.1.9 2 2 2h14c1.1 0 2-.9 2-2V5c0-1.1-.9-2-2-2zM9 17H7v-7h2v7zm4 0h-2V7h2v10zm4 0h-2v-4h2v4z\"/>\n",
              "    </g>\n",
              "</svg>\n",
              "  </button>\n",
              "\n",
              "<style>\n",
              "  .colab-df-quickchart {\n",
              "    background-color: #E8F0FE;\n",
              "    border: none;\n",
              "    border-radius: 50%;\n",
              "    cursor: pointer;\n",
              "    display: none;\n",
              "    fill: #1967D2;\n",
              "    height: 32px;\n",
              "    padding: 0 0 0 0;\n",
              "    width: 32px;\n",
              "  }\n",
              "\n",
              "  .colab-df-quickchart:hover {\n",
              "    background-color: #E2EBFA;\n",
              "    box-shadow: 0px 1px 2px rgba(60, 64, 67, 0.3), 0px 1px 3px 1px rgba(60, 64, 67, 0.15);\n",
              "    fill: #174EA6;\n",
              "  }\n",
              "\n",
              "  [theme=dark] .colab-df-quickchart {\n",
              "    background-color: #3B4455;\n",
              "    fill: #D2E3FC;\n",
              "  }\n",
              "\n",
              "  [theme=dark] .colab-df-quickchart:hover {\n",
              "    background-color: #434B5C;\n",
              "    box-shadow: 0px 1px 3px 1px rgba(0, 0, 0, 0.15);\n",
              "    filter: drop-shadow(0px 1px 2px rgba(0, 0, 0, 0.3));\n",
              "    fill: #FFFFFF;\n",
              "  }\n",
              "</style>\n",
              "\n",
              "  <script>\n",
              "    async function quickchart(key) {\n",
              "      const charts = await google.colab.kernel.invokeFunction(\n",
              "          'suggestCharts', [key], {});\n",
              "    }\n",
              "    (() => {\n",
              "      let quickchartButtonEl =\n",
              "        document.querySelector('#df-4b580122-da15-4650-a1d0-29ccefc3c108 button');\n",
              "      quickchartButtonEl.style.display =\n",
              "        google.colab.kernel.accessAllowed ? 'block' : 'none';\n",
              "    })();\n",
              "  </script>\n",
              "</div>\n",
              "    </div>\n",
              "  </div>\n"
            ]
          },
          "metadata": {},
          "execution_count": 10
        }
      ]
    },
    {
      "cell_type": "code",
      "source": [
        "labels = list(sorted(df['poet'].unique()))\n",
        "labels"
      ],
      "metadata": {
        "colab": {
          "base_uri": "https://localhost:8080/"
        },
        "id": "xsV_iptzHje6",
        "outputId": "bd0fe26f-833a-4aa5-9ff2-fdb4be15e653"
      },
      "execution_count": null,
      "outputs": [
        {
          "output_type": "execute_result",
          "data": {
            "text/plain": [
              "['attar', 'hafez', 'moulavi', 'saadi', 'sanaee']"
            ]
          },
          "metadata": {},
          "execution_count": 11
        }
      ]
    },
    {
      "cell_type": "code",
      "execution_count": null,
      "metadata": {
        "colab": {
          "base_uri": "https://localhost:8080/",
          "height": 424
        },
        "id": "WUqqNAHS_tZC",
        "outputId": "92d3e719-5bcf-4690-e40a-2ba5f276f04e"
      },
      "outputs": [
        {
          "output_type": "execute_result",
          "data": {
            "text/plain": [
              "                                                   poem     poet  label_id\n",
              "0     گل پیغام کای گل گریز شکر گشتی گلشن گل اصل شکری...  moulavi         2\n",
              "1     شاه عشق شهمات خشم مباش مکافات باغ فنا درآ بنگر...  moulavi         2\n",
              "2     بشنید مه آه سحر حشر حشر چرخ زند مه سینه دور قم...  moulavi         2\n",
              "3     سخن شکرنباتت قصه چشمه حیاتت رخ رخ نهی شاه ماتت...  moulavi         2\n",
              "4     اسیر شیشه جنیان دانا بریز خون دل خونیان صهبا ر...  moulavi         2\n",
              "...                                                 ...      ...       ...\n",
              "2426  کاروانی شکر مصر شیراز یار سفرکرده بازآید بازآی...    saadi         3\n",
              "2427  دل بردی ساقی ساق فتنه انگیزت بوسه چندی زنخدان ...    saadi         3\n",
              "2428  دوش دور رویت جان جانم غم تاب ابر چشمم رخ سودای...    saadi         3\n",
              "2429  عشقبازی جهان آوردم گناهیست مسکین دل خبری غم دل...    saadi         3\n",
              "2430  مپندار عبارت کامی حاصل مرارت فراق افتد دوستدار...    saadi         3\n",
              "\n",
              "[2431 rows x 3 columns]"
            ],
            "text/html": [
              "\n",
              "  <div id=\"df-25bee4f1-6beb-419e-b835-2b0958c3206e\" class=\"colab-df-container\">\n",
              "    <div>\n",
              "<style scoped>\n",
              "    .dataframe tbody tr th:only-of-type {\n",
              "        vertical-align: middle;\n",
              "    }\n",
              "\n",
              "    .dataframe tbody tr th {\n",
              "        vertical-align: top;\n",
              "    }\n",
              "\n",
              "    .dataframe thead th {\n",
              "        text-align: right;\n",
              "    }\n",
              "</style>\n",
              "<table border=\"1\" class=\"dataframe\">\n",
              "  <thead>\n",
              "    <tr style=\"text-align: right;\">\n",
              "      <th></th>\n",
              "      <th>poem</th>\n",
              "      <th>poet</th>\n",
              "      <th>label_id</th>\n",
              "    </tr>\n",
              "  </thead>\n",
              "  <tbody>\n",
              "    <tr>\n",
              "      <th>0</th>\n",
              "      <td>گل پیغام کای گل گریز شکر گشتی گلشن گل اصل شکری...</td>\n",
              "      <td>moulavi</td>\n",
              "      <td>2</td>\n",
              "    </tr>\n",
              "    <tr>\n",
              "      <th>1</th>\n",
              "      <td>شاه عشق شهمات خشم مباش مکافات باغ فنا درآ بنگر...</td>\n",
              "      <td>moulavi</td>\n",
              "      <td>2</td>\n",
              "    </tr>\n",
              "    <tr>\n",
              "      <th>2</th>\n",
              "      <td>بشنید مه آه سحر حشر حشر چرخ زند مه سینه دور قم...</td>\n",
              "      <td>moulavi</td>\n",
              "      <td>2</td>\n",
              "    </tr>\n",
              "    <tr>\n",
              "      <th>3</th>\n",
              "      <td>سخن شکرنباتت قصه چشمه حیاتت رخ رخ نهی شاه ماتت...</td>\n",
              "      <td>moulavi</td>\n",
              "      <td>2</td>\n",
              "    </tr>\n",
              "    <tr>\n",
              "      <th>4</th>\n",
              "      <td>اسیر شیشه جنیان دانا بریز خون دل خونیان صهبا ر...</td>\n",
              "      <td>moulavi</td>\n",
              "      <td>2</td>\n",
              "    </tr>\n",
              "    <tr>\n",
              "      <th>...</th>\n",
              "      <td>...</td>\n",
              "      <td>...</td>\n",
              "      <td>...</td>\n",
              "    </tr>\n",
              "    <tr>\n",
              "      <th>2426</th>\n",
              "      <td>کاروانی شکر مصر شیراز یار سفرکرده بازآید بازآی...</td>\n",
              "      <td>saadi</td>\n",
              "      <td>3</td>\n",
              "    </tr>\n",
              "    <tr>\n",
              "      <th>2427</th>\n",
              "      <td>دل بردی ساقی ساق فتنه انگیزت بوسه چندی زنخدان ...</td>\n",
              "      <td>saadi</td>\n",
              "      <td>3</td>\n",
              "    </tr>\n",
              "    <tr>\n",
              "      <th>2428</th>\n",
              "      <td>دوش دور رویت جان جانم غم تاب ابر چشمم رخ سودای...</td>\n",
              "      <td>saadi</td>\n",
              "      <td>3</td>\n",
              "    </tr>\n",
              "    <tr>\n",
              "      <th>2429</th>\n",
              "      <td>عشقبازی جهان آوردم گناهیست مسکین دل خبری غم دل...</td>\n",
              "      <td>saadi</td>\n",
              "      <td>3</td>\n",
              "    </tr>\n",
              "    <tr>\n",
              "      <th>2430</th>\n",
              "      <td>مپندار عبارت کامی حاصل مرارت فراق افتد دوستدار...</td>\n",
              "      <td>saadi</td>\n",
              "      <td>3</td>\n",
              "    </tr>\n",
              "  </tbody>\n",
              "</table>\n",
              "<p>2431 rows × 3 columns</p>\n",
              "</div>\n",
              "    <div class=\"colab-df-buttons\">\n",
              "\n",
              "  <div class=\"colab-df-container\">\n",
              "    <button class=\"colab-df-convert\" onclick=\"convertToInteractive('df-25bee4f1-6beb-419e-b835-2b0958c3206e')\"\n",
              "            title=\"Convert this dataframe to an interactive table.\"\n",
              "            style=\"display:none;\">\n",
              "\n",
              "  <svg xmlns=\"http://www.w3.org/2000/svg\" height=\"24px\" viewBox=\"0 -960 960 960\">\n",
              "    <path d=\"M120-120v-720h720v720H120Zm60-500h600v-160H180v160Zm220 220h160v-160H400v160Zm0 220h160v-160H400v160ZM180-400h160v-160H180v160Zm440 0h160v-160H620v160ZM180-180h160v-160H180v160Zm440 0h160v-160H620v160Z\"/>\n",
              "  </svg>\n",
              "    </button>\n",
              "\n",
              "  <style>\n",
              "    .colab-df-container {\n",
              "      display:flex;\n",
              "      gap: 12px;\n",
              "    }\n",
              "\n",
              "    .colab-df-convert {\n",
              "      background-color: #E8F0FE;\n",
              "      border: none;\n",
              "      border-radius: 50%;\n",
              "      cursor: pointer;\n",
              "      display: none;\n",
              "      fill: #1967D2;\n",
              "      height: 32px;\n",
              "      padding: 0 0 0 0;\n",
              "      width: 32px;\n",
              "    }\n",
              "\n",
              "    .colab-df-convert:hover {\n",
              "      background-color: #E2EBFA;\n",
              "      box-shadow: 0px 1px 2px rgba(60, 64, 67, 0.3), 0px 1px 3px 1px rgba(60, 64, 67, 0.15);\n",
              "      fill: #174EA6;\n",
              "    }\n",
              "\n",
              "    .colab-df-buttons div {\n",
              "      margin-bottom: 4px;\n",
              "    }\n",
              "\n",
              "    [theme=dark] .colab-df-convert {\n",
              "      background-color: #3B4455;\n",
              "      fill: #D2E3FC;\n",
              "    }\n",
              "\n",
              "    [theme=dark] .colab-df-convert:hover {\n",
              "      background-color: #434B5C;\n",
              "      box-shadow: 0px 1px 3px 1px rgba(0, 0, 0, 0.15);\n",
              "      filter: drop-shadow(0px 1px 2px rgba(0, 0, 0, 0.3));\n",
              "      fill: #FFFFFF;\n",
              "    }\n",
              "  </style>\n",
              "\n",
              "    <script>\n",
              "      const buttonEl =\n",
              "        document.querySelector('#df-25bee4f1-6beb-419e-b835-2b0958c3206e button.colab-df-convert');\n",
              "      buttonEl.style.display =\n",
              "        google.colab.kernel.accessAllowed ? 'block' : 'none';\n",
              "\n",
              "      async function convertToInteractive(key) {\n",
              "        const element = document.querySelector('#df-25bee4f1-6beb-419e-b835-2b0958c3206e');\n",
              "        const dataTable =\n",
              "          await google.colab.kernel.invokeFunction('convertToInteractive',\n",
              "                                                    [key], {});\n",
              "        if (!dataTable) return;\n",
              "\n",
              "        const docLinkHtml = 'Like what you see? Visit the ' +\n",
              "          '<a target=\"_blank\" href=https://colab.research.google.com/notebooks/data_table.ipynb>data table notebook</a>'\n",
              "          + ' to learn more about interactive tables.';\n",
              "        element.innerHTML = '';\n",
              "        dataTable['output_type'] = 'display_data';\n",
              "        await google.colab.output.renderOutput(dataTable, element);\n",
              "        const docLink = document.createElement('div');\n",
              "        docLink.innerHTML = docLinkHtml;\n",
              "        element.appendChild(docLink);\n",
              "      }\n",
              "    </script>\n",
              "  </div>\n",
              "\n",
              "\n",
              "<div id=\"df-14c8c591-17fc-4d6b-a59b-4496e02ca3ed\">\n",
              "  <button class=\"colab-df-quickchart\" onclick=\"quickchart('df-14c8c591-17fc-4d6b-a59b-4496e02ca3ed')\"\n",
              "            title=\"Suggest charts.\"\n",
              "            style=\"display:none;\">\n",
              "\n",
              "<svg xmlns=\"http://www.w3.org/2000/svg\" height=\"24px\"viewBox=\"0 0 24 24\"\n",
              "     width=\"24px\">\n",
              "    <g>\n",
              "        <path d=\"M19 3H5c-1.1 0-2 .9-2 2v14c0 1.1.9 2 2 2h14c1.1 0 2-.9 2-2V5c0-1.1-.9-2-2-2zM9 17H7v-7h2v7zm4 0h-2V7h2v10zm4 0h-2v-4h2v4z\"/>\n",
              "    </g>\n",
              "</svg>\n",
              "  </button>\n",
              "\n",
              "<style>\n",
              "  .colab-df-quickchart {\n",
              "    background-color: #E8F0FE;\n",
              "    border: none;\n",
              "    border-radius: 50%;\n",
              "    cursor: pointer;\n",
              "    display: none;\n",
              "    fill: #1967D2;\n",
              "    height: 32px;\n",
              "    padding: 0 0 0 0;\n",
              "    width: 32px;\n",
              "  }\n",
              "\n",
              "  .colab-df-quickchart:hover {\n",
              "    background-color: #E2EBFA;\n",
              "    box-shadow: 0px 1px 2px rgba(60, 64, 67, 0.3), 0px 1px 3px 1px rgba(60, 64, 67, 0.15);\n",
              "    fill: #174EA6;\n",
              "  }\n",
              "\n",
              "  [theme=dark] .colab-df-quickchart {\n",
              "    background-color: #3B4455;\n",
              "    fill: #D2E3FC;\n",
              "  }\n",
              "\n",
              "  [theme=dark] .colab-df-quickchart:hover {\n",
              "    background-color: #434B5C;\n",
              "    box-shadow: 0px 1px 3px 1px rgba(0, 0, 0, 0.15);\n",
              "    filter: drop-shadow(0px 1px 2px rgba(0, 0, 0, 0.3));\n",
              "    fill: #FFFFFF;\n",
              "  }\n",
              "</style>\n",
              "\n",
              "  <script>\n",
              "    async function quickchart(key) {\n",
              "      const charts = await google.colab.kernel.invokeFunction(\n",
              "          'suggestCharts', [key], {});\n",
              "    }\n",
              "    (() => {\n",
              "      let quickchartButtonEl =\n",
              "        document.querySelector('#df-14c8c591-17fc-4d6b-a59b-4496e02ca3ed button');\n",
              "      quickchartButtonEl.style.display =\n",
              "        google.colab.kernel.accessAllowed ? 'block' : 'none';\n",
              "    })();\n",
              "  </script>\n",
              "</div>\n",
              "    </div>\n",
              "  </div>\n"
            ]
          },
          "metadata": {},
          "execution_count": 12
        }
      ],
      "source": [
        "df['label_id'] = df['poet'].apply(lambda t: labels.index(t))\n",
        "df"
      ]
    },
    {
      "cell_type": "code",
      "execution_count": null,
      "metadata": {
        "colab": {
          "base_uri": "https://localhost:8080/"
        },
        "id": "ki-2sGzfAZQb",
        "outputId": "76821431-4fd0-4da9-bacb-22fee90d471e"
      },
      "outputs": [
        {
          "output_type": "stream",
          "name": "stdout",
          "text": [
            "label2id: {'attar': 0, 'hafez': 1, 'moulavi': 2, 'saadi': 3, 'sanaee': 4}\n",
            "id2label: {0: 'attar', 1: 'hafez', 2: 'moulavi', 3: 'saadi', 4: 'sanaee'}\n"
          ]
        }
      ],
      "source": [
        "label2id = {label: i for i, label in enumerate(labels)}\n",
        "id2label = {v: k for k, v in label2id.items()}\n",
        "\n",
        "print(f'label2id: {label2id}')\n",
        "print(f'id2label: {id2label}')"
      ]
    },
    {
      "cell_type": "code",
      "execution_count": null,
      "metadata": {
        "id": "NUm76A1uw3CR"
      },
      "outputs": [],
      "source": [
        "from sklearn.model_selection import train_test_split\n",
        "train_data, test_data = train_test_split(df, test_size=0.2, random_state=1, shuffle=True)\n",
        "val_data, test_data = train_test_split(test_data, test_size=0.1, random_state=1, shuffle=True)"
      ]
    },
    {
      "cell_type": "code",
      "execution_count": null,
      "metadata": {
        "id": "BQQQcBM0xLIH"
      },
      "outputs": [],
      "source": [
        "!pip install transformers"
      ]
    },
    {
      "cell_type": "code",
      "source": [
        "from transformers import AutoConfig, AutoTokenizer\n",
        "\n",
        "MODEL_NAME = 'm3hrdadfi/albert-fa-base-v2-clf-digimag'\n",
        "tokenizer = AutoTokenizer.from_pretrained(MODEL_NAME)"
      ],
      "metadata": {
        "id": "d335ZdiLvE9L"
      },
      "execution_count": null,
      "outputs": []
    },
    {
      "cell_type": "code",
      "source": [
        "SEQ_LEN = 256\n",
        "BATCH_SIZE = 32\n",
        "LEARNING_RATE = 2e-5"
      ],
      "metadata": {
        "id": "eKTQQaJ7vzSd"
      },
      "execution_count": null,
      "outputs": []
    },
    {
      "cell_type": "code",
      "execution_count": null,
      "metadata": {
        "id": "i6N_rnkQyVxm"
      },
      "outputs": [],
      "source": [
        "tokens = tokenizer(train_data['poem'].tolist(), max_length=SEQ_LEN,\n",
        "                  truncation=True, padding='max_length',\n",
        "                  add_special_tokens=True,\n",
        "                  return_tensors='tf')"
      ]
    },
    {
      "cell_type": "code",
      "execution_count": null,
      "metadata": {
        "id": "fPRtQv7tyePw"
      },
      "outputs": [],
      "source": [
        "val_data_tokens = tokenizer(val_data['poem'].tolist(), max_length=SEQ_LEN,\n",
        "                  truncation=True, padding='max_length',\n",
        "                  add_special_tokens=True,\n",
        "                  return_tensors='tf')"
      ]
    },
    {
      "cell_type": "code",
      "source": [
        "test_data_tokens = tokenizer(test_data['poem'].tolist(), max_length=SEQ_LEN,\n",
        "                  truncation=True, padding='max_length',\n",
        "                  add_special_tokens=True,\n",
        "                  return_tensors='tf')"
      ],
      "metadata": {
        "id": "1He5UXhx5sl1"
      },
      "execution_count": null,
      "outputs": []
    },
    {
      "cell_type": "code",
      "source": [
        "from sklearn.preprocessing import LabelEncoder\n",
        "from tensorflow.keras.utils import to_categorical\n",
        "\n",
        "le = LabelEncoder()\n",
        "y_train_le = le.fit_transform(train_data['label_id'])\n",
        "y_valid_le  = le.fit_transform(val_data['label_id'])\n",
        "y_test_le = le.fit_transform(test_data['label_id'])\n",
        "\n",
        "hotlabels = to_categorical(y_train_le)\n",
        "test_labels = to_categorical(y_test_le)\n",
        "val_labels = to_categorical(y_valid_le)"
      ],
      "metadata": {
        "id": "Uww7q6Wae2Cv"
      },
      "execution_count": null,
      "outputs": []
    },
    {
      "cell_type": "code",
      "source": [
        "import tensorflow as tf\n",
        "\n",
        "def map_func(input_ids, attention_mask, labels):\n",
        "    return ({'input_ids': input_ids,\n",
        "            'attention_mask': attention_mask}, labels)\n",
        "\n",
        "\n",
        "train_dataset = tf.data.Dataset.from_tensor_slices((tokens['input_ids'], tokens['attention_mask'], hotlabels))\n",
        "train_dataset = train_dataset.map(map_func)\n",
        "train_dataset = train_dataset.shuffle(100).batch(BATCH_SIZE, drop_remainder=True)\n",
        "\n",
        "\n",
        "val_dataset = tf.data.Dataset.from_tensor_slices((val_data_tokens['input_ids'], val_data_tokens['attention_mask'], val_labels))\n",
        "val_dataset = val_dataset.map(map_func)\n",
        "val_dataset = val_dataset.shuffle(100).batch(BATCH_SIZE, drop_remainder=True)"
      ],
      "metadata": {
        "id": "-CaSUchZwSrJ"
      },
      "execution_count": null,
      "outputs": []
    },
    {
      "cell_type": "code",
      "source": [
        "test_dataset = tf.data.Dataset.from_tensor_slices((test_data_tokens['input_ids'], test_data_tokens['attention_mask'], test_labels))\n",
        "test_dataset = test_dataset.map(map_func)\n",
        "test_dataset = test_dataset.shuffle(100).batch(BATCH_SIZE, drop_remainder=True)"
      ],
      "metadata": {
        "id": "DiMRm8d357XL"
      },
      "execution_count": null,
      "outputs": []
    },
    {
      "cell_type": "code",
      "source": [
        "from transformers import TFAutoModel, TFAlbertForSequenceClassification\n",
        "classificationModel = TFAlbertForSequenceClassification.from_pretrained(MODEL_NAME)"
      ],
      "metadata": {
        "id": "UmD9AMyyw5Yq",
        "colab": {
          "base_uri": "https://localhost:8080/"
        },
        "outputId": "6ecc5ad4-a735-443e-c7d0-fc3b881f531e"
      },
      "execution_count": null,
      "outputs": [
        {
          "output_type": "stream",
          "name": "stderr",
          "text": [
            "Some layers from the model checkpoint at m3hrdadfi/albert-fa-base-v2-clf-digimag were not used when initializing TFAlbertForSequenceClassification: ['dropout_7']\n",
            "- This IS expected if you are initializing TFAlbertForSequenceClassification from the checkpoint of a model trained on another task or with another architecture (e.g. initializing a BertForSequenceClassification model from a BertForPreTraining model).\n",
            "- This IS NOT expected if you are initializing TFAlbertForSequenceClassification from the checkpoint of a model that you expect to be exactly identical (initializing a BertForSequenceClassification model from a BertForSequenceClassification model).\n",
            "All the layers of TFAlbertForSequenceClassification were initialized from the model checkpoint at m3hrdadfi/albert-fa-base-v2-clf-digimag.\n",
            "If your task is similar to the task the model of the checkpoint was trained on, you can already use TFAlbertForSequenceClassification for predictions without further training.\n"
          ]
        }
      ]
    },
    {
      "cell_type": "code",
      "source": [
        "input_ids = tf.keras.layers.Input(shape=(SEQ_LEN,), name='input_ids', dtype='int32')\n",
        "mask = tf.keras.layers.Input(shape=(SEQ_LEN,), name='attention_mask', dtype='int32')\n",
        "classificationResult = classificationModel([input_ids, mask]).logits\n",
        "Final_output = tf.keras.layers.Dense(5, activation ='softmax', trainable=True)(classificationResult)"
      ],
      "metadata": {
        "id": "AkIJ_D20yy2z"
      },
      "execution_count": null,
      "outputs": []
    },
    {
      "cell_type": "code",
      "source": [
        "model = tf.keras.Model(inputs=[input_ids, mask], outputs=Final_output)"
      ],
      "metadata": {
        "id": "p-SQkok33vxi"
      },
      "execution_count": null,
      "outputs": []
    },
    {
      "cell_type": "code",
      "source": [
        "model.summary()"
      ],
      "metadata": {
        "colab": {
          "base_uri": "https://localhost:8080/"
        },
        "id": "jKhBVU4P3y1K",
        "outputId": "b75dc862-31e7-4114-9e69-7d36396479fc"
      },
      "execution_count": null,
      "outputs": [
        {
          "output_type": "stream",
          "name": "stdout",
          "text": [
            "Model: \"model\"\n",
            "__________________________________________________________________________________________________\n",
            " Layer (type)                Output Shape                 Param #   Connected to                  \n",
            "==================================================================================================\n",
            " input_ids (InputLayer)      [(None, 256)]                0         []                            \n",
            "                                                                                                  \n",
            " attention_mask (InputLayer  [(None, 256)]                0         []                            \n",
            " )                                                                                                \n",
            "                                                                                                  \n",
            " tf_albert_for_sequence_cla  TFSequenceClassifierOutput   1808896   ['input_ids[0][0]',           \n",
            " ssification (TFAlbertForSe  (loss=None, logits=(None,    7          'attention_mask[0][0]']      \n",
            " quenceClassification)       7),                                                                  \n",
            "                              hidden_states=None, atten                                           \n",
            "                             tions=None)                                                          \n",
            "                                                                                                  \n",
            " dense_1 (Dense)             (None, 5)                    40        ['tf_albert_for_sequence_class\n",
            "                                                                    ification[1][0]']             \n",
            "                                                                                                  \n",
            "==================================================================================================\n",
            "Total params: 18089007 (69.00 MB)\n",
            "Trainable params: 18089007 (69.00 MB)\n",
            "Non-trainable params: 0 (0.00 Byte)\n",
            "__________________________________________________________________________________________________\n"
          ]
        }
      ]
    },
    {
      "cell_type": "code",
      "source": [
        "optimizer = tf.keras.optimizers.Adam(learning_rate=LEARNING_RATE) #decay=1e-6\n",
        "loss = tf.keras.losses.CategoricalCrossentropy()\n",
        "acc = tf.keras.metrics.CategoricalAccuracy('accuracy')\n",
        "\n",
        "model.compile(optimizer=optimizer, loss=loss, metrics=[acc])"
      ],
      "metadata": {
        "id": "HS5mbWIF351B"
      },
      "execution_count": null,
      "outputs": []
    },
    {
      "cell_type": "code",
      "source": [
        "history = model.fit(train_dataset, validation_data=val_dataset, epochs=5)"
      ],
      "metadata": {
        "colab": {
          "base_uri": "https://localhost:8080/"
        },
        "id": "qEQZjDl1gKRc",
        "outputId": "8108b0ee-82ce-4d5d-ca8f-27d3b41c3634"
      },
      "execution_count": null,
      "outputs": [
        {
          "output_type": "stream",
          "name": "stdout",
          "text": [
            "Epoch 1/5\n",
            "60/60 [==============================] - 115s 2s/step - loss: 1.4839 - accuracy: 0.3651 - val_loss: 0.9954 - val_accuracy: 0.6683\n",
            "Epoch 2/5\n",
            "60/60 [==============================] - 104s 2s/step - loss: 0.5146 - accuracy: 0.8255 - val_loss: 0.2905 - val_accuracy: 0.9111\n",
            "Epoch 3/5\n",
            "60/60 [==============================] - 103s 2s/step - loss: 0.2531 - accuracy: 0.9208 - val_loss: 0.2508 - val_accuracy: 0.9135\n",
            "Epoch 4/5\n",
            "60/60 [==============================] - 100s 2s/step - loss: 0.1483 - accuracy: 0.9578 - val_loss: 0.2070 - val_accuracy: 0.9303\n",
            "Epoch 5/5\n",
            "60/60 [==============================] - 100s 2s/step - loss: 0.0740 - accuracy: 0.9833 - val_loss: 0.2277 - val_accuracy: 0.9303\n"
          ]
        }
      ]
    },
    {
      "cell_type": "code",
      "source": [
        "test_loss, test_accuracy = model.evaluate(test_dataset)"
      ],
      "metadata": {
        "colab": {
          "base_uri": "https://localhost:8080/"
        },
        "id": "3I9W_XAz6OUI",
        "outputId": "9cf1da71-593f-438b-ada2-42cf2e23e104"
      },
      "execution_count": null,
      "outputs": [
        {
          "output_type": "stream",
          "name": "stdout",
          "text": [
            "1/1 [==============================] - 1s 680ms/step - loss: 0.1821 - accuracy: 0.9688\n"
          ]
        }
      ]
    },
    {
      "cell_type": "code",
      "source": [
        "print(f\"Test Loss: {test_loss:.4f}\")\n",
        "print(f\"Test Accuracy: {test_accuracy:.4f}\")"
      ],
      "metadata": {
        "colab": {
          "base_uri": "https://localhost:8080/"
        },
        "id": "-rf4jZNP6XQj",
        "outputId": "d792f839-31b1-4c7d-d29c-d5071ac1863e"
      },
      "execution_count": null,
      "outputs": [
        {
          "output_type": "stream",
          "name": "stdout",
          "text": [
            "Test Loss: 0.1821\n",
            "Test Accuracy: 0.9688\n"
          ]
        }
      ]
    },
    {
      "cell_type": "code",
      "source": [
        "plt.title('Loss')\n",
        "plt.plot(history.history['loss'], label='train')\n",
        "plt.plot(history.history['val_loss'], label='test')\n",
        "plt.legend()\n",
        "plt.show();"
      ],
      "metadata": {
        "colab": {
          "base_uri": "https://localhost:8080/",
          "height": 452
        },
        "id": "Yk2GR27z6iQh",
        "outputId": "7691a578-2575-40ff-89f2-6bbed952a296"
      },
      "execution_count": null,
      "outputs": [
        {
          "output_type": "display_data",
          "data": {
            "text/plain": [
              "<Figure size 640x480 with 1 Axes>"
            ],
            "image/png": "[encoded data removed]"
          },
          "metadata": {}
        }
      ]
    },
    {
      "cell_type": "code",
      "source": [
        "def prep_data(text):\n",
        "    tokens = tokenizer(text, max_length=SEQ_LEN, truncation=True, padding='max_length', add_special_tokens=True, return_tensors='tf')\n",
        "    return ({'input_ids': tokens['input_ids'], 'attention_mask': tokens['attention_mask']})"
      ],
      "metadata": {
        "id": "9E1ItLvpIV__"
      },
      "execution_count": null,
      "outputs": []
    },
    {
      "cell_type": "code",
      "source": [
        "import numpy as np\n",
        "\n",
        "test_data['predicted-label'] = None\n",
        "# i = 0\n",
        "for i, text in zip(test_data.index, test_data['poem']):\n",
        "    tokens = prep_data(text)\n",
        "    probs = model.predict(tokens)\n",
        "    pred = np.argmax(probs)\n",
        "    test_data['predicted-label'][i] = pred\n"
      ],
      "metadata": {
        "id": "q6LEl4LOH3gp"
      },
      "execution_count": null,
      "outputs": []
    },
    {
      "cell_type": "code",
      "source": [
        "testlist = test_data['label_id'].tolist()\n",
        "predlist = test_data['predicted-label'].tolist()"
      ],
      "metadata": {
        "id": "weCWj2wxTgfA"
      },
      "execution_count": null,
      "outputs": []
    },
    {
      "cell_type": "code",
      "source": [
        "from sklearn.metrics import classification_report\n",
        "from sklearn.metrics import f1_score\n",
        "\n",
        "print(classification_report(testlist, predlist, target_names=labels))"
      ],
      "metadata": {
        "colab": {
          "base_uri": "https://localhost:8080/"
        },
        "outputId": "7c92fced-5a30-4e15-9321-f0184d3f8233",
        "id": "u47LEG76jp6a"
      },
      "execution_count": null,
      "outputs": [
        {
          "output_type": "stream",
          "name": "stdout",
          "text": [
            "              precision    recall  f1-score   support\n",
            "\n",
            "       attar       1.00      1.00      1.00        10\n",
            "       hafez       1.00      1.00      1.00        11\n",
            "     moulavi       0.89      0.80      0.84        10\n",
            "       saadi       0.88      1.00      0.93         7\n",
            "      sanaee       0.91      0.91      0.91        11\n",
            "\n",
            "    accuracy                           0.94        49\n",
            "   macro avg       0.93      0.94      0.94        49\n",
            "weighted avg       0.94      0.94      0.94        49\n",
            "\n"
          ]
        }
      ]
    },
    {
      "cell_type": "code",
      "source": [
        "from sklearn.metrics import confusion_matrix\n",
        "import seaborn as sb\n",
        "matrix_confusion = confusion_matrix(testlist, predlist)\n",
        "sb.heatmap(matrix_confusion, square=True, annot=True, cmap=sb.cubehelix_palette(as_cmap=True)\n",
        ", fmt='d', cbar=False)"
      ],
      "metadata": {
        "colab": {
          "base_uri": "https://localhost:8080/",
          "height": 447
        },
        "id": "PuW2KA_TailR",
        "outputId": "f41d46c6-c723-4b15-b877-148275a1d80e"
      },
      "execution_count": null,
      "outputs": [
        {
          "output_type": "execute_result",
          "data": {
            "text/plain": [
              "<Axes: >"
            ]
          },
          "metadata": {},
          "execution_count": 38
        },
        {
          "output_type": "display_data",
          "data": {
            "text/plain": [
              "<Figure size 640x480 with 1 Axes>"
            ],
            "image/png": "[encoded data removed]"
          },
          "metadata": {}
        }
      ]
    }
  ]
}