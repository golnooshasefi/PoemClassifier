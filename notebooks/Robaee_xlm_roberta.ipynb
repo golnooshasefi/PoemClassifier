{
  "cells": [
    {
      "cell_type": "code",
      "execution_count": null,
      "metadata": {
        "colab": {
          "base_uri": "https://localhost:8080/"
        },
        "id": "lGkDtvwgf1xr",
        "outputId": "c0887c8c-e96f-407b-ac5a-27cef66a9c95"
      },
      "outputs": [
        {
          "output_type": "stream",
          "name": "stdout",
          "text": [
            "Mounted at /content/gdrive\n"
          ]
        }
      ],
      "source": [
        "from google.colab import drive\n",
        "drive.mount('/content/gdrive')"
      ]
    },
    {
      "cell_type": "code",
      "execution_count": null,
      "metadata": {
        "id": "GRSr8b72kJ7r"
      },
      "outputs": [],
      "source": [
        "!unzip gdrive/MyDrive/RobaeeDataset.zip"
      ]
    },
    {
      "cell_type": "code",
      "execution_count": null,
      "metadata": {
        "id": "eJ_JCG5hZ5nm"
      },
      "outputs": [],
      "source": [
        "!pip install hazm"
      ]
    },
    {
      "cell_type": "code",
      "execution_count": null,
      "metadata": {
        "colab": {
          "background_save": true
        },
        "id": "7lKP4kJj0PX-"
      },
      "outputs": [],
      "source": [
        "!pip install --upgrade tensorflow"
      ]
    },
    {
      "cell_type": "code",
      "execution_count": null,
      "metadata": {
        "id": "ENsi2ej2kwT-"
      },
      "outputs": [],
      "source": [
        "import csv\n",
        "import glob\n",
        "import pandas as pd\n",
        "import os\n",
        "import numpy as np"
      ]
    },
    {
      "cell_type": "code",
      "execution_count": null,
      "metadata": {
        "id": "joxg22bwRSnT"
      },
      "outputs": [],
      "source": [
        "# Data visualization\n",
        "import matplotlib.pyplot as plt\n",
        "import seaborn as sns"
      ]
    },
    {
      "cell_type": "code",
      "execution_count": null,
      "metadata": {
        "id": "Y3uYhAJPkU3J"
      },
      "outputs": [],
      "source": [
        "dirpath = \"./RobaeeDataset\"\n",
        "outputpath = 'datasetcsv.csv'\n",
        "columns_name =[\"poem\",\"poet\"]\n",
        "output = open(outputpath,'w')\n",
        "csvout = csv.DictWriter(output,columns_name)\n",
        "csvout.writeheader()\n",
        "folders_name = os.listdir(dirpath);\n",
        "\n",
        "for folder in folders_name:\n",
        "  # print(folder)\n",
        "  files = os.listdir(dirpath + '/' + folder)\n",
        "  # print(files)\n",
        "\n",
        "  for f in files :\n",
        "    with open(dirpath + '/' + folder + '/' + f,encoding=\"utf8\",errors=\"ignore\")as afile:\n",
        "      text_file = afile.read().replace('\\n',' ')\n",
        "      row = {'poem': text_file,'poet': folder}\n",
        "      csvout.writerow(row)\n",
        "output.close()"
      ]
    },
    {
      "cell_type": "code",
      "execution_count": null,
      "metadata": {
        "colab": {
          "base_uri": "https://localhost:8080/",
          "height": 424
        },
        "id": "gXRf3hSfZqoc",
        "outputId": "232c090d-6691-44e7-b50d-14cf4811d1a3"
      },
      "outputs": [
        {
          "output_type": "execute_result",
          "data": {
            "text/plain": [
              "                                                   poem      poet\n",
              "0      از حلقهٔ گوش از دلم باخبر است در حلقهٔ او دل ...   moulavi\n",
              "1      آنجا بنشین که همنشین مردانند تا دود کدورت ترا...   moulavi\n",
              "2      دانیکه چه میگوید این بانگ رباب اندر پی من بیا...   moulavi\n",
              "3      جان چو سمندرم نگاری دارد در آتش او چه خوش قرا...   moulavi\n",
              "4      بیمارم و غم در امتحانم دارد اما غم او تر و جو...   moulavi\n",
              "...                                                 ...       ...\n",
              "2167   در خدمت تو چو صرف شد عمر دراز گفتم که مگر با ...  abusaeed\n",
              "2168  بر تافت عنان صبوری از جان خراب شد همچو ر کاب ح...  abusaeed\n",
              "2169   آنها که ز معبود خبر یافته‌اند از جملهٔ کاینات...  abusaeed\n",
              "2170   یار آمد و گفت خسته میدار دلت دایم به امید بست...  abusaeed\n",
              "2171   دردا که درین زمانهٔ پر غم و درد غبنا که درین ...  abusaeed\n",
              "\n",
              "[2172 rows x 2 columns]"
            ],
            "text/html": [
              "\n",
              "  <div id=\"df-a6c7e6d2-4bef-464a-8f41-84cc876939e1\" class=\"colab-df-container\">\n",
              "    <div>\n",
              "<style scoped>\n",
              "    .dataframe tbody tr th:only-of-type {\n",
              "        vertical-align: middle;\n",
              "    }\n",
              "\n",
              "    .dataframe tbody tr th {\n",
              "        vertical-align: top;\n",
              "    }\n",
              "\n",
              "    .dataframe thead th {\n",
              "        text-align: right;\n",
              "    }\n",
              "</style>\n",
              "<table border=\"1\" class=\"dataframe\">\n",
              "  <thead>\n",
              "    <tr style=\"text-align: right;\">\n",
              "      <th></th>\n",
              "      <th>poem</th>\n",
              "      <th>poet</th>\n",
              "    </tr>\n",
              "  </thead>\n",
              "  <tbody>\n",
              "    <tr>\n",
              "      <th>0</th>\n",
              "      <td>از حلقهٔ گوش از دلم باخبر است در حلقهٔ او دل ...</td>\n",
              "      <td>moulavi</td>\n",
              "    </tr>\n",
              "    <tr>\n",
              "      <th>1</th>\n",
              "      <td>آنجا بنشین که همنشین مردانند تا دود کدورت ترا...</td>\n",
              "      <td>moulavi</td>\n",
              "    </tr>\n",
              "    <tr>\n",
              "      <th>2</th>\n",
              "      <td>دانیکه چه میگوید این بانگ رباب اندر پی من بیا...</td>\n",
              "      <td>moulavi</td>\n",
              "    </tr>\n",
              "    <tr>\n",
              "      <th>3</th>\n",
              "      <td>جان چو سمندرم نگاری دارد در آتش او چه خوش قرا...</td>\n",
              "      <td>moulavi</td>\n",
              "    </tr>\n",
              "    <tr>\n",
              "      <th>4</th>\n",
              "      <td>بیمارم و غم در امتحانم دارد اما غم او تر و جو...</td>\n",
              "      <td>moulavi</td>\n",
              "    </tr>\n",
              "    <tr>\n",
              "      <th>...</th>\n",
              "      <td>...</td>\n",
              "      <td>...</td>\n",
              "    </tr>\n",
              "    <tr>\n",
              "      <th>2167</th>\n",
              "      <td>در خدمت تو چو صرف شد عمر دراز گفتم که مگر با ...</td>\n",
              "      <td>abusaeed</td>\n",
              "    </tr>\n",
              "    <tr>\n",
              "      <th>2168</th>\n",
              "      <td>بر تافت عنان صبوری از جان خراب شد همچو ر کاب ح...</td>\n",
              "      <td>abusaeed</td>\n",
              "    </tr>\n",
              "    <tr>\n",
              "      <th>2169</th>\n",
              "      <td>آنها که ز معبود خبر یافته‌اند از جملهٔ کاینات...</td>\n",
              "      <td>abusaeed</td>\n",
              "    </tr>\n",
              "    <tr>\n",
              "      <th>2170</th>\n",
              "      <td>یار آمد و گفت خسته میدار دلت دایم به امید بست...</td>\n",
              "      <td>abusaeed</td>\n",
              "    </tr>\n",
              "    <tr>\n",
              "      <th>2171</th>\n",
              "      <td>دردا که درین زمانهٔ پر غم و درد غبنا که درین ...</td>\n",
              "      <td>abusaeed</td>\n",
              "    </tr>\n",
              "  </tbody>\n",
              "</table>\n",
              "<p>2172 rows × 2 columns</p>\n",
              "</div>\n",
              "    <div class=\"colab-df-buttons\">\n",
              "\n",
              "  <div class=\"colab-df-container\">\n",
              "    <button class=\"colab-df-convert\" onclick=\"convertToInteractive('df-a6c7e6d2-4bef-464a-8f41-84cc876939e1')\"\n",
              "            title=\"Convert this dataframe to an interactive table.\"\n",
              "            style=\"display:none;\">\n",
              "\n",
              "  <svg xmlns=\"http://www.w3.org/2000/svg\" height=\"24px\" viewBox=\"0 -960 960 960\">\n",
              "    <path d=\"M120-120v-720h720v720H120Zm60-500h600v-160H180v160Zm220 220h160v-160H400v160Zm0 220h160v-160H400v160ZM180-400h160v-160H180v160Zm440 0h160v-160H620v160ZM180-180h160v-160H180v160Zm440 0h160v-160H620v160Z\"/>\n",
              "  </svg>\n",
              "    </button>\n",
              "\n",
              "  <style>\n",
              "    .colab-df-container {\n",
              "      display:flex;\n",
              "      gap: 12px;\n",
              "    }\n",
              "\n",
              "    .colab-df-convert {\n",
              "      background-color: #E8F0FE;\n",
              "      border: none;\n",
              "      border-radius: 50%;\n",
              "      cursor: pointer;\n",
              "      display: none;\n",
              "      fill: #1967D2;\n",
              "      height: 32px;\n",
              "      padding: 0 0 0 0;\n",
              "      width: 32px;\n",
              "    }\n",
              "\n",
              "    .colab-df-convert:hover {\n",
              "      background-color: #E2EBFA;\n",
              "      box-shadow: 0px 1px 2px rgba(60, 64, 67, 0.3), 0px 1px 3px 1px rgba(60, 64, 67, 0.15);\n",
              "      fill: #174EA6;\n",
              "    }\n",
              "\n",
              "    .colab-df-buttons div {\n",
              "      margin-bottom: 4px;\n",
              "    }\n",
              "\n",
              "    [theme=dark] .colab-df-convert {\n",
              "      background-color: #3B4455;\n",
              "      fill: #D2E3FC;\n",
              "    }\n",
              "\n",
              "    [theme=dark] .colab-df-convert:hover {\n",
              "      background-color: #434B5C;\n",
              "      box-shadow: 0px 1px 3px 1px rgba(0, 0, 0, 0.15);\n",
              "      filter: drop-shadow(0px 1px 2px rgba(0, 0, 0, 0.3));\n",
              "      fill: #FFFFFF;\n",
              "    }\n",
              "  </style>\n",
              "\n",
              "    <script>\n",
              "      const buttonEl =\n",
              "        document.querySelector('#df-a6c7e6d2-4bef-464a-8f41-84cc876939e1 button.colab-df-convert');\n",
              "      buttonEl.style.display =\n",
              "        google.colab.kernel.accessAllowed ? 'block' : 'none';\n",
              "\n",
              "      async function convertToInteractive(key) {\n",
              "        const element = document.querySelector('#df-a6c7e6d2-4bef-464a-8f41-84cc876939e1');\n",
              "        const dataTable =\n",
              "          await google.colab.kernel.invokeFunction('convertToInteractive',\n",
              "                                                    [key], {});\n",
              "        if (!dataTable) return;\n",
              "\n",
              "        const docLinkHtml = 'Like what you see? Visit the ' +\n",
              "          '<a target=\"_blank\" href=https://colab.research.google.com/notebooks/data_table.ipynb>data table notebook</a>'\n",
              "          + ' to learn more about interactive tables.';\n",
              "        element.innerHTML = '';\n",
              "        dataTable['output_type'] = 'display_data';\n",
              "        await google.colab.output.renderOutput(dataTable, element);\n",
              "        const docLink = document.createElement('div');\n",
              "        docLink.innerHTML = docLinkHtml;\n",
              "        element.appendChild(docLink);\n",
              "      }\n",
              "    </script>\n",
              "  </div>\n",
              "\n",
              "\n",
              "<div id=\"df-e9e61e5c-dac6-4d0c-be2c-5d872d59dbb9\">\n",
              "  <button class=\"colab-df-quickchart\" onclick=\"quickchart('df-e9e61e5c-dac6-4d0c-be2c-5d872d59dbb9')\"\n",
              "            title=\"Suggest charts.\"\n",
              "            style=\"display:none;\">\n",
              "\n",
              "<svg xmlns=\"http://www.w3.org/2000/svg\" height=\"24px\"viewBox=\"0 0 24 24\"\n",
              "     width=\"24px\">\n",
              "    <g>\n",
              "        <path d=\"M19 3H5c-1.1 0-2 .9-2 2v14c0 1.1.9 2 2 2h14c1.1 0 2-.9 2-2V5c0-1.1-.9-2-2-2zM9 17H7v-7h2v7zm4 0h-2V7h2v10zm4 0h-2v-4h2v4z\"/>\n",
              "    </g>\n",
              "</svg>\n",
              "  </button>\n",
              "\n",
              "<style>\n",
              "  .colab-df-quickchart {\n",
              "    background-color: #E8F0FE;\n",
              "    border: none;\n",
              "    border-radius: 50%;\n",
              "    cursor: pointer;\n",
              "    display: none;\n",
              "    fill: #1967D2;\n",
              "    height: 32px;\n",
              "    padding: 0 0 0 0;\n",
              "    width: 32px;\n",
              "  }\n",
              "\n",
              "  .colab-df-quickchart:hover {\n",
              "    background-color: #E2EBFA;\n",
              "    box-shadow: 0px 1px 2px rgba(60, 64, 67, 0.3), 0px 1px 3px 1px rgba(60, 64, 67, 0.15);\n",
              "    fill: #174EA6;\n",
              "  }\n",
              "\n",
              "  [theme=dark] .colab-df-quickchart {\n",
              "    background-color: #3B4455;\n",
              "    fill: #D2E3FC;\n",
              "  }\n",
              "\n",
              "  [theme=dark] .colab-df-quickchart:hover {\n",
              "    background-color: #434B5C;\n",
              "    box-shadow: 0px 1px 3px 1px rgba(0, 0, 0, 0.15);\n",
              "    filter: drop-shadow(0px 1px 2px rgba(0, 0, 0, 0.3));\n",
              "    fill: #FFFFFF;\n",
              "  }\n",
              "</style>\n",
              "\n",
              "  <script>\n",
              "    async function quickchart(key) {\n",
              "      const charts = await google.colab.kernel.invokeFunction(\n",
              "          'suggestCharts', [key], {});\n",
              "    }\n",
              "    (() => {\n",
              "      let quickchartButtonEl =\n",
              "        document.querySelector('#df-e9e61e5c-dac6-4d0c-be2c-5d872d59dbb9 button');\n",
              "      quickchartButtonEl.style.display =\n",
              "        google.colab.kernel.accessAllowed ? 'block' : 'none';\n",
              "    })();\n",
              "  </script>\n",
              "</div>\n",
              "    </div>\n",
              "  </div>\n"
            ]
          },
          "metadata": {},
          "execution_count": 10
        }
      ],
      "source": [
        "df = pd.read_csv('datasetcsv.csv')\n",
        "df"
      ]
    },
    {
      "cell_type": "code",
      "execution_count": null,
      "metadata": {
        "colab": {
          "base_uri": "https://localhost:8080/"
        },
        "id": "2XaeoK39aYkT",
        "outputId": "31fdd0cb-fad6-4cb6-81db-0708c110363c"
      },
      "outputs": [
        {
          "output_type": "stream",
          "name": "stdout",
          "text": [
            "missing values stats\n",
            "poem    0\n",
            "poet    0\n",
            "dtype: int64 \n",
            "\n",
            "some missing values\n",
            "Empty DataFrame\n",
            "Columns: [poem, poet]\n",
            "Index: [] \n",
            "\n"
          ]
        }
      ],
      "source": [
        "# print missing values information\n",
        "print('missing values stats')\n",
        "print(df.isnull().sum(), '\\n')\n",
        "\n",
        "# print some missing values\n",
        "print('some missing values')\n",
        "print(df[df['poem'].isnull()], '\\n')"
      ]
    },
    {
      "cell_type": "code",
      "execution_count": null,
      "metadata": {
        "id": "KE-lSdg5akQg"
      },
      "outputs": [],
      "source": [
        "import re\n",
        "import hazm"
      ]
    },
    {
      "cell_type": "code",
      "execution_count": null,
      "metadata": {
        "colab": {
          "base_uri": "https://localhost:8080/",
          "height": 424
        },
        "id": "N6hzTLQx3pM7",
        "outputId": "2aa94e21-01c4-482f-8e72-5b1f0f926578"
      },
      "outputs": [
        {
          "output_type": "execute_result",
          "data": {
            "text/plain": [
              "                                                   poem      poet\n",
              "0     از حلقه گوش از دلم باخبر است در حلقه او دل از ...   moulavi\n",
              "1     آنجا بنشین که همنشین مردانند تا دود کدورت ترا ...   moulavi\n",
              "2     دانیکه چه می گوید این بانگ رباب اندر پی من بیا...   moulavi\n",
              "3     جان چو سمندرم نگاری دارد در آتش او چه خوش قرار...   moulavi\n",
              "4     بیمارم و غم در امتحانم دارد اما غم او تر و جوا...   moulavi\n",
              "...                                                 ...       ...\n",
              "2167  در خدمت تو چو صرف شد عمر دراز گفتم که مگر با ت...  abusaeed\n",
              "2168  بر تافت عنان صبوری از جان خراب شد همچو ر کاب ح...  abusaeed\n",
              "2169  آنها که ز معبود خبر یافته اند از جمله کاینات س...  abusaeed\n",
              "2170  یار آمد و گفت خسته میدار دلت دایم به امید بسته...  abusaeed\n",
              "2171  دردا که درین زمانه پر غم و درد غبنا که درین دا...  abusaeed\n",
              "\n",
              "[2172 rows x 2 columns]"
            ],
            "text/html": [
              "\n",
              "  <div id=\"df-7f31e1b6-a7ec-4b1e-ba43-c2e1b6bfc8e2\" class=\"colab-df-container\">\n",
              "    <div>\n",
              "<style scoped>\n",
              "    .dataframe tbody tr th:only-of-type {\n",
              "        vertical-align: middle;\n",
              "    }\n",
              "\n",
              "    .dataframe tbody tr th {\n",
              "        vertical-align: top;\n",
              "    }\n",
              "\n",
              "    .dataframe thead th {\n",
              "        text-align: right;\n",
              "    }\n",
              "</style>\n",
              "<table border=\"1\" class=\"dataframe\">\n",
              "  <thead>\n",
              "    <tr style=\"text-align: right;\">\n",
              "      <th></th>\n",
              "      <th>poem</th>\n",
              "      <th>poet</th>\n",
              "    </tr>\n",
              "  </thead>\n",
              "  <tbody>\n",
              "    <tr>\n",
              "      <th>0</th>\n",
              "      <td>از حلقه گوش از دلم باخبر است در حلقه او دل از ...</td>\n",
              "      <td>moulavi</td>\n",
              "    </tr>\n",
              "    <tr>\n",
              "      <th>1</th>\n",
              "      <td>آنجا بنشین که همنشین مردانند تا دود کدورت ترا ...</td>\n",
              "      <td>moulavi</td>\n",
              "    </tr>\n",
              "    <tr>\n",
              "      <th>2</th>\n",
              "      <td>دانیکه چه می گوید این بانگ رباب اندر پی من بیا...</td>\n",
              "      <td>moulavi</td>\n",
              "    </tr>\n",
              "    <tr>\n",
              "      <th>3</th>\n",
              "      <td>جان چو سمندرم نگاری دارد در آتش او چه خوش قرار...</td>\n",
              "      <td>moulavi</td>\n",
              "    </tr>\n",
              "    <tr>\n",
              "      <th>4</th>\n",
              "      <td>بیمارم و غم در امتحانم دارد اما غم او تر و جوا...</td>\n",
              "      <td>moulavi</td>\n",
              "    </tr>\n",
              "    <tr>\n",
              "      <th>...</th>\n",
              "      <td>...</td>\n",
              "      <td>...</td>\n",
              "    </tr>\n",
              "    <tr>\n",
              "      <th>2167</th>\n",
              "      <td>در خدمت تو چو صرف شد عمر دراز گفتم که مگر با ت...</td>\n",
              "      <td>abusaeed</td>\n",
              "    </tr>\n",
              "    <tr>\n",
              "      <th>2168</th>\n",
              "      <td>بر تافت عنان صبوری از جان خراب شد همچو ر کاب ح...</td>\n",
              "      <td>abusaeed</td>\n",
              "    </tr>\n",
              "    <tr>\n",
              "      <th>2169</th>\n",
              "      <td>آنها که ز معبود خبر یافته اند از جمله کاینات س...</td>\n",
              "      <td>abusaeed</td>\n",
              "    </tr>\n",
              "    <tr>\n",
              "      <th>2170</th>\n",
              "      <td>یار آمد و گفت خسته میدار دلت دایم به امید بسته...</td>\n",
              "      <td>abusaeed</td>\n",
              "    </tr>\n",
              "    <tr>\n",
              "      <th>2171</th>\n",
              "      <td>دردا که درین زمانه پر غم و درد غبنا که درین دا...</td>\n",
              "      <td>abusaeed</td>\n",
              "    </tr>\n",
              "  </tbody>\n",
              "</table>\n",
              "<p>2172 rows × 2 columns</p>\n",
              "</div>\n",
              "    <div class=\"colab-df-buttons\">\n",
              "\n",
              "  <div class=\"colab-df-container\">\n",
              "    <button class=\"colab-df-convert\" onclick=\"convertToInteractive('df-7f31e1b6-a7ec-4b1e-ba43-c2e1b6bfc8e2')\"\n",
              "            title=\"Convert this dataframe to an interactive table.\"\n",
              "            style=\"display:none;\">\n",
              "\n",
              "  <svg xmlns=\"http://www.w3.org/2000/svg\" height=\"24px\" viewBox=\"0 -960 960 960\">\n",
              "    <path d=\"M120-120v-720h720v720H120Zm60-500h600v-160H180v160Zm220 220h160v-160H400v160Zm0 220h160v-160H400v160ZM180-400h160v-160H180v160Zm440 0h160v-160H620v160ZM180-180h160v-160H180v160Zm440 0h160v-160H620v160Z\"/>\n",
              "  </svg>\n",
              "    </button>\n",
              "\n",
              "  <style>\n",
              "    .colab-df-container {\n",
              "      display:flex;\n",
              "      gap: 12px;\n",
              "    }\n",
              "\n",
              "    .colab-df-convert {\n",
              "      background-color: #E8F0FE;\n",
              "      border: none;\n",
              "      border-radius: 50%;\n",
              "      cursor: pointer;\n",
              "      display: none;\n",
              "      fill: #1967D2;\n",
              "      height: 32px;\n",
              "      padding: 0 0 0 0;\n",
              "      width: 32px;\n",
              "    }\n",
              "\n",
              "    .colab-df-convert:hover {\n",
              "      background-color: #E2EBFA;\n",
              "      box-shadow: 0px 1px 2px rgba(60, 64, 67, 0.3), 0px 1px 3px 1px rgba(60, 64, 67, 0.15);\n",
              "      fill: #174EA6;\n",
              "    }\n",
              "\n",
              "    .colab-df-buttons div {\n",
              "      margin-bottom: 4px;\n",
              "    }\n",
              "\n",
              "    [theme=dark] .colab-df-convert {\n",
              "      background-color: #3B4455;\n",
              "      fill: #D2E3FC;\n",
              "    }\n",
              "\n",
              "    [theme=dark] .colab-df-convert:hover {\n",
              "      background-color: #434B5C;\n",
              "      box-shadow: 0px 1px 3px 1px rgba(0, 0, 0, 0.15);\n",
              "      filter: drop-shadow(0px 1px 2px rgba(0, 0, 0, 0.3));\n",
              "      fill: #FFFFFF;\n",
              "    }\n",
              "  </style>\n",
              "\n",
              "    <script>\n",
              "      const buttonEl =\n",
              "        document.querySelector('#df-7f31e1b6-a7ec-4b1e-ba43-c2e1b6bfc8e2 button.colab-df-convert');\n",
              "      buttonEl.style.display =\n",
              "        google.colab.kernel.accessAllowed ? 'block' : 'none';\n",
              "\n",
              "      async function convertToInteractive(key) {\n",
              "        const element = document.querySelector('#df-7f31e1b6-a7ec-4b1e-ba43-c2e1b6bfc8e2');\n",
              "        const dataTable =\n",
              "          await google.colab.kernel.invokeFunction('convertToInteractive',\n",
              "                                                    [key], {});\n",
              "        if (!dataTable) return;\n",
              "\n",
              "        const docLinkHtml = 'Like what you see? Visit the ' +\n",
              "          '<a target=\"_blank\" href=https://colab.research.google.com/notebooks/data_table.ipynb>data table notebook</a>'\n",
              "          + ' to learn more about interactive tables.';\n",
              "        element.innerHTML = '';\n",
              "        dataTable['output_type'] = 'display_data';\n",
              "        await google.colab.output.renderOutput(dataTable, element);\n",
              "        const docLink = document.createElement('div');\n",
              "        docLink.innerHTML = docLinkHtml;\n",
              "        element.appendChild(docLink);\n",
              "      }\n",
              "    </script>\n",
              "  </div>\n",
              "\n",
              "\n",
              "<div id=\"df-09440908-f771-466b-b4e1-a9d1689ed92e\">\n",
              "  <button class=\"colab-df-quickchart\" onclick=\"quickchart('df-09440908-f771-466b-b4e1-a9d1689ed92e')\"\n",
              "            title=\"Suggest charts.\"\n",
              "            style=\"display:none;\">\n",
              "\n",
              "<svg xmlns=\"http://www.w3.org/2000/svg\" height=\"24px\"viewBox=\"0 0 24 24\"\n",
              "     width=\"24px\">\n",
              "    <g>\n",
              "        <path d=\"M19 3H5c-1.1 0-2 .9-2 2v14c0 1.1.9 2 2 2h14c1.1 0 2-.9 2-2V5c0-1.1-.9-2-2-2zM9 17H7v-7h2v7zm4 0h-2V7h2v10zm4 0h-2v-4h2v4z\"/>\n",
              "    </g>\n",
              "</svg>\n",
              "  </button>\n",
              "\n",
              "<style>\n",
              "  .colab-df-quickchart {\n",
              "    background-color: #E8F0FE;\n",
              "    border: none;\n",
              "    border-radius: 50%;\n",
              "    cursor: pointer;\n",
              "    display: none;\n",
              "    fill: #1967D2;\n",
              "    height: 32px;\n",
              "    padding: 0 0 0 0;\n",
              "    width: 32px;\n",
              "  }\n",
              "\n",
              "  .colab-df-quickchart:hover {\n",
              "    background-color: #E2EBFA;\n",
              "    box-shadow: 0px 1px 2px rgba(60, 64, 67, 0.3), 0px 1px 3px 1px rgba(60, 64, 67, 0.15);\n",
              "    fill: #174EA6;\n",
              "  }\n",
              "\n",
              "  [theme=dark] .colab-df-quickchart {\n",
              "    background-color: #3B4455;\n",
              "    fill: #D2E3FC;\n",
              "  }\n",
              "\n",
              "  [theme=dark] .colab-df-quickchart:hover {\n",
              "    background-color: #434B5C;\n",
              "    box-shadow: 0px 1px 3px 1px rgba(0, 0, 0, 0.15);\n",
              "    filter: drop-shadow(0px 1px 2px rgba(0, 0, 0, 0.3));\n",
              "    fill: #FFFFFF;\n",
              "  }\n",
              "</style>\n",
              "\n",
              "  <script>\n",
              "    async function quickchart(key) {\n",
              "      const charts = await google.colab.kernel.invokeFunction(\n",
              "          'suggestCharts', [key], {});\n",
              "    }\n",
              "    (() => {\n",
              "      let quickchartButtonEl =\n",
              "        document.querySelector('#df-09440908-f771-466b-b4e1-a9d1689ed92e button');\n",
              "      quickchartButtonEl.style.display =\n",
              "        google.colab.kernel.accessAllowed ? 'block' : 'none';\n",
              "    })();\n",
              "  </script>\n",
              "</div>\n",
              "    </div>\n",
              "  </div>\n"
            ]
          },
          "metadata": {},
          "execution_count": 13
        }
      ],
      "source": [
        "normalizer = hazm.Normalizer()\n",
        "def cleaning(text):\n",
        "    text = text.strip()\n",
        "    # normalizing\n",
        "    text = normalizer.normalize(text)\n",
        "\n",
        "    # replacing all spaces,hyphens,  with white space\n",
        "    space_pattern = r\"[\\xad\\ufeff\\u200e\\u200d\\u200b\\x7f\\u202a\\u2003\\xa0\\u206e\\u200c\\x9d\\]]\"\n",
        "    space_pattern = re.compile(space_pattern)\n",
        "    text = space_pattern.sub(\" \", text)\n",
        "\n",
        "    # let's delete the un-required elements\n",
        "    deleted_pattern = r\"(\\d|[\\|\\[]]|\\\"|'ٍ|[0-9]|¬|[a-zA-Z]|[؛“،,”‘۔’’‘–]|[|\\.÷+\\:\\-\\?»\\=\\{}\\*«_…\\؟!/ـ]|[۲۹۱۷۸۵۶۴۴۳]|[\\\\u\\\\x]|[\\(\\)]|[۰'ٓ۫'ٔ]|[ٓٔ]|[ًٌٍْﹼ،َُِّ«ٰ»ٖء]|\\[]|\\[\\])\"\n",
        "    deleted_pattern = re.compile(deleted_pattern)\n",
        "    text = deleted_pattern.sub(\"\", text).strip()\n",
        "\n",
        "\n",
        "    # removing wierd patterns\n",
        "    wierd_pattern = re.compile(\"[\"\n",
        "        u\"\\U0001F300-\\U0001F5FF\"  # symbols & pictographs\n",
        "        u\"\\U0001F680-\\U0001F6FF\"  # transport & map symbols\n",
        "        u\"\\U0001F1E0-\\U0001F1FF\"  # flags (iOS)\n",
        "        u\"\\U00002702-\\U000027B0\"\n",
        "        u\"\\U000024C2-\\U0001F251\"\n",
        "        u\"\\U0001f926-\\U0001f937\"\n",
        "        u'\\U00010000-\\U0010ffff'\n",
        "        u\"\\u200d\"\n",
        "        u\"\\u200c\"\n",
        "        u\"\\u2640-\\u2642\"\n",
        "        u\"\\u2600-\\u2B55\"\n",
        "        u\"\\u23cf\"\n",
        "        u\"\\u23e9\"\n",
        "        u\"\\u231a\"\n",
        "        u\"\\u3030\"\n",
        "        u\"\\ufe0f\"\n",
        "        u\"\\u2069\"\n",
        "        u\"\\u2066\"\n",
        "        u\"\\u2068\"\n",
        "        u\"\\u2067\"\n",
        "        \"]+\", flags=re.UNICODE)\n",
        "\n",
        "    text = wierd_pattern.sub(r'', text)\n",
        "    # removing extra spaces, hashtags\n",
        "    text = re.sub(\"#\", \"\", text)\n",
        "    text = re.sub(\"\\s+\", \" \", text)\n",
        "    return text\n",
        "\n",
        "df['cleaned_poems'] = df['poem'].apply(cleaning)\n",
        "df = df[['cleaned_poems', 'poet']]\n",
        "df.columns = ['poem', 'poet']\n",
        "df"
      ]
    },
    {
      "cell_type": "code",
      "execution_count": null,
      "metadata": {
        "id": "tiI3b9HuIZzw"
      },
      "outputs": [],
      "source": [
        "def stop_word_importer(file_name):# importing persian stopwords\n",
        "    with open(file_name, 'r', encoding=\"utf8\") as myfile:\n",
        "        stop_words = myfile.read().replace('\\n', ' ').replace(\"\\u200c\",\"\").replace(\"\\ufeff\",\"\").replace(\".\",\" \").split(' ')# a list of stop words\n",
        "    return stop_words"
      ]
    },
    {
      "cell_type": "code",
      "execution_count": null,
      "metadata": {
        "id": "bZh08JySKGmK"
      },
      "outputs": [],
      "source": [
        "stop_words = stop_word_importer('stop_words.txt') # importing stop words to a list"
      ]
    },
    {
      "cell_type": "code",
      "execution_count": null,
      "metadata": {
        "colab": {
          "base_uri": "https://localhost:8080/",
          "height": 424
        },
        "id": "b7HQ2x3RJcsI",
        "outputId": "9b107200-db76-402a-95ca-b0479e45c897"
      },
      "outputs": [
        {
          "output_type": "execute_result",
          "data": {
            "text/plain": [
              "                                                   poem      poet\n",
              "0     حلقه گوش باخبر حلقه دل حلقه زبر چرخ غم ذره آفت...   moulavi\n",
              "1     بنشین همنشین مردانند دود کدورت بنشانند اندیشه ...   moulavi\n",
              "2     دانیکه بانگ رباب ره دریاب خطا بری صواب ره بری ...   moulavi\n",
              "3     جان سمندرم نگاری آتش قراری باده لبهاش بگردان س...   moulavi\n",
              "4     بیمارم غم امتحانم غم جوانم طرفه نگر رنجوری غمش...   moulavi\n",
              "...                                                 ...       ...\n",
              "2167   خدمت عمر دراز محرم راز دانستم تاز نرسم جهان مانم  abusaeed\n",
              "2168  تافت عنان صبوری جان خراب کاب حلقه تب تاب عنان ...  abusaeed\n",
              "2169            معبود خبر کاینات دریوزه مردان مردان قرب  abusaeed\n",
              "2170  یار خسته میدار دلت امید دلت شکستگان نظرها شکست...  abusaeed\n",
              "2171  دردا زمانه غم درد غبنا دایره غم پرورد فراق دوس...  abusaeed\n",
              "\n",
              "[2172 rows x 2 columns]"
            ],
            "text/html": [
              "\n",
              "  <div id=\"df-f8d470d7-6484-4bb2-a2da-1a2b209f9c72\" class=\"colab-df-container\">\n",
              "    <div>\n",
              "<style scoped>\n",
              "    .dataframe tbody tr th:only-of-type {\n",
              "        vertical-align: middle;\n",
              "    }\n",
              "\n",
              "    .dataframe tbody tr th {\n",
              "        vertical-align: top;\n",
              "    }\n",
              "\n",
              "    .dataframe thead th {\n",
              "        text-align: right;\n",
              "    }\n",
              "</style>\n",
              "<table border=\"1\" class=\"dataframe\">\n",
              "  <thead>\n",
              "    <tr style=\"text-align: right;\">\n",
              "      <th></th>\n",
              "      <th>poem</th>\n",
              "      <th>poet</th>\n",
              "    </tr>\n",
              "  </thead>\n",
              "  <tbody>\n",
              "    <tr>\n",
              "      <th>0</th>\n",
              "      <td>حلقه گوش باخبر حلقه دل حلقه زبر چرخ غم ذره آفت...</td>\n",
              "      <td>moulavi</td>\n",
              "    </tr>\n",
              "    <tr>\n",
              "      <th>1</th>\n",
              "      <td>بنشین همنشین مردانند دود کدورت بنشانند اندیشه ...</td>\n",
              "      <td>moulavi</td>\n",
              "    </tr>\n",
              "    <tr>\n",
              "      <th>2</th>\n",
              "      <td>دانیکه بانگ رباب ره دریاب خطا بری صواب ره بری ...</td>\n",
              "      <td>moulavi</td>\n",
              "    </tr>\n",
              "    <tr>\n",
              "      <th>3</th>\n",
              "      <td>جان سمندرم نگاری آتش قراری باده لبهاش بگردان س...</td>\n",
              "      <td>moulavi</td>\n",
              "    </tr>\n",
              "    <tr>\n",
              "      <th>4</th>\n",
              "      <td>بیمارم غم امتحانم غم جوانم طرفه نگر رنجوری غمش...</td>\n",
              "      <td>moulavi</td>\n",
              "    </tr>\n",
              "    <tr>\n",
              "      <th>...</th>\n",
              "      <td>...</td>\n",
              "      <td>...</td>\n",
              "    </tr>\n",
              "    <tr>\n",
              "      <th>2167</th>\n",
              "      <td>خدمت عمر دراز محرم راز دانستم تاز نرسم جهان مانم</td>\n",
              "      <td>abusaeed</td>\n",
              "    </tr>\n",
              "    <tr>\n",
              "      <th>2168</th>\n",
              "      <td>تافت عنان صبوری جان خراب کاب حلقه تب تاب عنان ...</td>\n",
              "      <td>abusaeed</td>\n",
              "    </tr>\n",
              "    <tr>\n",
              "      <th>2169</th>\n",
              "      <td>معبود خبر کاینات دریوزه مردان مردان قرب</td>\n",
              "      <td>abusaeed</td>\n",
              "    </tr>\n",
              "    <tr>\n",
              "      <th>2170</th>\n",
              "      <td>یار خسته میدار دلت امید دلت شکستگان نظرها شکست...</td>\n",
              "      <td>abusaeed</td>\n",
              "    </tr>\n",
              "    <tr>\n",
              "      <th>2171</th>\n",
              "      <td>دردا زمانه غم درد غبنا دایره غم پرورد فراق دوس...</td>\n",
              "      <td>abusaeed</td>\n",
              "    </tr>\n",
              "  </tbody>\n",
              "</table>\n",
              "<p>2172 rows × 2 columns</p>\n",
              "</div>\n",
              "    <div class=\"colab-df-buttons\">\n",
              "\n",
              "  <div class=\"colab-df-container\">\n",
              "    <button class=\"colab-df-convert\" onclick=\"convertToInteractive('df-f8d470d7-6484-4bb2-a2da-1a2b209f9c72')\"\n",
              "            title=\"Convert this dataframe to an interactive table.\"\n",
              "            style=\"display:none;\">\n",
              "\n",
              "  <svg xmlns=\"http://www.w3.org/2000/svg\" height=\"24px\" viewBox=\"0 -960 960 960\">\n",
              "    <path d=\"M120-120v-720h720v720H120Zm60-500h600v-160H180v160Zm220 220h160v-160H400v160Zm0 220h160v-160H400v160ZM180-400h160v-160H180v160Zm440 0h160v-160H620v160ZM180-180h160v-160H180v160Zm440 0h160v-160H620v160Z\"/>\n",
              "  </svg>\n",
              "    </button>\n",
              "\n",
              "  <style>\n",
              "    .colab-df-container {\n",
              "      display:flex;\n",
              "      gap: 12px;\n",
              "    }\n",
              "\n",
              "    .colab-df-convert {\n",
              "      background-color: #E8F0FE;\n",
              "      border: none;\n",
              "      border-radius: 50%;\n",
              "      cursor: pointer;\n",
              "      display: none;\n",
              "      fill: #1967D2;\n",
              "      height: 32px;\n",
              "      padding: 0 0 0 0;\n",
              "      width: 32px;\n",
              "    }\n",
              "\n",
              "    .colab-df-convert:hover {\n",
              "      background-color: #E2EBFA;\n",
              "      box-shadow: 0px 1px 2px rgba(60, 64, 67, 0.3), 0px 1px 3px 1px rgba(60, 64, 67, 0.15);\n",
              "      fill: #174EA6;\n",
              "    }\n",
              "\n",
              "    .colab-df-buttons div {\n",
              "      margin-bottom: 4px;\n",
              "    }\n",
              "\n",
              "    [theme=dark] .colab-df-convert {\n",
              "      background-color: #3B4455;\n",
              "      fill: #D2E3FC;\n",
              "    }\n",
              "\n",
              "    [theme=dark] .colab-df-convert:hover {\n",
              "      background-color: #434B5C;\n",
              "      box-shadow: 0px 1px 3px 1px rgba(0, 0, 0, 0.15);\n",
              "      filter: drop-shadow(0px 1px 2px rgba(0, 0, 0, 0.3));\n",
              "      fill: #FFFFFF;\n",
              "    }\n",
              "  </style>\n",
              "\n",
              "    <script>\n",
              "      const buttonEl =\n",
              "        document.querySelector('#df-f8d470d7-6484-4bb2-a2da-1a2b209f9c72 button.colab-df-convert');\n",
              "      buttonEl.style.display =\n",
              "        google.colab.kernel.accessAllowed ? 'block' : 'none';\n",
              "\n",
              "      async function convertToInteractive(key) {\n",
              "        const element = document.querySelector('#df-f8d470d7-6484-4bb2-a2da-1a2b209f9c72');\n",
              "        const dataTable =\n",
              "          await google.colab.kernel.invokeFunction('convertToInteractive',\n",
              "                                                    [key], {});\n",
              "        if (!dataTable) return;\n",
              "\n",
              "        const docLinkHtml = 'Like what you see? Visit the ' +\n",
              "          '<a target=\"_blank\" href=https://colab.research.google.com/notebooks/data_table.ipynb>data table notebook</a>'\n",
              "          + ' to learn more about interactive tables.';\n",
              "        element.innerHTML = '';\n",
              "        dataTable['output_type'] = 'display_data';\n",
              "        await google.colab.output.renderOutput(dataTable, element);\n",
              "        const docLink = document.createElement('div');\n",
              "        docLink.innerHTML = docLinkHtml;\n",
              "        element.appendChild(docLink);\n",
              "      }\n",
              "    </script>\n",
              "  </div>\n",
              "\n",
              "\n",
              "<div id=\"df-31eb22d0-aedb-40fe-b6bb-607d855dccb9\">\n",
              "  <button class=\"colab-df-quickchart\" onclick=\"quickchart('df-31eb22d0-aedb-40fe-b6bb-607d855dccb9')\"\n",
              "            title=\"Suggest charts.\"\n",
              "            style=\"display:none;\">\n",
              "\n",
              "<svg xmlns=\"http://www.w3.org/2000/svg\" height=\"24px\"viewBox=\"0 0 24 24\"\n",
              "     width=\"24px\">\n",
              "    <g>\n",
              "        <path d=\"M19 3H5c-1.1 0-2 .9-2 2v14c0 1.1.9 2 2 2h14c1.1 0 2-.9 2-2V5c0-1.1-.9-2-2-2zM9 17H7v-7h2v7zm4 0h-2V7h2v10zm4 0h-2v-4h2v4z\"/>\n",
              "    </g>\n",
              "</svg>\n",
              "  </button>\n",
              "\n",
              "<style>\n",
              "  .colab-df-quickchart {\n",
              "    background-color: #E8F0FE;\n",
              "    border: none;\n",
              "    border-radius: 50%;\n",
              "    cursor: pointer;\n",
              "    display: none;\n",
              "    fill: #1967D2;\n",
              "    height: 32px;\n",
              "    padding: 0 0 0 0;\n",
              "    width: 32px;\n",
              "  }\n",
              "\n",
              "  .colab-df-quickchart:hover {\n",
              "    background-color: #E2EBFA;\n",
              "    box-shadow: 0px 1px 2px rgba(60, 64, 67, 0.3), 0px 1px 3px 1px rgba(60, 64, 67, 0.15);\n",
              "    fill: #174EA6;\n",
              "  }\n",
              "\n",
              "  [theme=dark] .colab-df-quickchart {\n",
              "    background-color: #3B4455;\n",
              "    fill: #D2E3FC;\n",
              "  }\n",
              "\n",
              "  [theme=dark] .colab-df-quickchart:hover {\n",
              "    background-color: #434B5C;\n",
              "    box-shadow: 0px 1px 3px 1px rgba(0, 0, 0, 0.15);\n",
              "    filter: drop-shadow(0px 1px 2px rgba(0, 0, 0, 0.3));\n",
              "    fill: #FFFFFF;\n",
              "  }\n",
              "</style>\n",
              "\n",
              "  <script>\n",
              "    async function quickchart(key) {\n",
              "      const charts = await google.colab.kernel.invokeFunction(\n",
              "          'suggestCharts', [key], {});\n",
              "    }\n",
              "    (() => {\n",
              "      let quickchartButtonEl =\n",
              "        document.querySelector('#df-31eb22d0-aedb-40fe-b6bb-607d855dccb9 button');\n",
              "      quickchartButtonEl.style.display =\n",
              "        google.colab.kernel.accessAllowed ? 'block' : 'none';\n",
              "    })();\n",
              "  </script>\n",
              "</div>\n",
              "    </div>\n",
              "  </div>\n"
            ]
          },
          "metadata": {},
          "execution_count": 16
        }
      ],
      "source": [
        "from hazm import stopwords_list\n",
        "\n",
        "def removeStopWords(text):\n",
        "  text = ' '.join([word for word in text.split() if word not in stopwords_list()])\n",
        "  text = ' '.join([word for word in text.split() if word not in stop_words])\n",
        "  return text\n",
        "\n",
        "df['cleaned_poems'] = df['poem'].apply(removeStopWords)\n",
        "df = df[['cleaned_poems', 'poet']]\n",
        "df.columns = ['poem', 'poet']\n",
        "df\n"
      ]
    },
    {
      "cell_type": "code",
      "execution_count": null,
      "metadata": {
        "colab": {
          "base_uri": "https://localhost:8080/",
          "height": 424
        },
        "id": "l-w6tClE19Qe",
        "outputId": "144cbdb4-fb84-4252-8fb9-128494bf1c5f"
      },
      "outputs": [
        {
          "output_type": "execute_result",
          "data": {
            "text/plain": [
              "                                                   poem      poet\n",
              "0     حلقه گوش باخبر حلقه دل حلقه زبر چرخ غم ذره آفت...   moulavi\n",
              "1     بنشین همنشین مردانند دود کدورت بنشانند اندیشه ...   moulavi\n",
              "2     دانیکه بانگ رباب ره دریاب خطا بری صواب ره بری ...   moulavi\n",
              "3     جان سمندرم نگاری آتش قراری باده لبهاش بگردان س...   moulavi\n",
              "4     بیمارم غم امتحانم غم جوانم طرفه نگر رنجوری غمش...   moulavi\n",
              "...                                                 ...       ...\n",
              "2167   خدمت عمر دراز محرم راز دانستم تاز نرسم جهان مانم  abusaeed\n",
              "2168  تافت عنان صبوری جان خراب کاب حلقه تب تاب عنان ...  abusaeed\n",
              "2169            معبود خبر کاینات دریوزه مردان مردان قرب  abusaeed\n",
              "2170  یار خسته میدار دلت امید دلت شکستگان نظرها شکست...  abusaeed\n",
              "2171  دردا زمانه غم درد غبنا دایره غم پرورد فراق دوس...  abusaeed\n",
              "\n",
              "[2172 rows x 2 columns]"
            ],
            "text/html": [
              "\n",
              "  <div id=\"df-1e9797b7-e4bf-4012-b185-01204105bf72\" class=\"colab-df-container\">\n",
              "    <div>\n",
              "<style scoped>\n",
              "    .dataframe tbody tr th:only-of-type {\n",
              "        vertical-align: middle;\n",
              "    }\n",
              "\n",
              "    .dataframe tbody tr th {\n",
              "        vertical-align: top;\n",
              "    }\n",
              "\n",
              "    .dataframe thead th {\n",
              "        text-align: right;\n",
              "    }\n",
              "</style>\n",
              "<table border=\"1\" class=\"dataframe\">\n",
              "  <thead>\n",
              "    <tr style=\"text-align: right;\">\n",
              "      <th></th>\n",
              "      <th>poem</th>\n",
              "      <th>poet</th>\n",
              "    </tr>\n",
              "  </thead>\n",
              "  <tbody>\n",
              "    <tr>\n",
              "      <th>0</th>\n",
              "      <td>حلقه گوش باخبر حلقه دل حلقه زبر چرخ غم ذره آفت...</td>\n",
              "      <td>moulavi</td>\n",
              "    </tr>\n",
              "    <tr>\n",
              "      <th>1</th>\n",
              "      <td>بنشین همنشین مردانند دود کدورت بنشانند اندیشه ...</td>\n",
              "      <td>moulavi</td>\n",
              "    </tr>\n",
              "    <tr>\n",
              "      <th>2</th>\n",
              "      <td>دانیکه بانگ رباب ره دریاب خطا بری صواب ره بری ...</td>\n",
              "      <td>moulavi</td>\n",
              "    </tr>\n",
              "    <tr>\n",
              "      <th>3</th>\n",
              "      <td>جان سمندرم نگاری آتش قراری باده لبهاش بگردان س...</td>\n",
              "      <td>moulavi</td>\n",
              "    </tr>\n",
              "    <tr>\n",
              "      <th>4</th>\n",
              "      <td>بیمارم غم امتحانم غم جوانم طرفه نگر رنجوری غمش...</td>\n",
              "      <td>moulavi</td>\n",
              "    </tr>\n",
              "    <tr>\n",
              "      <th>...</th>\n",
              "      <td>...</td>\n",
              "      <td>...</td>\n",
              "    </tr>\n",
              "    <tr>\n",
              "      <th>2167</th>\n",
              "      <td>خدمت عمر دراز محرم راز دانستم تاز نرسم جهان مانم</td>\n",
              "      <td>abusaeed</td>\n",
              "    </tr>\n",
              "    <tr>\n",
              "      <th>2168</th>\n",
              "      <td>تافت عنان صبوری جان خراب کاب حلقه تب تاب عنان ...</td>\n",
              "      <td>abusaeed</td>\n",
              "    </tr>\n",
              "    <tr>\n",
              "      <th>2169</th>\n",
              "      <td>معبود خبر کاینات دریوزه مردان مردان قرب</td>\n",
              "      <td>abusaeed</td>\n",
              "    </tr>\n",
              "    <tr>\n",
              "      <th>2170</th>\n",
              "      <td>یار خسته میدار دلت امید دلت شکستگان نظرها شکست...</td>\n",
              "      <td>abusaeed</td>\n",
              "    </tr>\n",
              "    <tr>\n",
              "      <th>2171</th>\n",
              "      <td>دردا زمانه غم درد غبنا دایره غم پرورد فراق دوس...</td>\n",
              "      <td>abusaeed</td>\n",
              "    </tr>\n",
              "  </tbody>\n",
              "</table>\n",
              "<p>2172 rows × 2 columns</p>\n",
              "</div>\n",
              "    <div class=\"colab-df-buttons\">\n",
              "\n",
              "  <div class=\"colab-df-container\">\n",
              "    <button class=\"colab-df-convert\" onclick=\"convertToInteractive('df-1e9797b7-e4bf-4012-b185-01204105bf72')\"\n",
              "            title=\"Convert this dataframe to an interactive table.\"\n",
              "            style=\"display:none;\">\n",
              "\n",
              "  <svg xmlns=\"http://www.w3.org/2000/svg\" height=\"24px\" viewBox=\"0 -960 960 960\">\n",
              "    <path d=\"M120-120v-720h720v720H120Zm60-500h600v-160H180v160Zm220 220h160v-160H400v160Zm0 220h160v-160H400v160ZM180-400h160v-160H180v160Zm440 0h160v-160H620v160ZM180-180h160v-160H180v160Zm440 0h160v-160H620v160Z\"/>\n",
              "  </svg>\n",
              "    </button>\n",
              "\n",
              "  <style>\n",
              "    .colab-df-container {\n",
              "      display:flex;\n",
              "      gap: 12px;\n",
              "    }\n",
              "\n",
              "    .colab-df-convert {\n",
              "      background-color: #E8F0FE;\n",
              "      border: none;\n",
              "      border-radius: 50%;\n",
              "      cursor: pointer;\n",
              "      display: none;\n",
              "      fill: #1967D2;\n",
              "      height: 32px;\n",
              "      padding: 0 0 0 0;\n",
              "      width: 32px;\n",
              "    }\n",
              "\n",
              "    .colab-df-convert:hover {\n",
              "      background-color: #E2EBFA;\n",
              "      box-shadow: 0px 1px 2px rgba(60, 64, 67, 0.3), 0px 1px 3px 1px rgba(60, 64, 67, 0.15);\n",
              "      fill: #174EA6;\n",
              "    }\n",
              "\n",
              "    .colab-df-buttons div {\n",
              "      margin-bottom: 4px;\n",
              "    }\n",
              "\n",
              "    [theme=dark] .colab-df-convert {\n",
              "      background-color: #3B4455;\n",
              "      fill: #D2E3FC;\n",
              "    }\n",
              "\n",
              "    [theme=dark] .colab-df-convert:hover {\n",
              "      background-color: #434B5C;\n",
              "      box-shadow: 0px 1px 3px 1px rgba(0, 0, 0, 0.15);\n",
              "      filter: drop-shadow(0px 1px 2px rgba(0, 0, 0, 0.3));\n",
              "      fill: #FFFFFF;\n",
              "    }\n",
              "  </style>\n",
              "\n",
              "    <script>\n",
              "      const buttonEl =\n",
              "        document.querySelector('#df-1e9797b7-e4bf-4012-b185-01204105bf72 button.colab-df-convert');\n",
              "      buttonEl.style.display =\n",
              "        google.colab.kernel.accessAllowed ? 'block' : 'none';\n",
              "\n",
              "      async function convertToInteractive(key) {\n",
              "        const element = document.querySelector('#df-1e9797b7-e4bf-4012-b185-01204105bf72');\n",
              "        const dataTable =\n",
              "          await google.colab.kernel.invokeFunction('convertToInteractive',\n",
              "                                                    [key], {});\n",
              "        if (!dataTable) return;\n",
              "\n",
              "        const docLinkHtml = 'Like what you see? Visit the ' +\n",
              "          '<a target=\"_blank\" href=https://colab.research.google.com/notebooks/data_table.ipynb>data table notebook</a>'\n",
              "          + ' to learn more about interactive tables.';\n",
              "        element.innerHTML = '';\n",
              "        dataTable['output_type'] = 'display_data';\n",
              "        await google.colab.output.renderOutput(dataTable, element);\n",
              "        const docLink = document.createElement('div');\n",
              "        docLink.innerHTML = docLinkHtml;\n",
              "        element.appendChild(docLink);\n",
              "      }\n",
              "    </script>\n",
              "  </div>\n",
              "\n",
              "\n",
              "<div id=\"df-a2142fd7-ac26-4060-96e6-038ce9851442\">\n",
              "  <button class=\"colab-df-quickchart\" onclick=\"quickchart('df-a2142fd7-ac26-4060-96e6-038ce9851442')\"\n",
              "            title=\"Suggest charts.\"\n",
              "            style=\"display:none;\">\n",
              "\n",
              "<svg xmlns=\"http://www.w3.org/2000/svg\" height=\"24px\"viewBox=\"0 0 24 24\"\n",
              "     width=\"24px\">\n",
              "    <g>\n",
              "        <path d=\"M19 3H5c-1.1 0-2 .9-2 2v14c0 1.1.9 2 2 2h14c1.1 0 2-.9 2-2V5c0-1.1-.9-2-2-2zM9 17H7v-7h2v7zm4 0h-2V7h2v10zm4 0h-2v-4h2v4z\"/>\n",
              "    </g>\n",
              "</svg>\n",
              "  </button>\n",
              "\n",
              "<style>\n",
              "  .colab-df-quickchart {\n",
              "    background-color: #E8F0FE;\n",
              "    border: none;\n",
              "    border-radius: 50%;\n",
              "    cursor: pointer;\n",
              "    display: none;\n",
              "    fill: #1967D2;\n",
              "    height: 32px;\n",
              "    padding: 0 0 0 0;\n",
              "    width: 32px;\n",
              "  }\n",
              "\n",
              "  .colab-df-quickchart:hover {\n",
              "    background-color: #E2EBFA;\n",
              "    box-shadow: 0px 1px 2px rgba(60, 64, 67, 0.3), 0px 1px 3px 1px rgba(60, 64, 67, 0.15);\n",
              "    fill: #174EA6;\n",
              "  }\n",
              "\n",
              "  [theme=dark] .colab-df-quickchart {\n",
              "    background-color: #3B4455;\n",
              "    fill: #D2E3FC;\n",
              "  }\n",
              "\n",
              "  [theme=dark] .colab-df-quickchart:hover {\n",
              "    background-color: #434B5C;\n",
              "    box-shadow: 0px 1px 3px 1px rgba(0, 0, 0, 0.15);\n",
              "    filter: drop-shadow(0px 1px 2px rgba(0, 0, 0, 0.3));\n",
              "    fill: #FFFFFF;\n",
              "  }\n",
              "</style>\n",
              "\n",
              "  <script>\n",
              "    async function quickchart(key) {\n",
              "      const charts = await google.colab.kernel.invokeFunction(\n",
              "          'suggestCharts', [key], {});\n",
              "    }\n",
              "    (() => {\n",
              "      let quickchartButtonEl =\n",
              "        document.querySelector('#df-a2142fd7-ac26-4060-96e6-038ce9851442 button');\n",
              "      quickchartButtonEl.style.display =\n",
              "        google.colab.kernel.accessAllowed ? 'block' : 'none';\n",
              "    })();\n",
              "  </script>\n",
              "</div>\n",
              "    </div>\n",
              "  </div>\n"
            ]
          },
          "metadata": {},
          "execution_count": 17
        }
      ],
      "source": [
        "df['cleaned_poems'] = df['poem'].apply(lambda t: normalizer.normalize(t))\n",
        "df = df[['cleaned_poems', 'poet']]\n",
        "df.columns = ['poem', 'poet']\n",
        "df"
      ]
    },
    {
      "cell_type": "code",
      "execution_count": null,
      "metadata": {
        "colab": {
          "base_uri": "https://localhost:8080/",
          "height": 571
        },
        "id": "e7-hfGqO9-sd",
        "outputId": "be75ec4d-ddc4-4c66-eb13-be1c9aa293e5"
      },
      "outputs": [
        {
          "output_type": "stream",
          "name": "stdout",
          "text": [
            "moulavi     724\n",
            "attar       724\n",
            "abusaeed    724\n",
            "Name: poet, dtype: int64\n"
          ]
        },
        {
          "output_type": "execute_result",
          "data": {
            "text/plain": [
              "<Axes: >"
            ]
          },
          "metadata": {},
          "execution_count": 18
        },
        {
          "output_type": "display_data",
          "data": {
            "text/plain": [
              "<Figure size 640x480 with 1 Axes>"
            ],
            "image/png": "[encoded data removed]"
          },
          "metadata": {}
        }
      ],
      "source": [
        "count = df['poet'].value_counts()\n",
        "\n",
        "print(count)\n",
        "count.plot.bar()"
      ]
    },
    {
      "cell_type": "code",
      "execution_count": null,
      "metadata": {
        "colab": {
          "base_uri": "https://localhost:8080/"
        },
        "id": "3kJRPEXk_HEx",
        "outputId": "28c09406-4255-4084-879e-3b37c1e7870a"
      },
      "outputs": [
        {
          "output_type": "execute_result",
          "data": {
            "text/plain": [
              "['abusaeed', 'attar', 'moulavi']"
            ]
          },
          "metadata": {},
          "execution_count": 19
        }
      ],
      "source": [
        "labels = list(sorted(df['poet'].unique()))\n",
        "labels"
      ]
    },
    {
      "cell_type": "code",
      "execution_count": null,
      "metadata": {
        "colab": {
          "base_uri": "https://localhost:8080/",
          "height": 424
        },
        "id": "WUqqNAHS_tZC",
        "outputId": "e25c68af-c6b5-4db3-f73c-87ce1e0a3be7"
      },
      "outputs": [
        {
          "output_type": "execute_result",
          "data": {
            "text/plain": [
              "                                                   poem      poet  label_id\n",
              "0     حلقه گوش باخبر حلقه دل حلقه زبر چرخ غم ذره آفت...   moulavi         2\n",
              "1     بنشین همنشین مردانند دود کدورت بنشانند اندیشه ...   moulavi         2\n",
              "2     دانیکه بانگ رباب ره دریاب خطا بری صواب ره بری ...   moulavi         2\n",
              "3     جان سمندرم نگاری آتش قراری باده لبهاش بگردان س...   moulavi         2\n",
              "4     بیمارم غم امتحانم غم جوانم طرفه نگر رنجوری غمش...   moulavi         2\n",
              "...                                                 ...       ...       ...\n",
              "2167   خدمت عمر دراز محرم راز دانستم تاز نرسم جهان مانم  abusaeed         0\n",
              "2168  تافت عنان صبوری جان خراب کاب حلقه تب تاب عنان ...  abusaeed         0\n",
              "2169            معبود خبر کاینات دریوزه مردان مردان قرب  abusaeed         0\n",
              "2170  یار خسته میدار دلت امید دلت شکستگان نظرها شکست...  abusaeed         0\n",
              "2171  دردا زمانه غم درد غبنا دایره غم پرورد فراق دوس...  abusaeed         0\n",
              "\n",
              "[2172 rows x 3 columns]"
            ],
            "text/html": [
              "\n",
              "  <div id=\"df-17379500-0d56-4bec-b81b-41fe47974408\" class=\"colab-df-container\">\n",
              "    <div>\n",
              "<style scoped>\n",
              "    .dataframe tbody tr th:only-of-type {\n",
              "        vertical-align: middle;\n",
              "    }\n",
              "\n",
              "    .dataframe tbody tr th {\n",
              "        vertical-align: top;\n",
              "    }\n",
              "\n",
              "    .dataframe thead th {\n",
              "        text-align: right;\n",
              "    }\n",
              "</style>\n",
              "<table border=\"1\" class=\"dataframe\">\n",
              "  <thead>\n",
              "    <tr style=\"text-align: right;\">\n",
              "      <th></th>\n",
              "      <th>poem</th>\n",
              "      <th>poet</th>\n",
              "      <th>label_id</th>\n",
              "    </tr>\n",
              "  </thead>\n",
              "  <tbody>\n",
              "    <tr>\n",
              "      <th>0</th>\n",
              "      <td>حلقه گوش باخبر حلقه دل حلقه زبر چرخ غم ذره آفت...</td>\n",
              "      <td>moulavi</td>\n",
              "      <td>2</td>\n",
              "    </tr>\n",
              "    <tr>\n",
              "      <th>1</th>\n",
              "      <td>بنشین همنشین مردانند دود کدورت بنشانند اندیشه ...</td>\n",
              "      <td>moulavi</td>\n",
              "      <td>2</td>\n",
              "    </tr>\n",
              "    <tr>\n",
              "      <th>2</th>\n",
              "      <td>دانیکه بانگ رباب ره دریاب خطا بری صواب ره بری ...</td>\n",
              "      <td>moulavi</td>\n",
              "      <td>2</td>\n",
              "    </tr>\n",
              "    <tr>\n",
              "      <th>3</th>\n",
              "      <td>جان سمندرم نگاری آتش قراری باده لبهاش بگردان س...</td>\n",
              "      <td>moulavi</td>\n",
              "      <td>2</td>\n",
              "    </tr>\n",
              "    <tr>\n",
              "      <th>4</th>\n",
              "      <td>بیمارم غم امتحانم غم جوانم طرفه نگر رنجوری غمش...</td>\n",
              "      <td>moulavi</td>\n",
              "      <td>2</td>\n",
              "    </tr>\n",
              "    <tr>\n",
              "      <th>...</th>\n",
              "      <td>...</td>\n",
              "      <td>...</td>\n",
              "      <td>...</td>\n",
              "    </tr>\n",
              "    <tr>\n",
              "      <th>2167</th>\n",
              "      <td>خدمت عمر دراز محرم راز دانستم تاز نرسم جهان مانم</td>\n",
              "      <td>abusaeed</td>\n",
              "      <td>0</td>\n",
              "    </tr>\n",
              "    <tr>\n",
              "      <th>2168</th>\n",
              "      <td>تافت عنان صبوری جان خراب کاب حلقه تب تاب عنان ...</td>\n",
              "      <td>abusaeed</td>\n",
              "      <td>0</td>\n",
              "    </tr>\n",
              "    <tr>\n",
              "      <th>2169</th>\n",
              "      <td>معبود خبر کاینات دریوزه مردان مردان قرب</td>\n",
              "      <td>abusaeed</td>\n",
              "      <td>0</td>\n",
              "    </tr>\n",
              "    <tr>\n",
              "      <th>2170</th>\n",
              "      <td>یار خسته میدار دلت امید دلت شکستگان نظرها شکست...</td>\n",
              "      <td>abusaeed</td>\n",
              "      <td>0</td>\n",
              "    </tr>\n",
              "    <tr>\n",
              "      <th>2171</th>\n",
              "      <td>دردا زمانه غم درد غبنا دایره غم پرورد فراق دوس...</td>\n",
              "      <td>abusaeed</td>\n",
              "      <td>0</td>\n",
              "    </tr>\n",
              "  </tbody>\n",
              "</table>\n",
              "<p>2172 rows × 3 columns</p>\n",
              "</div>\n",
              "    <div class=\"colab-df-buttons\">\n",
              "\n",
              "  <div class=\"colab-df-container\">\n",
              "    <button class=\"colab-df-convert\" onclick=\"convertToInteractive('df-17379500-0d56-4bec-b81b-41fe47974408')\"\n",
              "            title=\"Convert this dataframe to an interactive table.\"\n",
              "            style=\"display:none;\">\n",
              "\n",
              "  <svg xmlns=\"http://www.w3.org/2000/svg\" height=\"24px\" viewBox=\"0 -960 960 960\">\n",
              "    <path d=\"M120-120v-720h720v720H120Zm60-500h600v-160H180v160Zm220 220h160v-160H400v160Zm0 220h160v-160H400v160ZM180-400h160v-160H180v160Zm440 0h160v-160H620v160ZM180-180h160v-160H180v160Zm440 0h160v-160H620v160Z\"/>\n",
              "  </svg>\n",
              "    </button>\n",
              "\n",
              "  <style>\n",
              "    .colab-df-container {\n",
              "      display:flex;\n",
              "      gap: 12px;\n",
              "    }\n",
              "\n",
              "    .colab-df-convert {\n",
              "      background-color: #E8F0FE;\n",
              "      border: none;\n",
              "      border-radius: 50%;\n",
              "      cursor: pointer;\n",
              "      display: none;\n",
              "      fill: #1967D2;\n",
              "      height: 32px;\n",
              "      padding: 0 0 0 0;\n",
              "      width: 32px;\n",
              "    }\n",
              "\n",
              "    .colab-df-convert:hover {\n",
              "      background-color: #E2EBFA;\n",
              "      box-shadow: 0px 1px 2px rgba(60, 64, 67, 0.3), 0px 1px 3px 1px rgba(60, 64, 67, 0.15);\n",
              "      fill: #174EA6;\n",
              "    }\n",
              "\n",
              "    .colab-df-buttons div {\n",
              "      margin-bottom: 4px;\n",
              "    }\n",
              "\n",
              "    [theme=dark] .colab-df-convert {\n",
              "      background-color: #3B4455;\n",
              "      fill: #D2E3FC;\n",
              "    }\n",
              "\n",
              "    [theme=dark] .colab-df-convert:hover {\n",
              "      background-color: #434B5C;\n",
              "      box-shadow: 0px 1px 3px 1px rgba(0, 0, 0, 0.15);\n",
              "      filter: drop-shadow(0px 1px 2px rgba(0, 0, 0, 0.3));\n",
              "      fill: #FFFFFF;\n",
              "    }\n",
              "  </style>\n",
              "\n",
              "    <script>\n",
              "      const buttonEl =\n",
              "        document.querySelector('#df-17379500-0d56-4bec-b81b-41fe47974408 button.colab-df-convert');\n",
              "      buttonEl.style.display =\n",
              "        google.colab.kernel.accessAllowed ? 'block' : 'none';\n",
              "\n",
              "      async function convertToInteractive(key) {\n",
              "        const element = document.querySelector('#df-17379500-0d56-4bec-b81b-41fe47974408');\n",
              "        const dataTable =\n",
              "          await google.colab.kernel.invokeFunction('convertToInteractive',\n",
              "                                                    [key], {});\n",
              "        if (!dataTable) return;\n",
              "\n",
              "        const docLinkHtml = 'Like what you see? Visit the ' +\n",
              "          '<a target=\"_blank\" href=https://colab.research.google.com/notebooks/data_table.ipynb>data table notebook</a>'\n",
              "          + ' to learn more about interactive tables.';\n",
              "        element.innerHTML = '';\n",
              "        dataTable['output_type'] = 'display_data';\n",
              "        await google.colab.output.renderOutput(dataTable, element);\n",
              "        const docLink = document.createElement('div');\n",
              "        docLink.innerHTML = docLinkHtml;\n",
              "        element.appendChild(docLink);\n",
              "      }\n",
              "    </script>\n",
              "  </div>\n",
              "\n",
              "\n",
              "<div id=\"df-0987e20a-90a0-4f7d-9db4-660847de2d8f\">\n",
              "  <button class=\"colab-df-quickchart\" onclick=\"quickchart('df-0987e20a-90a0-4f7d-9db4-660847de2d8f')\"\n",
              "            title=\"Suggest charts.\"\n",
              "            style=\"display:none;\">\n",
              "\n",
              "<svg xmlns=\"http://www.w3.org/2000/svg\" height=\"24px\"viewBox=\"0 0 24 24\"\n",
              "     width=\"24px\">\n",
              "    <g>\n",
              "        <path d=\"M19 3H5c-1.1 0-2 .9-2 2v14c0 1.1.9 2 2 2h14c1.1 0 2-.9 2-2V5c0-1.1-.9-2-2-2zM9 17H7v-7h2v7zm4 0h-2V7h2v10zm4 0h-2v-4h2v4z\"/>\n",
              "    </g>\n",
              "</svg>\n",
              "  </button>\n",
              "\n",
              "<style>\n",
              "  .colab-df-quickchart {\n",
              "    background-color: #E8F0FE;\n",
              "    border: none;\n",
              "    border-radius: 50%;\n",
              "    cursor: pointer;\n",
              "    display: none;\n",
              "    fill: #1967D2;\n",
              "    height: 32px;\n",
              "    padding: 0 0 0 0;\n",
              "    width: 32px;\n",
              "  }\n",
              "\n",
              "  .colab-df-quickchart:hover {\n",
              "    background-color: #E2EBFA;\n",
              "    box-shadow: 0px 1px 2px rgba(60, 64, 67, 0.3), 0px 1px 3px 1px rgba(60, 64, 67, 0.15);\n",
              "    fill: #174EA6;\n",
              "  }\n",
              "\n",
              "  [theme=dark] .colab-df-quickchart {\n",
              "    background-color: #3B4455;\n",
              "    fill: #D2E3FC;\n",
              "  }\n",
              "\n",
              "  [theme=dark] .colab-df-quickchart:hover {\n",
              "    background-color: #434B5C;\n",
              "    box-shadow: 0px 1px 3px 1px rgba(0, 0, 0, 0.15);\n",
              "    filter: drop-shadow(0px 1px 2px rgba(0, 0, 0, 0.3));\n",
              "    fill: #FFFFFF;\n",
              "  }\n",
              "</style>\n",
              "\n",
              "  <script>\n",
              "    async function quickchart(key) {\n",
              "      const charts = await google.colab.kernel.invokeFunction(\n",
              "          'suggestCharts', [key], {});\n",
              "    }\n",
              "    (() => {\n",
              "      let quickchartButtonEl =\n",
              "        document.querySelector('#df-0987e20a-90a0-4f7d-9db4-660847de2d8f button');\n",
              "      quickchartButtonEl.style.display =\n",
              "        google.colab.kernel.accessAllowed ? 'block' : 'none';\n",
              "    })();\n",
              "  </script>\n",
              "</div>\n",
              "    </div>\n",
              "  </div>\n"
            ]
          },
          "metadata": {},
          "execution_count": 20
        }
      ],
      "source": [
        "df['label_id'] = df['poet'].apply(lambda t: labels.index(t))\n",
        "df"
      ]
    },
    {
      "cell_type": "code",
      "execution_count": null,
      "metadata": {
        "colab": {
          "base_uri": "https://localhost:8080/"
        },
        "id": "cMqqOSxCzOYJ",
        "outputId": "8ad58c6c-0304-4ded-846e-956eca2d0414"
      },
      "outputs": [
        {
          "output_type": "stream",
          "name": "stdout",
          "text": [
            "label2id: {'abusaeed': 0, 'attar': 1, 'moulavi': 2}\n",
            "id2label: {0: 'abusaeed', 1: 'attar', 2: 'moulavi'}\n"
          ]
        }
      ],
      "source": [
        "label2id = {label: i for i, label in enumerate(labels)}\n",
        "id2label = {v: k for k, v in label2id.items()}\n",
        "\n",
        "print(f'label2id: {label2id}')\n",
        "print(f'id2label: {id2label}')"
      ]
    },
    {
      "cell_type": "code",
      "execution_count": null,
      "metadata": {
        "id": "LFBujyWzzQtd"
      },
      "outputs": [],
      "source": [
        "from sklearn.model_selection import train_test_split\n",
        "train_data, test_data = train_test_split(df, test_size=0.2, random_state=1, shuffle=True)\n",
        "val_data, test_data = train_test_split(test_data, test_size=0.1, random_state=1, shuffle=True)"
      ]
    },
    {
      "cell_type": "code",
      "execution_count": null,
      "metadata": {
        "id": "BQQQcBM0xLIH"
      },
      "outputs": [],
      "source": [
        "!pip install transformers"
      ]
    },
    {
      "cell_type": "code",
      "execution_count": null,
      "metadata": {
        "id": "vLjxhjqhxDBf"
      },
      "outputs": [],
      "source": [
        "from transformers import AutoConfig, AutoTokenizer\n",
        "from transformers import BertConfig, BertTokenizer\n",
        "\n",
        "MODEL_NAME = 'xlm-roberta-base'\n",
        "tokenizer = AutoTokenizer.from_pretrained(MODEL_NAME)"
      ]
    },
    {
      "cell_type": "code",
      "execution_count": null,
      "metadata": {
        "colab": {
          "base_uri": "https://localhost:8080/",
          "height": 622
        },
        "id": "uAiGuEwdZNxh",
        "outputId": "b1dbca3b-4329-43ee-9bb8-ec90e46a25ab"
      },
      "outputs": [
        {
          "output_type": "stream",
          "name": "stdout",
          "text": [
            "max:  58\n",
            "min:  7\n"
          ]
        },
        {
          "output_type": "execute_result",
          "data": {
            "text/plain": [
              "(array([  0., 100., 200., 300., 400., 500., 600., 700., 800.]),\n",
              " [Text(0, 0.0, '0'),\n",
              "  Text(0, 100.0, '100'),\n",
              "  Text(0, 200.0, '200'),\n",
              "  Text(0, 300.0, '300'),\n",
              "  Text(0, 400.0, '400'),\n",
              "  Text(0, 500.0, '500'),\n",
              "  Text(0, 600.0, '600'),\n",
              "  Text(0, 700.0, '700'),\n",
              "  Text(0, 800.0, '800')])"
            ]
          },
          "metadata": {},
          "execution_count": 25
        },
        {
          "output_type": "display_data",
          "data": {
            "text/plain": [
              "<Figure size 2000x800 with 1 Axes>"
            ],
            "image/png": "[encoded data removed]"
          },
          "metadata": {}
        }
      ],
      "source": [
        "# tokenize the text feature\n",
        "tokenized_feature_raw = tokenizer.batch_encode_plus(\n",
        "                            # Sentences to encode\n",
        "                            df.poem.values.tolist(),\n",
        "                            # Add '[CLS]' and '[SEP]'\n",
        "                            add_special_tokens = True\n",
        "                   )\n",
        "# collect tokenized sentence length\n",
        "token_sentence_length = [len(x) for x in tokenized_feature_raw['input_ids']]\n",
        "print('max: ', max(token_sentence_length))\n",
        "print('min: ', min(token_sentence_length))\n",
        "# plot the distribution\n",
        "import matplotlib.pyplot as plt\n",
        "plt.figure(figsize=(20, 8))\n",
        "plt.hist(token_sentence_length, rwidth = 0.9)\n",
        "plt.xlabel('Sequence Length', fontsize = 18)\n",
        "plt.ylabel('# of Samples', fontsize = 18)\n",
        "plt.xticks(fontsize = 14)\n",
        "plt.yticks(fontsize = 14)"
      ]
    },
    {
      "cell_type": "code",
      "execution_count": null,
      "metadata": {
        "id": "FF_9ykyDyQiT"
      },
      "outputs": [],
      "source": [
        "SEQ_LEN = 128\n",
        "BATCH_SIZE = 32"
      ]
    },
    {
      "cell_type": "code",
      "execution_count": null,
      "metadata": {
        "id": "i6N_rnkQyVxm"
      },
      "outputs": [],
      "source": [
        "tokens = tokenizer(train_data['poem'].tolist(), max_length=SEQ_LEN,\n",
        "                  truncation=True, padding='max_length',\n",
        "                  add_special_tokens=True,\n",
        "                  return_tensors='tf')"
      ]
    },
    {
      "cell_type": "code",
      "execution_count": null,
      "metadata": {
        "id": "fPRtQv7tyePw"
      },
      "outputs": [],
      "source": [
        "val_data_tokens = tokenizer(val_data['poem'].tolist(), max_length=SEQ_LEN,\n",
        "                  truncation=True, padding='max_length',\n",
        "                  add_special_tokens=True,\n",
        "                  return_tensors='tf')"
      ]
    },
    {
      "cell_type": "code",
      "execution_count": null,
      "metadata": {
        "id": "n4vTz7PboiJ0"
      },
      "outputs": [],
      "source": [
        "test_data_tokens = tokenizer(test_data['poem'].tolist(), max_length=SEQ_LEN,\n",
        "                  truncation=True, padding='max_length',\n",
        "                  add_special_tokens=True,\n",
        "                  return_tensors='tf')"
      ]
    },
    {
      "cell_type": "code",
      "execution_count": null,
      "metadata": {
        "id": "Uww7q6Wae2Cv"
      },
      "outputs": [],
      "source": [
        "from sklearn.preprocessing import LabelEncoder\n",
        "from tensorflow.keras.utils import to_categorical\n",
        "\n",
        "\n",
        "le = LabelEncoder()\n",
        "y_train_le = le.fit_transform(train_data['label_id'])\n",
        "y_valid_le  = le.fit_transform(val_data['label_id'])\n",
        "y_test_le = le.fit_transform(test_data['label_id'])\n",
        "\n",
        "hotlabels = to_categorical(y_train_le)\n",
        "val_labels = to_categorical(y_valid_le)\n",
        "test_labels = to_categorical(y_test_le)"
      ]
    },
    {
      "cell_type": "code",
      "execution_count": null,
      "metadata": {
        "id": "VCvmpbPvy4oC"
      },
      "outputs": [],
      "source": [
        "import tensorflow as tf\n",
        "\n",
        "def map_func(input_ids, attention_mask, labels):\n",
        "    return ({'input_ids': input_ids,\n",
        "            'attention_mask': attention_mask}, labels)\n",
        "\n",
        "# train_size = int((tokens['input_ids'].shape[0] / BATCH_SIZE) * 0.8)\n",
        "\n",
        "train_dataset = tf.data.Dataset.from_tensor_slices((tokens['input_ids'], tokens['attention_mask'], hotlabels))\n",
        "train_dataset = train_dataset.map(map_func)\n",
        "train_dataset = train_dataset.shuffle(100).batch(BATCH_SIZE, drop_remainder=True)\n",
        "\n",
        "\n",
        "val_dataset = tf.data.Dataset.from_tensor_slices((val_data_tokens['input_ids'], val_data_tokens['attention_mask'], val_labels))\n",
        "val_dataset = val_dataset.map(map_func)\n",
        "val_dataset = val_dataset.shuffle(100).batch(BATCH_SIZE, drop_remainder=True)"
      ]
    },
    {
      "cell_type": "code",
      "execution_count": null,
      "metadata": {
        "id": "p2oHapQHGtjZ"
      },
      "outputs": [],
      "source": [
        "test_dataset = tf.data.Dataset.from_tensor_slices((test_data_tokens['input_ids'], test_data_tokens['attention_mask'], test_labels))\n",
        "test_dataset = test_dataset.map(map_func)\n",
        "test_dataset = test_dataset.shuffle(100).batch(BATCH_SIZE, drop_remainder=True)"
      ]
    },
    {
      "cell_type": "code",
      "execution_count": null,
      "metadata": {
        "colab": {
          "base_uri": "https://localhost:8080/"
        },
        "id": "ub5QZHW0uWOZ",
        "outputId": "abcdaf21-3bba-4297-9ccd-b11b864e7b5b"
      },
      "outputs": [
        {
          "output_type": "stream",
          "name": "stderr",
          "text": [
            "All PyTorch model weights were used when initializing TFXLMRobertaForSequenceClassification.\n",
            "\n",
            "Some weights or buffers of the TF 2.0 model TFXLMRobertaForSequenceClassification were not initialized from the PyTorch model and are newly initialized: ['classifier.dense.weight', 'classifier.dense.bias', 'classifier.out_proj.weight', 'classifier.out_proj.bias']\n",
            "You should probably TRAIN this model on a down-stream task to be able to use it for predictions and inference.\n"
          ]
        }
      ],
      "source": [
        "from transformers import TFXLMRobertaForSequenceClassification\n",
        "base_model = TFXLMRobertaForSequenceClassification.from_pretrained(\n",
        "    \"xlm-roberta-base\",\n",
        "    num_labels = len(set(labels)),\n",
        "    id2label=id2label,\n",
        "    label2id=label2id,\n",
        ")"
      ]
    },
    {
      "cell_type": "code",
      "execution_count": null,
      "metadata": {
        "id": "-wjQW5e9zzR7"
      },
      "outputs": [],
      "source": [
        "input_ids = tf.keras.layers.Input(shape=(SEQ_LEN,), name='input_ids', dtype='int32')\n",
        "mask = tf.keras.layers.Input(shape=(SEQ_LEN,), name='attention_mask', dtype='int32')\n",
        "classificationResult = base_model([input_ids, mask]).logits\n",
        "Final_output = tf.keras.layers.Dense(3, activation ='softmax', trainable=True)(classificationResult)"
      ]
    },
    {
      "cell_type": "code",
      "execution_count": null,
      "metadata": {
        "id": "5F1XJ5B75LUB"
      },
      "outputs": [],
      "source": [
        "model = tf.keras.Model(inputs=[input_ids, mask], outputs=Final_output)"
      ]
    },
    {
      "cell_type": "code",
      "execution_count": null,
      "metadata": {
        "colab": {
          "base_uri": "https://localhost:8080/"
        },
        "id": "udNtWYtq5TDF",
        "outputId": "287e1fb8-e3f6-4be0-d4cc-857d3dd282d9"
      },
      "outputs": [
        {
          "output_type": "stream",
          "name": "stdout",
          "text": [
            "Model: \"model\"\n",
            "__________________________________________________________________________________________________\n",
            " Layer (type)                   Output Shape         Param #     Connected to                     \n",
            "==================================================================================================\n",
            " input_ids (InputLayer)         [(None, 128)]        0           []                               \n",
            "                                                                                                  \n",
            " attention_mask (InputLayer)    [(None, 128)]        0           []                               \n",
            "                                                                                                  \n",
            " tfxlm_roberta_for_sequence_cla  TFSequenceClassifie  278045955  ['input_ids[0][0]',              \n",
            " ssification (TFXLMRobertaForSe  rOutput(loss=None,               'attention_mask[0][0]']         \n",
            " quenceClassification)          logits=(None, 3),                                                 \n",
            "                                 hidden_states=None                                               \n",
            "                                , attentions=None)                                                \n",
            "                                                                                                  \n",
            " dense (Dense)                  (None, 3)            12          ['tfxlm_roberta_for_sequence_clas\n",
            "                                                                 sification[0][0]']               \n",
            "                                                                                                  \n",
            "==================================================================================================\n",
            "Total params: 278,045,967\n",
            "Trainable params: 278,045,967\n",
            "Non-trainable params: 0\n",
            "__________________________________________________________________________________________________\n"
          ]
        }
      ],
      "source": [
        "model.summary()"
      ]
    },
    {
      "cell_type": "code",
      "execution_count": null,
      "metadata": {
        "id": "ouIn3QBS5X_-"
      },
      "outputs": [],
      "source": [
        "optimizer = tf.keras.optimizers.Adam(learning_rate=2e-5) #learning_rate=1e-4, decay=1e-6\n",
        "loss= tf.keras.losses.CategoricalCrossentropy()\n",
        "acc = tf.keras.metrics.CategoricalAccuracy('accuracy')\n",
        "# f1 = tf.keras.metrics.F1Score(average='weighted', name='f1_score')\n",
        "\n",
        "model.compile(optimizer=optimizer, loss=loss, metrics=[acc])"
      ]
    },
    {
      "cell_type": "code",
      "execution_count": null,
      "metadata": {
        "colab": {
          "base_uri": "https://localhost:8080/"
        },
        "id": "8doRqLAi51OV",
        "outputId": "90d1d600-3a14-4212-b3c4-b3c8ad0defde"
      },
      "outputs": [
        {
          "output_type": "stream",
          "name": "stdout",
          "text": [
            "Epoch 1/5\n",
            "54/54 [==============================] - 113s 941ms/step - loss: 1.1060 - accuracy: 0.3142 - val_loss: 1.0993 - val_accuracy: 0.3229\n",
            "Epoch 2/5\n",
            "54/54 [==============================] - 45s 836ms/step - loss: 1.0959 - accuracy: 0.3536 - val_loss: 1.0807 - val_accuracy: 0.4167\n",
            "Epoch 3/5\n",
            "54/54 [==============================] - 45s 831ms/step - loss: 1.0783 - accuracy: 0.3987 - val_loss: 1.0596 - val_accuracy: 0.5026\n",
            "Epoch 4/5\n",
            "54/54 [==============================] - 45s 833ms/step - loss: 1.0313 - accuracy: 0.4508 - val_loss: 0.9939 - val_accuracy: 0.5729\n",
            "Epoch 5/5\n",
            "54/54 [==============================] - 45s 841ms/step - loss: 0.9422 - accuracy: 0.5330 - val_loss: 0.9154 - val_accuracy: 0.5599\n"
          ]
        }
      ],
      "source": [
        "history = model.fit(train_dataset, validation_data=val_dataset, epochs=5)"
      ]
    },
    {
      "cell_type": "code",
      "execution_count": null,
      "metadata": {
        "id": "H90UDVdjG5z5",
        "colab": {
          "base_uri": "https://localhost:8080/"
        },
        "outputId": "4c3f15dd-188c-485e-afff-71962643c99e"
      },
      "outputs": [
        {
          "metadata": {
            "tags": null
          },
          "name": "stdout",
          "output_type": "stream",
          "text": [
            "FINAL ACCURACY:  0.475\n"
          ]
        }
      ],
      "source": [
        "final_accuracy = history.history['val_accuracy']\n",
        "\n",
        "print('FINAL ACCURACY: ', np.mean(final_accuracy))"
      ]
    },
    {
      "cell_type": "code",
      "execution_count": null,
      "metadata": {
        "id": "5TSLW_ah2Kkq",
        "colab": {
          "base_uri": "https://localhost:8080/",
          "height": 452
        },
        "outputId": "8d9e72a2-0d9e-4c9b-c78b-26f6c6a6a1cb"
      },
      "outputs": [
        {
          "output_type": "display_data",
          "data": {
            "text/plain": [
              "<Figure size 640x480 with 1 Axes>"
            ],
            "image/png": "[encoded data removed]"
          },
          "metadata": {}
        }
      ],
      "source": [
        "plt.title('Loss')\n",
        "plt.plot(history.history['loss'], label='train')\n",
        "plt.plot(history.history['val_loss'], label='validation')\n",
        "plt.legend()\n",
        "plt.show();"
      ]
    },
    {
      "cell_type": "code",
      "source": [
        "added_epochs = 5\n",
        "total_epochs =  5 + added_epochs\n",
        "\n",
        "new_history = model.fit(train_dataset,\n",
        "                         epochs=total_epochs,\n",
        "                         initial_epoch=history.epoch[-1],\n",
        "                         validation_data=val_dataset)\n"
      ],
      "metadata": {
        "colab": {
          "base_uri": "https://localhost:8080/"
        },
        "id": "y2OaEn19Wu-C",
        "outputId": "cd3111b4-fe8c-4938-b3fd-2b2fb0c237d0"
      },
      "execution_count": null,
      "outputs": [
        {
          "output_type": "stream",
          "name": "stdout",
          "text": [
            "Epoch 5/10\n",
            "54/54 [==============================] - 44s 815ms/step - loss: 0.8588 - accuracy: 0.5885 - val_loss: 0.8096 - val_accuracy: 0.6172\n",
            "Epoch 6/10\n",
            "54/54 [==============================] - 44s 813ms/step - loss: 0.7216 - accuracy: 0.6748 - val_loss: 0.8663 - val_accuracy: 0.6562\n",
            "Epoch 7/10\n",
            "54/54 [==============================] - 45s 839ms/step - loss: 0.6380 - accuracy: 0.7205 - val_loss: 0.8751 - val_accuracy: 0.6432\n",
            "Epoch 8/10\n",
            "54/54 [==============================] - 45s 839ms/step - loss: 0.5094 - accuracy: 0.7824 - val_loss: 0.9112 - val_accuracy: 0.6667\n",
            "Epoch 9/10\n",
            "54/54 [==============================] - 45s 840ms/step - loss: 0.5179 - accuracy: 0.7587 - val_loss: 0.9214 - val_accuracy: 0.6432\n",
            "Epoch 10/10\n",
            "54/54 [==============================] - 47s 870ms/step - loss: 0.3755 - accuracy: 0.8490 - val_loss: 1.0321 - val_accuracy: 0.7240\n"
          ]
        }
      ]
    },
    {
      "cell_type": "code",
      "source": [
        "final_accuracy = new_history.history['val_accuracy']\n",
        "\n",
        "print('FINAL ACCURACY: ', np.mean(final_accuracy))"
      ],
      "metadata": {
        "colab": {
          "base_uri": "https://localhost:8080/"
        },
        "id": "YkLHzUlwYwui",
        "outputId": "1fcfb2ad-c483-412a-a31b-395879530dc5"
      },
      "execution_count": null,
      "outputs": [
        {
          "output_type": "stream",
          "name": "stdout",
          "text": [
            "FINAL ACCURACY:  0.6584201455116272\n"
          ]
        }
      ]
    },
    {
      "cell_type": "code",
      "execution_count": null,
      "metadata": {
        "id": "3I9W_XAz6OUI",
        "colab": {
          "base_uri": "https://localhost:8080/"
        },
        "outputId": "9b8c2f32-8335-4410-9af8-7a8cce37c41d"
      },
      "outputs": [
        {
          "output_type": "stream",
          "name": "stdout",
          "text": [
            "1/1 [==============================] - 0s 436ms/step - loss: 0.7439 - accuracy: 0.7188\n"
          ]
        }
      ],
      "source": [
        "test_loss, test_accuracy = model.evaluate(test_dataset)"
      ]
    },
    {
      "cell_type": "code",
      "source": [
        "plt.title('Loss')\n",
        "plt.plot(new_history.history['loss'], label='train')\n",
        "plt.plot(new_history.history['val_loss'], label='validation')\n",
        "plt.legend()\n",
        "plt.show();"
      ],
      "metadata": {
        "colab": {
          "base_uri": "https://localhost:8080/",
          "height": 452
        },
        "id": "LVP4wn7uYzqZ",
        "outputId": "2eaf294a-4426-43ba-b71d-5291b227f735"
      },
      "execution_count": null,
      "outputs": [
        {
          "output_type": "display_data",
          "data": {
            "text/plain": [
              "<Figure size 640x480 with 1 Axes>"
            ],
            "image/png": "[encoded data removed]"
          },
          "metadata": {}
        }
      ]
    },
    {
      "cell_type": "code",
      "execution_count": null,
      "metadata": {
        "id": "9E1ItLvpIV__"
      },
      "outputs": [],
      "source": [
        "def prep_data(text):\n",
        "    tokens = tokenizer(text, max_length=SEQ_LEN, truncation=True, padding='max_length', add_special_tokens=True, return_tensors='tf')\n",
        "    return ({'input_ids': tokens['input_ids'], 'attention_mask': tokens['attention_mask']})"
      ]
    },
    {
      "cell_type": "code",
      "execution_count": null,
      "metadata": {
        "id": "q6LEl4LOH3gp"
      },
      "outputs": [],
      "source": [
        "import numpy as np\n",
        "\n",
        "test_data['predicted-label'] = None\n",
        "# i = 0\n",
        "for i, text in zip(test_data.index, test_data['poem']):\n",
        "    tokens = prep_data(text)\n",
        "    probs = model.predict(tokens)\n",
        "    pred = np.argmax(probs)\n",
        "    test_data['predicted-label'][i] = pred\n"
      ]
    },
    {
      "cell_type": "code",
      "execution_count": null,
      "metadata": {
        "id": "weCWj2wxTgfA"
      },
      "outputs": [],
      "source": [
        "testlist = test_data['label_id'].tolist()\n",
        "predlist = test_data['predicted-label'].tolist()"
      ]
    },
    {
      "cell_type": "code",
      "execution_count": null,
      "metadata": {
        "id": "XVL882AbTK8o",
        "colab": {
          "base_uri": "https://localhost:8080/"
        },
        "outputId": "d60ccc33-442e-44ae-ab4e-b1b4d19ec590"
      },
      "outputs": [
        {
          "output_type": "stream",
          "name": "stdout",
          "text": [
            "              precision    recall  f1-score   support\n",
            "\n",
            "    abusaeed       0.58      0.47      0.52        15\n",
            "       attar       0.67      0.91      0.77        11\n",
            "     moulavi       0.71      0.67      0.69        18\n",
            "\n",
            "    accuracy                           0.66        44\n",
            "   macro avg       0.65      0.68      0.66        44\n",
            "weighted avg       0.65      0.66      0.65        44\n",
            "\n"
          ]
        }
      ],
      "source": [
        "from sklearn.metrics import classification_report\n",
        "from sklearn.metrics import f1_score\n",
        "\n",
        "print(classification_report(testlist, predlist, target_names=labels))"
      ]
    },
    {
      "cell_type": "code",
      "execution_count": null,
      "metadata": {
        "id": "PuW2KA_TailR",
        "colab": {
          "base_uri": "https://localhost:8080/",
          "height": 447
        },
        "outputId": "a0025c81-7396-4c4c-9a37-3a941f7c86d6"
      },
      "outputs": [
        {
          "output_type": "execute_result",
          "data": {
            "text/plain": [
              "<Axes: >"
            ]
          },
          "metadata": {},
          "execution_count": 60
        },
        {
          "output_type": "display_data",
          "data": {
            "text/plain": [
              "<Figure size 640x480 with 1 Axes>"
            ],
            "image/png": "[encoded data removed]"
          },
          "metadata": {}
        }
      ],
      "source": [
        "from sklearn.metrics import confusion_matrix\n",
        "import seaborn as sb\n",
        "matrix_confusion = confusion_matrix(testlist, predlist)\n",
        "sb.heatmap(matrix_confusion, square=True, annot=True, cmap=sb.cubehelix_palette(as_cmap=True)\n",
        ", fmt='d', cbar=False)"
      ]
    }
  ],
  "metadata": {
    "accelerator": "GPU",
    "colab": {
      "provenance": []
    },
    "kernelspec": {
      "display_name": "Python 3",
      "name": "python3"
    },
    "language_info": {
      "name": "python"
    }
  },
  "nbformat": 4,
  "nbformat_minor": 0
}