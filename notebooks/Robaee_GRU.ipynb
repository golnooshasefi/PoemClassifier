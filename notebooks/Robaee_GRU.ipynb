{
  "nbformat": 4,
  "nbformat_minor": 0,
  "metadata": {
    "colab": {
      "provenance": [],
      "gpuType": "T4"
    },
    "kernelspec": {
      "name": "python3",
      "display_name": "Python 3"
    },
    "language_info": {
      "name": "python"
    },
    "accelerator": "GPU"
  },
  "cells": [
    {
      "cell_type": "code",
      "execution_count": null,
      "metadata": {
        "colab": {
          "base_uri": "https://localhost:8080/"
        },
        "id": "lGkDtvwgf1xr",
        "outputId": "7ca52186-4ce8-442a-a4e3-3dc4aafeff1b"
      },
      "outputs": [
        {
          "output_type": "stream",
          "name": "stdout",
          "text": [
            "Mounted at /content/gdrive\n"
          ]
        }
      ],
      "source": [
        "from google.colab import drive\n",
        "drive.mount('/content/gdrive')"
      ]
    },
    {
      "cell_type": "code",
      "execution_count": null,
      "metadata": {
        "id": "GRSr8b72kJ7r"
      },
      "outputs": [],
      "source": [
        "!unzip gdrive/MyDrive/RobaeeDataset.zip"
      ]
    },
    {
      "cell_type": "code",
      "execution_count": null,
      "metadata": {
        "id": "eJ_JCG5hZ5nm"
      },
      "outputs": [],
      "source": [
        "!pip install hazm"
      ]
    },
    {
      "cell_type": "code",
      "execution_count": null,
      "metadata": {
        "id": "ENsi2ej2kwT-"
      },
      "outputs": [],
      "source": [
        "import csv\n",
        "import glob\n",
        "import pandas as pd\n",
        "import os\n",
        "import numpy as np"
      ]
    },
    {
      "cell_type": "code",
      "execution_count": null,
      "metadata": {
        "id": "joxg22bwRSnT"
      },
      "outputs": [],
      "source": [
        "# Data visualization\n",
        "import matplotlib.pyplot as plt\n",
        "import seaborn as sns"
      ]
    },
    {
      "cell_type": "code",
      "execution_count": null,
      "metadata": {
        "id": "Y3uYhAJPkU3J"
      },
      "outputs": [],
      "source": [
        "dirpath = \"./RobaeeDataset\"\n",
        "outputpath = 'datasetcsv.csv'\n",
        "columns_name =[\"poem\",\"poet\"]\n",
        "output = open(outputpath,'w')\n",
        "csvout = csv.DictWriter(output,columns_name)\n",
        "csvout.writeheader()\n",
        "folders_name = os.listdir(dirpath);\n",
        "\n",
        "for folder in folders_name:\n",
        "  # print(folder)\n",
        "  files = os.listdir(dirpath + '/' + folder)\n",
        "  # print(files)\n",
        "\n",
        "  for f in files :\n",
        "    with open(dirpath + '/' + folder + '/' + f,encoding=\"utf8\",errors=\"ignore\")as afile:\n",
        "      text_file = afile.read().replace('\\n',' ')\n",
        "      row = {'poem': text_file,'poet': folder}\n",
        "      csvout.writerow(row)\n",
        "output.close()"
      ]
    },
    {
      "cell_type": "code",
      "execution_count": null,
      "metadata": {
        "colab": {
          "base_uri": "https://localhost:8080/",
          "height": 424
        },
        "id": "gXRf3hSfZqoc",
        "outputId": "7a30b4de-d50e-4335-cee8-f1a095f4f4ab"
      },
      "outputs": [
        {
          "output_type": "execute_result",
          "data": {
            "text/plain": [
              "                                                   poem      poet\n",
              "0      از حلقهٔ گوش از دلم باخبر است در حلقهٔ او دل ...   moulavi\n",
              "1      آنجا بنشین که همنشین مردانند تا دود کدورت ترا...   moulavi\n",
              "2      دانیکه چه میگوید این بانگ رباب اندر پی من بیا...   moulavi\n",
              "3      جان چو سمندرم نگاری دارد در آتش او چه خوش قرا...   moulavi\n",
              "4      بیمارم و غم در امتحانم دارد اما غم او تر و جو...   moulavi\n",
              "...                                                 ...       ...\n",
              "2167   در خدمت تو چو صرف شد عمر دراز گفتم که مگر با ...  abusaeed\n",
              "2168  بر تافت عنان صبوری از جان خراب شد همچو ر کاب ح...  abusaeed\n",
              "2169   آنها که ز معبود خبر یافته‌اند از جملهٔ کاینات...  abusaeed\n",
              "2170   یار آمد و گفت خسته میدار دلت دایم به امید بست...  abusaeed\n",
              "2171   دردا که درین زمانهٔ پر غم و درد غبنا که درین ...  abusaeed\n",
              "\n",
              "[2172 rows x 2 columns]"
            ],
            "text/html": [
              "\n",
              "  <div id=\"df-ac7e463f-d386-45d6-afcc-2410a068a85b\" class=\"colab-df-container\">\n",
              "    <div>\n",
              "<style scoped>\n",
              "    .dataframe tbody tr th:only-of-type {\n",
              "        vertical-align: middle;\n",
              "    }\n",
              "\n",
              "    .dataframe tbody tr th {\n",
              "        vertical-align: top;\n",
              "    }\n",
              "\n",
              "    .dataframe thead th {\n",
              "        text-align: right;\n",
              "    }\n",
              "</style>\n",
              "<table border=\"1\" class=\"dataframe\">\n",
              "  <thead>\n",
              "    <tr style=\"text-align: right;\">\n",
              "      <th></th>\n",
              "      <th>poem</th>\n",
              "      <th>poet</th>\n",
              "    </tr>\n",
              "  </thead>\n",
              "  <tbody>\n",
              "    <tr>\n",
              "      <th>0</th>\n",
              "      <td>از حلقهٔ گوش از دلم باخبر است در حلقهٔ او دل ...</td>\n",
              "      <td>moulavi</td>\n",
              "    </tr>\n",
              "    <tr>\n",
              "      <th>1</th>\n",
              "      <td>آنجا بنشین که همنشین مردانند تا دود کدورت ترا...</td>\n",
              "      <td>moulavi</td>\n",
              "    </tr>\n",
              "    <tr>\n",
              "      <th>2</th>\n",
              "      <td>دانیکه چه میگوید این بانگ رباب اندر پی من بیا...</td>\n",
              "      <td>moulavi</td>\n",
              "    </tr>\n",
              "    <tr>\n",
              "      <th>3</th>\n",
              "      <td>جان چو سمندرم نگاری دارد در آتش او چه خوش قرا...</td>\n",
              "      <td>moulavi</td>\n",
              "    </tr>\n",
              "    <tr>\n",
              "      <th>4</th>\n",
              "      <td>بیمارم و غم در امتحانم دارد اما غم او تر و جو...</td>\n",
              "      <td>moulavi</td>\n",
              "    </tr>\n",
              "    <tr>\n",
              "      <th>...</th>\n",
              "      <td>...</td>\n",
              "      <td>...</td>\n",
              "    </tr>\n",
              "    <tr>\n",
              "      <th>2167</th>\n",
              "      <td>در خدمت تو چو صرف شد عمر دراز گفتم که مگر با ...</td>\n",
              "      <td>abusaeed</td>\n",
              "    </tr>\n",
              "    <tr>\n",
              "      <th>2168</th>\n",
              "      <td>بر تافت عنان صبوری از جان خراب شد همچو ر کاب ح...</td>\n",
              "      <td>abusaeed</td>\n",
              "    </tr>\n",
              "    <tr>\n",
              "      <th>2169</th>\n",
              "      <td>آنها که ز معبود خبر یافته‌اند از جملهٔ کاینات...</td>\n",
              "      <td>abusaeed</td>\n",
              "    </tr>\n",
              "    <tr>\n",
              "      <th>2170</th>\n",
              "      <td>یار آمد و گفت خسته میدار دلت دایم به امید بست...</td>\n",
              "      <td>abusaeed</td>\n",
              "    </tr>\n",
              "    <tr>\n",
              "      <th>2171</th>\n",
              "      <td>دردا که درین زمانهٔ پر غم و درد غبنا که درین ...</td>\n",
              "      <td>abusaeed</td>\n",
              "    </tr>\n",
              "  </tbody>\n",
              "</table>\n",
              "<p>2172 rows × 2 columns</p>\n",
              "</div>\n",
              "    <div class=\"colab-df-buttons\">\n",
              "\n",
              "  <div class=\"colab-df-container\">\n",
              "    <button class=\"colab-df-convert\" onclick=\"convertToInteractive('df-ac7e463f-d386-45d6-afcc-2410a068a85b')\"\n",
              "            title=\"Convert this dataframe to an interactive table.\"\n",
              "            style=\"display:none;\">\n",
              "\n",
              "  <svg xmlns=\"http://www.w3.org/2000/svg\" height=\"24px\" viewBox=\"0 -960 960 960\">\n",
              "    <path d=\"M120-120v-720h720v720H120Zm60-500h600v-160H180v160Zm220 220h160v-160H400v160Zm0 220h160v-160H400v160ZM180-400h160v-160H180v160Zm440 0h160v-160H620v160ZM180-180h160v-160H180v160Zm440 0h160v-160H620v160Z\"/>\n",
              "  </svg>\n",
              "    </button>\n",
              "\n",
              "  <style>\n",
              "    .colab-df-container {\n",
              "      display:flex;\n",
              "      gap: 12px;\n",
              "    }\n",
              "\n",
              "    .colab-df-convert {\n",
              "      background-color: #E8F0FE;\n",
              "      border: none;\n",
              "      border-radius: 50%;\n",
              "      cursor: pointer;\n",
              "      display: none;\n",
              "      fill: #1967D2;\n",
              "      height: 32px;\n",
              "      padding: 0 0 0 0;\n",
              "      width: 32px;\n",
              "    }\n",
              "\n",
              "    .colab-df-convert:hover {\n",
              "      background-color: #E2EBFA;\n",
              "      box-shadow: 0px 1px 2px rgba(60, 64, 67, 0.3), 0px 1px 3px 1px rgba(60, 64, 67, 0.15);\n",
              "      fill: #174EA6;\n",
              "    }\n",
              "\n",
              "    .colab-df-buttons div {\n",
              "      margin-bottom: 4px;\n",
              "    }\n",
              "\n",
              "    [theme=dark] .colab-df-convert {\n",
              "      background-color: #3B4455;\n",
              "      fill: #D2E3FC;\n",
              "    }\n",
              "\n",
              "    [theme=dark] .colab-df-convert:hover {\n",
              "      background-color: #434B5C;\n",
              "      box-shadow: 0px 1px 3px 1px rgba(0, 0, 0, 0.15);\n",
              "      filter: drop-shadow(0px 1px 2px rgba(0, 0, 0, 0.3));\n",
              "      fill: #FFFFFF;\n",
              "    }\n",
              "  </style>\n",
              "\n",
              "    <script>\n",
              "      const buttonEl =\n",
              "        document.querySelector('#df-ac7e463f-d386-45d6-afcc-2410a068a85b button.colab-df-convert');\n",
              "      buttonEl.style.display =\n",
              "        google.colab.kernel.accessAllowed ? 'block' : 'none';\n",
              "\n",
              "      async function convertToInteractive(key) {\n",
              "        const element = document.querySelector('#df-ac7e463f-d386-45d6-afcc-2410a068a85b');\n",
              "        const dataTable =\n",
              "          await google.colab.kernel.invokeFunction('convertToInteractive',\n",
              "                                                    [key], {});\n",
              "        if (!dataTable) return;\n",
              "\n",
              "        const docLinkHtml = 'Like what you see? Visit the ' +\n",
              "          '<a target=\"_blank\" href=https://colab.research.google.com/notebooks/data_table.ipynb>data table notebook</a>'\n",
              "          + ' to learn more about interactive tables.';\n",
              "        element.innerHTML = '';\n",
              "        dataTable['output_type'] = 'display_data';\n",
              "        await google.colab.output.renderOutput(dataTable, element);\n",
              "        const docLink = document.createElement('div');\n",
              "        docLink.innerHTML = docLinkHtml;\n",
              "        element.appendChild(docLink);\n",
              "      }\n",
              "    </script>\n",
              "  </div>\n",
              "\n",
              "\n",
              "<div id=\"df-13b4109e-579a-4557-9123-4f67a9050b04\">\n",
              "  <button class=\"colab-df-quickchart\" onclick=\"quickchart('df-13b4109e-579a-4557-9123-4f67a9050b04')\"\n",
              "            title=\"Suggest charts.\"\n",
              "            style=\"display:none;\">\n",
              "\n",
              "<svg xmlns=\"http://www.w3.org/2000/svg\" height=\"24px\"viewBox=\"0 0 24 24\"\n",
              "     width=\"24px\">\n",
              "    <g>\n",
              "        <path d=\"M19 3H5c-1.1 0-2 .9-2 2v14c0 1.1.9 2 2 2h14c1.1 0 2-.9 2-2V5c0-1.1-.9-2-2-2zM9 17H7v-7h2v7zm4 0h-2V7h2v10zm4 0h-2v-4h2v4z\"/>\n",
              "    </g>\n",
              "</svg>\n",
              "  </button>\n",
              "\n",
              "<style>\n",
              "  .colab-df-quickchart {\n",
              "    background-color: #E8F0FE;\n",
              "    border: none;\n",
              "    border-radius: 50%;\n",
              "    cursor: pointer;\n",
              "    display: none;\n",
              "    fill: #1967D2;\n",
              "    height: 32px;\n",
              "    padding: 0 0 0 0;\n",
              "    width: 32px;\n",
              "  }\n",
              "\n",
              "  .colab-df-quickchart:hover {\n",
              "    background-color: #E2EBFA;\n",
              "    box-shadow: 0px 1px 2px rgba(60, 64, 67, 0.3), 0px 1px 3px 1px rgba(60, 64, 67, 0.15);\n",
              "    fill: #174EA6;\n",
              "  }\n",
              "\n",
              "  [theme=dark] .colab-df-quickchart {\n",
              "    background-color: #3B4455;\n",
              "    fill: #D2E3FC;\n",
              "  }\n",
              "\n",
              "  [theme=dark] .colab-df-quickchart:hover {\n",
              "    background-color: #434B5C;\n",
              "    box-shadow: 0px 1px 3px 1px rgba(0, 0, 0, 0.15);\n",
              "    filter: drop-shadow(0px 1px 2px rgba(0, 0, 0, 0.3));\n",
              "    fill: #FFFFFF;\n",
              "  }\n",
              "</style>\n",
              "\n",
              "  <script>\n",
              "    async function quickchart(key) {\n",
              "      const charts = await google.colab.kernel.invokeFunction(\n",
              "          'suggestCharts', [key], {});\n",
              "    }\n",
              "    (() => {\n",
              "      let quickchartButtonEl =\n",
              "        document.querySelector('#df-13b4109e-579a-4557-9123-4f67a9050b04 button');\n",
              "      quickchartButtonEl.style.display =\n",
              "        google.colab.kernel.accessAllowed ? 'block' : 'none';\n",
              "    })();\n",
              "  </script>\n",
              "</div>\n",
              "    </div>\n",
              "  </div>\n"
            ]
          },
          "metadata": {},
          "execution_count": 6
        }
      ],
      "source": [
        "df = pd.read_csv('datasetcsv.csv')\n",
        "df"
      ]
    },
    {
      "cell_type": "code",
      "execution_count": null,
      "metadata": {
        "colab": {
          "base_uri": "https://localhost:8080/"
        },
        "id": "2XaeoK39aYkT",
        "outputId": "2b0bff50-d125-463c-8621-8c8ec5690bc6"
      },
      "outputs": [
        {
          "output_type": "stream",
          "name": "stdout",
          "text": [
            "missing values stats\n",
            "poem    0\n",
            "poet    0\n",
            "dtype: int64 \n",
            "\n",
            "some missing values\n",
            "Empty DataFrame\n",
            "Columns: [poem, poet]\n",
            "Index: [] \n",
            "\n"
          ]
        }
      ],
      "source": [
        "# print missing values information\n",
        "print('missing values stats')\n",
        "print(df.isnull().sum(), '\\n')\n",
        "\n",
        "# print some missing values\n",
        "print('some missing values')\n",
        "print(df[df['poem'].isnull()], '\\n')"
      ]
    },
    {
      "cell_type": "code",
      "execution_count": null,
      "metadata": {
        "id": "KE-lSdg5akQg"
      },
      "outputs": [],
      "source": [
        "import re\n",
        "import hazm"
      ]
    },
    {
      "cell_type": "code",
      "execution_count": null,
      "metadata": {
        "colab": {
          "base_uri": "https://localhost:8080/",
          "height": 424
        },
        "id": "N6hzTLQx3pM7",
        "outputId": "20b4ed1b-c074-4c41-870d-5fa5ea02ce3f"
      },
      "outputs": [
        {
          "output_type": "execute_result",
          "data": {
            "text/plain": [
              "                                                   poem      poet\n",
              "0     از حلقه گوش از دلم باخبر است در حلقه او دل از ...   moulavi\n",
              "1     آنجا بنشین که همنشین مردانند تا دود کدورت ترا ...   moulavi\n",
              "2     دانیکه چه می گوید این بانگ رباب اندر پی من بیا...   moulavi\n",
              "3     جان چو سمندرم نگاری دارد در آتش او چه خوش قرار...   moulavi\n",
              "4     بیمارم و غم در امتحانم دارد اما غم او تر و جوا...   moulavi\n",
              "...                                                 ...       ...\n",
              "2167  در خدمت تو چو صرف شد عمر دراز گفتم که مگر با ت...  abusaeed\n",
              "2168  بر تافت عنان صبوری از جان خراب شد همچو ر کاب ح...  abusaeed\n",
              "2169  آنها که ز معبود خبر یافته اند از جمله کاینات س...  abusaeed\n",
              "2170  یار آمد و گفت خسته میدار دلت دایم به امید بسته...  abusaeed\n",
              "2171  دردا که درین زمانه پر غم و درد غبنا که درین دا...  abusaeed\n",
              "\n",
              "[2172 rows x 2 columns]"
            ],
            "text/html": [
              "\n",
              "  <div id=\"df-c6a80914-0eea-47db-a740-ae75b1ea9892\" class=\"colab-df-container\">\n",
              "    <div>\n",
              "<style scoped>\n",
              "    .dataframe tbody tr th:only-of-type {\n",
              "        vertical-align: middle;\n",
              "    }\n",
              "\n",
              "    .dataframe tbody tr th {\n",
              "        vertical-align: top;\n",
              "    }\n",
              "\n",
              "    .dataframe thead th {\n",
              "        text-align: right;\n",
              "    }\n",
              "</style>\n",
              "<table border=\"1\" class=\"dataframe\">\n",
              "  <thead>\n",
              "    <tr style=\"text-align: right;\">\n",
              "      <th></th>\n",
              "      <th>poem</th>\n",
              "      <th>poet</th>\n",
              "    </tr>\n",
              "  </thead>\n",
              "  <tbody>\n",
              "    <tr>\n",
              "      <th>0</th>\n",
              "      <td>از حلقه گوش از دلم باخبر است در حلقه او دل از ...</td>\n",
              "      <td>moulavi</td>\n",
              "    </tr>\n",
              "    <tr>\n",
              "      <th>1</th>\n",
              "      <td>آنجا بنشین که همنشین مردانند تا دود کدورت ترا ...</td>\n",
              "      <td>moulavi</td>\n",
              "    </tr>\n",
              "    <tr>\n",
              "      <th>2</th>\n",
              "      <td>دانیکه چه می گوید این بانگ رباب اندر پی من بیا...</td>\n",
              "      <td>moulavi</td>\n",
              "    </tr>\n",
              "    <tr>\n",
              "      <th>3</th>\n",
              "      <td>جان چو سمندرم نگاری دارد در آتش او چه خوش قرار...</td>\n",
              "      <td>moulavi</td>\n",
              "    </tr>\n",
              "    <tr>\n",
              "      <th>4</th>\n",
              "      <td>بیمارم و غم در امتحانم دارد اما غم او تر و جوا...</td>\n",
              "      <td>moulavi</td>\n",
              "    </tr>\n",
              "    <tr>\n",
              "      <th>...</th>\n",
              "      <td>...</td>\n",
              "      <td>...</td>\n",
              "    </tr>\n",
              "    <tr>\n",
              "      <th>2167</th>\n",
              "      <td>در خدمت تو چو صرف شد عمر دراز گفتم که مگر با ت...</td>\n",
              "      <td>abusaeed</td>\n",
              "    </tr>\n",
              "    <tr>\n",
              "      <th>2168</th>\n",
              "      <td>بر تافت عنان صبوری از جان خراب شد همچو ر کاب ح...</td>\n",
              "      <td>abusaeed</td>\n",
              "    </tr>\n",
              "    <tr>\n",
              "      <th>2169</th>\n",
              "      <td>آنها که ز معبود خبر یافته اند از جمله کاینات س...</td>\n",
              "      <td>abusaeed</td>\n",
              "    </tr>\n",
              "    <tr>\n",
              "      <th>2170</th>\n",
              "      <td>یار آمد و گفت خسته میدار دلت دایم به امید بسته...</td>\n",
              "      <td>abusaeed</td>\n",
              "    </tr>\n",
              "    <tr>\n",
              "      <th>2171</th>\n",
              "      <td>دردا که درین زمانه پر غم و درد غبنا که درین دا...</td>\n",
              "      <td>abusaeed</td>\n",
              "    </tr>\n",
              "  </tbody>\n",
              "</table>\n",
              "<p>2172 rows × 2 columns</p>\n",
              "</div>\n",
              "    <div class=\"colab-df-buttons\">\n",
              "\n",
              "  <div class=\"colab-df-container\">\n",
              "    <button class=\"colab-df-convert\" onclick=\"convertToInteractive('df-c6a80914-0eea-47db-a740-ae75b1ea9892')\"\n",
              "            title=\"Convert this dataframe to an interactive table.\"\n",
              "            style=\"display:none;\">\n",
              "\n",
              "  <svg xmlns=\"http://www.w3.org/2000/svg\" height=\"24px\" viewBox=\"0 -960 960 960\">\n",
              "    <path d=\"M120-120v-720h720v720H120Zm60-500h600v-160H180v160Zm220 220h160v-160H400v160Zm0 220h160v-160H400v160ZM180-400h160v-160H180v160Zm440 0h160v-160H620v160ZM180-180h160v-160H180v160Zm440 0h160v-160H620v160Z\"/>\n",
              "  </svg>\n",
              "    </button>\n",
              "\n",
              "  <style>\n",
              "    .colab-df-container {\n",
              "      display:flex;\n",
              "      gap: 12px;\n",
              "    }\n",
              "\n",
              "    .colab-df-convert {\n",
              "      background-color: #E8F0FE;\n",
              "      border: none;\n",
              "      border-radius: 50%;\n",
              "      cursor: pointer;\n",
              "      display: none;\n",
              "      fill: #1967D2;\n",
              "      height: 32px;\n",
              "      padding: 0 0 0 0;\n",
              "      width: 32px;\n",
              "    }\n",
              "\n",
              "    .colab-df-convert:hover {\n",
              "      background-color: #E2EBFA;\n",
              "      box-shadow: 0px 1px 2px rgba(60, 64, 67, 0.3), 0px 1px 3px 1px rgba(60, 64, 67, 0.15);\n",
              "      fill: #174EA6;\n",
              "    }\n",
              "\n",
              "    .colab-df-buttons div {\n",
              "      margin-bottom: 4px;\n",
              "    }\n",
              "\n",
              "    [theme=dark] .colab-df-convert {\n",
              "      background-color: #3B4455;\n",
              "      fill: #D2E3FC;\n",
              "    }\n",
              "\n",
              "    [theme=dark] .colab-df-convert:hover {\n",
              "      background-color: #434B5C;\n",
              "      box-shadow: 0px 1px 3px 1px rgba(0, 0, 0, 0.15);\n",
              "      filter: drop-shadow(0px 1px 2px rgba(0, 0, 0, 0.3));\n",
              "      fill: #FFFFFF;\n",
              "    }\n",
              "  </style>\n",
              "\n",
              "    <script>\n",
              "      const buttonEl =\n",
              "        document.querySelector('#df-c6a80914-0eea-47db-a740-ae75b1ea9892 button.colab-df-convert');\n",
              "      buttonEl.style.display =\n",
              "        google.colab.kernel.accessAllowed ? 'block' : 'none';\n",
              "\n",
              "      async function convertToInteractive(key) {\n",
              "        const element = document.querySelector('#df-c6a80914-0eea-47db-a740-ae75b1ea9892');\n",
              "        const dataTable =\n",
              "          await google.colab.kernel.invokeFunction('convertToInteractive',\n",
              "                                                    [key], {});\n",
              "        if (!dataTable) return;\n",
              "\n",
              "        const docLinkHtml = 'Like what you see? Visit the ' +\n",
              "          '<a target=\"_blank\" href=https://colab.research.google.com/notebooks/data_table.ipynb>data table notebook</a>'\n",
              "          + ' to learn more about interactive tables.';\n",
              "        element.innerHTML = '';\n",
              "        dataTable['output_type'] = 'display_data';\n",
              "        await google.colab.output.renderOutput(dataTable, element);\n",
              "        const docLink = document.createElement('div');\n",
              "        docLink.innerHTML = docLinkHtml;\n",
              "        element.appendChild(docLink);\n",
              "      }\n",
              "    </script>\n",
              "  </div>\n",
              "\n",
              "\n",
              "<div id=\"df-c7877ba2-d9be-40b2-9aaa-bbdba6e96f38\">\n",
              "  <button class=\"colab-df-quickchart\" onclick=\"quickchart('df-c7877ba2-d9be-40b2-9aaa-bbdba6e96f38')\"\n",
              "            title=\"Suggest charts.\"\n",
              "            style=\"display:none;\">\n",
              "\n",
              "<svg xmlns=\"http://www.w3.org/2000/svg\" height=\"24px\"viewBox=\"0 0 24 24\"\n",
              "     width=\"24px\">\n",
              "    <g>\n",
              "        <path d=\"M19 3H5c-1.1 0-2 .9-2 2v14c0 1.1.9 2 2 2h14c1.1 0 2-.9 2-2V5c0-1.1-.9-2-2-2zM9 17H7v-7h2v7zm4 0h-2V7h2v10zm4 0h-2v-4h2v4z\"/>\n",
              "    </g>\n",
              "</svg>\n",
              "  </button>\n",
              "\n",
              "<style>\n",
              "  .colab-df-quickchart {\n",
              "    background-color: #E8F0FE;\n",
              "    border: none;\n",
              "    border-radius: 50%;\n",
              "    cursor: pointer;\n",
              "    display: none;\n",
              "    fill: #1967D2;\n",
              "    height: 32px;\n",
              "    padding: 0 0 0 0;\n",
              "    width: 32px;\n",
              "  }\n",
              "\n",
              "  .colab-df-quickchart:hover {\n",
              "    background-color: #E2EBFA;\n",
              "    box-shadow: 0px 1px 2px rgba(60, 64, 67, 0.3), 0px 1px 3px 1px rgba(60, 64, 67, 0.15);\n",
              "    fill: #174EA6;\n",
              "  }\n",
              "\n",
              "  [theme=dark] .colab-df-quickchart {\n",
              "    background-color: #3B4455;\n",
              "    fill: #D2E3FC;\n",
              "  }\n",
              "\n",
              "  [theme=dark] .colab-df-quickchart:hover {\n",
              "    background-color: #434B5C;\n",
              "    box-shadow: 0px 1px 3px 1px rgba(0, 0, 0, 0.15);\n",
              "    filter: drop-shadow(0px 1px 2px rgba(0, 0, 0, 0.3));\n",
              "    fill: #FFFFFF;\n",
              "  }\n",
              "</style>\n",
              "\n",
              "  <script>\n",
              "    async function quickchart(key) {\n",
              "      const charts = await google.colab.kernel.invokeFunction(\n",
              "          'suggestCharts', [key], {});\n",
              "    }\n",
              "    (() => {\n",
              "      let quickchartButtonEl =\n",
              "        document.querySelector('#df-c7877ba2-d9be-40b2-9aaa-bbdba6e96f38 button');\n",
              "      quickchartButtonEl.style.display =\n",
              "        google.colab.kernel.accessAllowed ? 'block' : 'none';\n",
              "    })();\n",
              "  </script>\n",
              "</div>\n",
              "    </div>\n",
              "  </div>\n"
            ]
          },
          "metadata": {},
          "execution_count": 9
        }
      ],
      "source": [
        "normalizer = hazm.Normalizer()\n",
        "def cleaning(text):\n",
        "    text = text.strip()\n",
        "    # normalizing\n",
        "    text = normalizer.normalize(text)\n",
        "\n",
        "    # replacing all spaces,hyphens,  with white space\n",
        "    space_pattern = r\"[\\xad\\ufeff\\u200e\\u200d\\u200b\\x7f\\u202a\\u2003\\xa0\\u206e\\u200c\\x9d\\]]\"\n",
        "    space_pattern = re.compile(space_pattern)\n",
        "    text = space_pattern.sub(\" \", text)\n",
        "\n",
        "    # let's delete the un-required elements\n",
        "    deleted_pattern = r\"(\\d|[\\|\\[]]|\\\"|'ٍ|[0-9]|¬|[a-zA-Z]|[؛“،,”‘۔’’‘–]|[|\\.÷+\\:\\-\\?»\\=\\{}\\*«_…\\؟!/ـ]|[۲۹۱۷۸۵۶۴۴۳]|[\\\\u\\\\x]|[\\(\\)]|[۰'ٓ۫'ٔ]|[ٓٔ]|[ًٌٍْﹼ،َُِّ«ٰ»ٖء]|\\[]|\\[\\])\"\n",
        "    deleted_pattern = re.compile(deleted_pattern)\n",
        "    text = deleted_pattern.sub(\"\", text).strip()\n",
        "\n",
        "\n",
        "    # removing wierd patterns\n",
        "    wierd_pattern = re.compile(\"[\"\n",
        "        u\"\\U0001F300-\\U0001F5FF\"  # symbols & pictographs\n",
        "        u\"\\U0001F680-\\U0001F6FF\"  # transport & map symbols\n",
        "        u\"\\U0001F1E0-\\U0001F1FF\"  # flags (iOS)\n",
        "        u\"\\U00002702-\\U000027B0\"\n",
        "        u\"\\U000024C2-\\U0001F251\"\n",
        "        u\"\\U0001f926-\\U0001f937\"\n",
        "        u'\\U00010000-\\U0010ffff'\n",
        "        # u\"\\0x06F0-\\0x06F9\"\n",
        "        u\"\\u200d\"\n",
        "        u\"\\u200c\"\n",
        "        u\"\\u2640-\\u2642\"\n",
        "        u\"\\u2600-\\u2B55\"\n",
        "        u\"\\u23cf\"\n",
        "        u\"\\u23e9\"\n",
        "        u\"\\u231a\"\n",
        "        u\"\\u3030\"\n",
        "        u\"\\ufe0f\"\n",
        "        u\"\\u2069\"\n",
        "        u\"\\u2066\"\n",
        "        u\"\\u2068\"\n",
        "        u\"\\u2067\"\n",
        "        \"]+\", flags=re.UNICODE)\n",
        "\n",
        "    text = wierd_pattern.sub(r'', text)\n",
        "    # removing extra spaces, hashtags\n",
        "    text = re.sub(\"#\", \"\", text)\n",
        "    text = re.sub(\"\\s+\", \" \", text)\n",
        "    return text\n",
        "\n",
        "df['cleaned_poems'] = df['poem'].apply(cleaning)\n",
        "df = df[['cleaned_poems', 'poet']]\n",
        "df.columns = ['poem', 'poet']\n",
        "df"
      ]
    },
    {
      "cell_type": "code",
      "source": [
        "labels = list(sorted(df['poet'].unique()))\n",
        "labels"
      ],
      "metadata": {
        "colab": {
          "base_uri": "https://localhost:8080/"
        },
        "id": "TeAwSDmcFyjg",
        "outputId": "0245a7f7-5e82-42fe-bb2e-35b43b6ae4e8"
      },
      "execution_count": null,
      "outputs": [
        {
          "output_type": "execute_result",
          "data": {
            "text/plain": [
              "['abusaeed', 'attar', 'moulavi']"
            ]
          },
          "metadata": {},
          "execution_count": 10
        }
      ]
    },
    {
      "cell_type": "code",
      "source": [
        "df['label_id'] = df['poet'].apply(lambda t: labels.index(t))\n",
        "df"
      ],
      "metadata": {
        "colab": {
          "base_uri": "https://localhost:8080/",
          "height": 424
        },
        "id": "VxCipH4uGpat",
        "outputId": "2c5fe407-4f61-49cc-f36d-60b4e18a592c"
      },
      "execution_count": null,
      "outputs": [
        {
          "output_type": "execute_result",
          "data": {
            "text/plain": [
              "                                                   poem      poet  label_id\n",
              "0     از حلقه گوش از دلم باخبر است در حلقه او دل از ...   moulavi         2\n",
              "1     آنجا بنشین که همنشین مردانند تا دود کدورت ترا ...   moulavi         2\n",
              "2     دانیکه چه می گوید این بانگ رباب اندر پی من بیا...   moulavi         2\n",
              "3     جان چو سمندرم نگاری دارد در آتش او چه خوش قرار...   moulavi         2\n",
              "4     بیمارم و غم در امتحانم دارد اما غم او تر و جوا...   moulavi         2\n",
              "...                                                 ...       ...       ...\n",
              "2167  در خدمت تو چو صرف شد عمر دراز گفتم که مگر با ت...  abusaeed         0\n",
              "2168  بر تافت عنان صبوری از جان خراب شد همچو ر کاب ح...  abusaeed         0\n",
              "2169  آنها که ز معبود خبر یافته اند از جمله کاینات س...  abusaeed         0\n",
              "2170  یار آمد و گفت خسته میدار دلت دایم به امید بسته...  abusaeed         0\n",
              "2171  دردا که درین زمانه پر غم و درد غبنا که درین دا...  abusaeed         0\n",
              "\n",
              "[2172 rows x 3 columns]"
            ],
            "text/html": [
              "\n",
              "  <div id=\"df-9594f156-2d24-415c-8a9a-f8833d82d862\" class=\"colab-df-container\">\n",
              "    <div>\n",
              "<style scoped>\n",
              "    .dataframe tbody tr th:only-of-type {\n",
              "        vertical-align: middle;\n",
              "    }\n",
              "\n",
              "    .dataframe tbody tr th {\n",
              "        vertical-align: top;\n",
              "    }\n",
              "\n",
              "    .dataframe thead th {\n",
              "        text-align: right;\n",
              "    }\n",
              "</style>\n",
              "<table border=\"1\" class=\"dataframe\">\n",
              "  <thead>\n",
              "    <tr style=\"text-align: right;\">\n",
              "      <th></th>\n",
              "      <th>poem</th>\n",
              "      <th>poet</th>\n",
              "      <th>label_id</th>\n",
              "    </tr>\n",
              "  </thead>\n",
              "  <tbody>\n",
              "    <tr>\n",
              "      <th>0</th>\n",
              "      <td>از حلقه گوش از دلم باخبر است در حلقه او دل از ...</td>\n",
              "      <td>moulavi</td>\n",
              "      <td>2</td>\n",
              "    </tr>\n",
              "    <tr>\n",
              "      <th>1</th>\n",
              "      <td>آنجا بنشین که همنشین مردانند تا دود کدورت ترا ...</td>\n",
              "      <td>moulavi</td>\n",
              "      <td>2</td>\n",
              "    </tr>\n",
              "    <tr>\n",
              "      <th>2</th>\n",
              "      <td>دانیکه چه می گوید این بانگ رباب اندر پی من بیا...</td>\n",
              "      <td>moulavi</td>\n",
              "      <td>2</td>\n",
              "    </tr>\n",
              "    <tr>\n",
              "      <th>3</th>\n",
              "      <td>جان چو سمندرم نگاری دارد در آتش او چه خوش قرار...</td>\n",
              "      <td>moulavi</td>\n",
              "      <td>2</td>\n",
              "    </tr>\n",
              "    <tr>\n",
              "      <th>4</th>\n",
              "      <td>بیمارم و غم در امتحانم دارد اما غم او تر و جوا...</td>\n",
              "      <td>moulavi</td>\n",
              "      <td>2</td>\n",
              "    </tr>\n",
              "    <tr>\n",
              "      <th>...</th>\n",
              "      <td>...</td>\n",
              "      <td>...</td>\n",
              "      <td>...</td>\n",
              "    </tr>\n",
              "    <tr>\n",
              "      <th>2167</th>\n",
              "      <td>در خدمت تو چو صرف شد عمر دراز گفتم که مگر با ت...</td>\n",
              "      <td>abusaeed</td>\n",
              "      <td>0</td>\n",
              "    </tr>\n",
              "    <tr>\n",
              "      <th>2168</th>\n",
              "      <td>بر تافت عنان صبوری از جان خراب شد همچو ر کاب ح...</td>\n",
              "      <td>abusaeed</td>\n",
              "      <td>0</td>\n",
              "    </tr>\n",
              "    <tr>\n",
              "      <th>2169</th>\n",
              "      <td>آنها که ز معبود خبر یافته اند از جمله کاینات س...</td>\n",
              "      <td>abusaeed</td>\n",
              "      <td>0</td>\n",
              "    </tr>\n",
              "    <tr>\n",
              "      <th>2170</th>\n",
              "      <td>یار آمد و گفت خسته میدار دلت دایم به امید بسته...</td>\n",
              "      <td>abusaeed</td>\n",
              "      <td>0</td>\n",
              "    </tr>\n",
              "    <tr>\n",
              "      <th>2171</th>\n",
              "      <td>دردا که درین زمانه پر غم و درد غبنا که درین دا...</td>\n",
              "      <td>abusaeed</td>\n",
              "      <td>0</td>\n",
              "    </tr>\n",
              "  </tbody>\n",
              "</table>\n",
              "<p>2172 rows × 3 columns</p>\n",
              "</div>\n",
              "    <div class=\"colab-df-buttons\">\n",
              "\n",
              "  <div class=\"colab-df-container\">\n",
              "    <button class=\"colab-df-convert\" onclick=\"convertToInteractive('df-9594f156-2d24-415c-8a9a-f8833d82d862')\"\n",
              "            title=\"Convert this dataframe to an interactive table.\"\n",
              "            style=\"display:none;\">\n",
              "\n",
              "  <svg xmlns=\"http://www.w3.org/2000/svg\" height=\"24px\" viewBox=\"0 -960 960 960\">\n",
              "    <path d=\"M120-120v-720h720v720H120Zm60-500h600v-160H180v160Zm220 220h160v-160H400v160Zm0 220h160v-160H400v160ZM180-400h160v-160H180v160Zm440 0h160v-160H620v160ZM180-180h160v-160H180v160Zm440 0h160v-160H620v160Z\"/>\n",
              "  </svg>\n",
              "    </button>\n",
              "\n",
              "  <style>\n",
              "    .colab-df-container {\n",
              "      display:flex;\n",
              "      gap: 12px;\n",
              "    }\n",
              "\n",
              "    .colab-df-convert {\n",
              "      background-color: #E8F0FE;\n",
              "      border: none;\n",
              "      border-radius: 50%;\n",
              "      cursor: pointer;\n",
              "      display: none;\n",
              "      fill: #1967D2;\n",
              "      height: 32px;\n",
              "      padding: 0 0 0 0;\n",
              "      width: 32px;\n",
              "    }\n",
              "\n",
              "    .colab-df-convert:hover {\n",
              "      background-color: #E2EBFA;\n",
              "      box-shadow: 0px 1px 2px rgba(60, 64, 67, 0.3), 0px 1px 3px 1px rgba(60, 64, 67, 0.15);\n",
              "      fill: #174EA6;\n",
              "    }\n",
              "\n",
              "    .colab-df-buttons div {\n",
              "      margin-bottom: 4px;\n",
              "    }\n",
              "\n",
              "    [theme=dark] .colab-df-convert {\n",
              "      background-color: #3B4455;\n",
              "      fill: #D2E3FC;\n",
              "    }\n",
              "\n",
              "    [theme=dark] .colab-df-convert:hover {\n",
              "      background-color: #434B5C;\n",
              "      box-shadow: 0px 1px 3px 1px rgba(0, 0, 0, 0.15);\n",
              "      filter: drop-shadow(0px 1px 2px rgba(0, 0, 0, 0.3));\n",
              "      fill: #FFFFFF;\n",
              "    }\n",
              "  </style>\n",
              "\n",
              "    <script>\n",
              "      const buttonEl =\n",
              "        document.querySelector('#df-9594f156-2d24-415c-8a9a-f8833d82d862 button.colab-df-convert');\n",
              "      buttonEl.style.display =\n",
              "        google.colab.kernel.accessAllowed ? 'block' : 'none';\n",
              "\n",
              "      async function convertToInteractive(key) {\n",
              "        const element = document.querySelector('#df-9594f156-2d24-415c-8a9a-f8833d82d862');\n",
              "        const dataTable =\n",
              "          await google.colab.kernel.invokeFunction('convertToInteractive',\n",
              "                                                    [key], {});\n",
              "        if (!dataTable) return;\n",
              "\n",
              "        const docLinkHtml = 'Like what you see? Visit the ' +\n",
              "          '<a target=\"_blank\" href=https://colab.research.google.com/notebooks/data_table.ipynb>data table notebook</a>'\n",
              "          + ' to learn more about interactive tables.';\n",
              "        element.innerHTML = '';\n",
              "        dataTable['output_type'] = 'display_data';\n",
              "        await google.colab.output.renderOutput(dataTable, element);\n",
              "        const docLink = document.createElement('div');\n",
              "        docLink.innerHTML = docLinkHtml;\n",
              "        element.appendChild(docLink);\n",
              "      }\n",
              "    </script>\n",
              "  </div>\n",
              "\n",
              "\n",
              "<div id=\"df-0969f128-5c30-4355-8943-1510d193aa39\">\n",
              "  <button class=\"colab-df-quickchart\" onclick=\"quickchart('df-0969f128-5c30-4355-8943-1510d193aa39')\"\n",
              "            title=\"Suggest charts.\"\n",
              "            style=\"display:none;\">\n",
              "\n",
              "<svg xmlns=\"http://www.w3.org/2000/svg\" height=\"24px\"viewBox=\"0 0 24 24\"\n",
              "     width=\"24px\">\n",
              "    <g>\n",
              "        <path d=\"M19 3H5c-1.1 0-2 .9-2 2v14c0 1.1.9 2 2 2h14c1.1 0 2-.9 2-2V5c0-1.1-.9-2-2-2zM9 17H7v-7h2v7zm4 0h-2V7h2v10zm4 0h-2v-4h2v4z\"/>\n",
              "    </g>\n",
              "</svg>\n",
              "  </button>\n",
              "\n",
              "<style>\n",
              "  .colab-df-quickchart {\n",
              "    background-color: #E8F0FE;\n",
              "    border: none;\n",
              "    border-radius: 50%;\n",
              "    cursor: pointer;\n",
              "    display: none;\n",
              "    fill: #1967D2;\n",
              "    height: 32px;\n",
              "    padding: 0 0 0 0;\n",
              "    width: 32px;\n",
              "  }\n",
              "\n",
              "  .colab-df-quickchart:hover {\n",
              "    background-color: #E2EBFA;\n",
              "    box-shadow: 0px 1px 2px rgba(60, 64, 67, 0.3), 0px 1px 3px 1px rgba(60, 64, 67, 0.15);\n",
              "    fill: #174EA6;\n",
              "  }\n",
              "\n",
              "  [theme=dark] .colab-df-quickchart {\n",
              "    background-color: #3B4455;\n",
              "    fill: #D2E3FC;\n",
              "  }\n",
              "\n",
              "  [theme=dark] .colab-df-quickchart:hover {\n",
              "    background-color: #434B5C;\n",
              "    box-shadow: 0px 1px 3px 1px rgba(0, 0, 0, 0.15);\n",
              "    filter: drop-shadow(0px 1px 2px rgba(0, 0, 0, 0.3));\n",
              "    fill: #FFFFFF;\n",
              "  }\n",
              "</style>\n",
              "\n",
              "  <script>\n",
              "    async function quickchart(key) {\n",
              "      const charts = await google.colab.kernel.invokeFunction(\n",
              "          'suggestCharts', [key], {});\n",
              "    }\n",
              "    (() => {\n",
              "      let quickchartButtonEl =\n",
              "        document.querySelector('#df-0969f128-5c30-4355-8943-1510d193aa39 button');\n",
              "      quickchartButtonEl.style.display =\n",
              "        google.colab.kernel.accessAllowed ? 'block' : 'none';\n",
              "    })();\n",
              "  </script>\n",
              "</div>\n",
              "    </div>\n",
              "  </div>\n"
            ]
          },
          "metadata": {},
          "execution_count": 11
        }
      ]
    },
    {
      "cell_type": "code",
      "execution_count": null,
      "metadata": {
        "id": "tiI3b9HuIZzw"
      },
      "outputs": [],
      "source": [
        "def stop_word_importer(file_name):# importing persian stopwords\n",
        "    with open(file_name, 'r', encoding=\"utf8\") as myfile:\n",
        "        stop_words = myfile.read().replace('\\n', ' ').replace(\"\\u200c\",\"\").replace(\"\\ufeff\",\"\").replace(\".\",\" \").split(' ')# a list of stop words\n",
        "    return stop_words"
      ]
    },
    {
      "cell_type": "code",
      "execution_count": null,
      "metadata": {
        "id": "bZh08JySKGmK"
      },
      "outputs": [],
      "source": [
        "stop_words = stop_word_importer('stop_words.txt') # importing stop words to a list"
      ]
    },
    {
      "cell_type": "code",
      "execution_count": null,
      "metadata": {
        "colab": {
          "base_uri": "https://localhost:8080/",
          "height": 424
        },
        "id": "b7HQ2x3RJcsI",
        "outputId": "976bf0b7-bddd-4969-afd3-7fa2ab5859c1"
      },
      "outputs": [
        {
          "output_type": "execute_result",
          "data": {
            "text/plain": [
              "                                                   poem      poet\n",
              "0     حلقه گوش باخبر حلقه دل حلقه زبر چرخ غم ذره آفت...   moulavi\n",
              "1     بنشین همنشین مردانند دود کدورت بنشانند اندیشه ...   moulavi\n",
              "2     دانیکه بانگ رباب ره دریاب خطا بری صواب ره بری ...   moulavi\n",
              "3     جان سمندرم نگاری آتش قراری باده لبهاش بگردان س...   moulavi\n",
              "4     بیمارم غم امتحانم غم جوانم طرفه نگر رنجوری غمش...   moulavi\n",
              "...                                                 ...       ...\n",
              "2167  خدمت صرف عمر دراز محرم راز دانستم تاز نرسم جها...  abusaeed\n",
              "2168  تافت عنان صبوری جان خراب کاب حلقه تب تاب عنان ...  abusaeed\n",
              "2169    معبود خبر کاینات دریوزه مردان نظر مردان قرب نظر  abusaeed\n",
              "2170  یار خسته میدار دلت امید دلت شکستگان نظرها شکست...  abusaeed\n",
              "2171  دردا زمانه غم درد غبنا دایره غم پرورد فراق دوس...  abusaeed\n",
              "\n",
              "[2172 rows x 2 columns]"
            ],
            "text/html": [
              "\n",
              "  <div id=\"df-2d20c6bb-15cf-4f51-8bbc-e70c2a3f379d\" class=\"colab-df-container\">\n",
              "    <div>\n",
              "<style scoped>\n",
              "    .dataframe tbody tr th:only-of-type {\n",
              "        vertical-align: middle;\n",
              "    }\n",
              "\n",
              "    .dataframe tbody tr th {\n",
              "        vertical-align: top;\n",
              "    }\n",
              "\n",
              "    .dataframe thead th {\n",
              "        text-align: right;\n",
              "    }\n",
              "</style>\n",
              "<table border=\"1\" class=\"dataframe\">\n",
              "  <thead>\n",
              "    <tr style=\"text-align: right;\">\n",
              "      <th></th>\n",
              "      <th>poem</th>\n",
              "      <th>poet</th>\n",
              "    </tr>\n",
              "  </thead>\n",
              "  <tbody>\n",
              "    <tr>\n",
              "      <th>0</th>\n",
              "      <td>حلقه گوش باخبر حلقه دل حلقه زبر چرخ غم ذره آفت...</td>\n",
              "      <td>moulavi</td>\n",
              "    </tr>\n",
              "    <tr>\n",
              "      <th>1</th>\n",
              "      <td>بنشین همنشین مردانند دود کدورت بنشانند اندیشه ...</td>\n",
              "      <td>moulavi</td>\n",
              "    </tr>\n",
              "    <tr>\n",
              "      <th>2</th>\n",
              "      <td>دانیکه بانگ رباب ره دریاب خطا بری صواب ره بری ...</td>\n",
              "      <td>moulavi</td>\n",
              "    </tr>\n",
              "    <tr>\n",
              "      <th>3</th>\n",
              "      <td>جان سمندرم نگاری آتش قراری باده لبهاش بگردان س...</td>\n",
              "      <td>moulavi</td>\n",
              "    </tr>\n",
              "    <tr>\n",
              "      <th>4</th>\n",
              "      <td>بیمارم غم امتحانم غم جوانم طرفه نگر رنجوری غمش...</td>\n",
              "      <td>moulavi</td>\n",
              "    </tr>\n",
              "    <tr>\n",
              "      <th>...</th>\n",
              "      <td>...</td>\n",
              "      <td>...</td>\n",
              "    </tr>\n",
              "    <tr>\n",
              "      <th>2167</th>\n",
              "      <td>خدمت صرف عمر دراز محرم راز دانستم تاز نرسم جها...</td>\n",
              "      <td>abusaeed</td>\n",
              "    </tr>\n",
              "    <tr>\n",
              "      <th>2168</th>\n",
              "      <td>تافت عنان صبوری جان خراب کاب حلقه تب تاب عنان ...</td>\n",
              "      <td>abusaeed</td>\n",
              "    </tr>\n",
              "    <tr>\n",
              "      <th>2169</th>\n",
              "      <td>معبود خبر کاینات دریوزه مردان نظر مردان قرب نظر</td>\n",
              "      <td>abusaeed</td>\n",
              "    </tr>\n",
              "    <tr>\n",
              "      <th>2170</th>\n",
              "      <td>یار خسته میدار دلت امید دلت شکستگان نظرها شکست...</td>\n",
              "      <td>abusaeed</td>\n",
              "    </tr>\n",
              "    <tr>\n",
              "      <th>2171</th>\n",
              "      <td>دردا زمانه غم درد غبنا دایره غم پرورد فراق دوس...</td>\n",
              "      <td>abusaeed</td>\n",
              "    </tr>\n",
              "  </tbody>\n",
              "</table>\n",
              "<p>2172 rows × 2 columns</p>\n",
              "</div>\n",
              "    <div class=\"colab-df-buttons\">\n",
              "\n",
              "  <div class=\"colab-df-container\">\n",
              "    <button class=\"colab-df-convert\" onclick=\"convertToInteractive('df-2d20c6bb-15cf-4f51-8bbc-e70c2a3f379d')\"\n",
              "            title=\"Convert this dataframe to an interactive table.\"\n",
              "            style=\"display:none;\">\n",
              "\n",
              "  <svg xmlns=\"http://www.w3.org/2000/svg\" height=\"24px\" viewBox=\"0 -960 960 960\">\n",
              "    <path d=\"M120-120v-720h720v720H120Zm60-500h600v-160H180v160Zm220 220h160v-160H400v160Zm0 220h160v-160H400v160ZM180-400h160v-160H180v160Zm440 0h160v-160H620v160ZM180-180h160v-160H180v160Zm440 0h160v-160H620v160Z\"/>\n",
              "  </svg>\n",
              "    </button>\n",
              "\n",
              "  <style>\n",
              "    .colab-df-container {\n",
              "      display:flex;\n",
              "      gap: 12px;\n",
              "    }\n",
              "\n",
              "    .colab-df-convert {\n",
              "      background-color: #E8F0FE;\n",
              "      border: none;\n",
              "      border-radius: 50%;\n",
              "      cursor: pointer;\n",
              "      display: none;\n",
              "      fill: #1967D2;\n",
              "      height: 32px;\n",
              "      padding: 0 0 0 0;\n",
              "      width: 32px;\n",
              "    }\n",
              "\n",
              "    .colab-df-convert:hover {\n",
              "      background-color: #E2EBFA;\n",
              "      box-shadow: 0px 1px 2px rgba(60, 64, 67, 0.3), 0px 1px 3px 1px rgba(60, 64, 67, 0.15);\n",
              "      fill: #174EA6;\n",
              "    }\n",
              "\n",
              "    .colab-df-buttons div {\n",
              "      margin-bottom: 4px;\n",
              "    }\n",
              "\n",
              "    [theme=dark] .colab-df-convert {\n",
              "      background-color: #3B4455;\n",
              "      fill: #D2E3FC;\n",
              "    }\n",
              "\n",
              "    [theme=dark] .colab-df-convert:hover {\n",
              "      background-color: #434B5C;\n",
              "      box-shadow: 0px 1px 3px 1px rgba(0, 0, 0, 0.15);\n",
              "      filter: drop-shadow(0px 1px 2px rgba(0, 0, 0, 0.3));\n",
              "      fill: #FFFFFF;\n",
              "    }\n",
              "  </style>\n",
              "\n",
              "    <script>\n",
              "      const buttonEl =\n",
              "        document.querySelector('#df-2d20c6bb-15cf-4f51-8bbc-e70c2a3f379d button.colab-df-convert');\n",
              "      buttonEl.style.display =\n",
              "        google.colab.kernel.accessAllowed ? 'block' : 'none';\n",
              "\n",
              "      async function convertToInteractive(key) {\n",
              "        const element = document.querySelector('#df-2d20c6bb-15cf-4f51-8bbc-e70c2a3f379d');\n",
              "        const dataTable =\n",
              "          await google.colab.kernel.invokeFunction('convertToInteractive',\n",
              "                                                    [key], {});\n",
              "        if (!dataTable) return;\n",
              "\n",
              "        const docLinkHtml = 'Like what you see? Visit the ' +\n",
              "          '<a target=\"_blank\" href=https://colab.research.google.com/notebooks/data_table.ipynb>data table notebook</a>'\n",
              "          + ' to learn more about interactive tables.';\n",
              "        element.innerHTML = '';\n",
              "        dataTable['output_type'] = 'display_data';\n",
              "        await google.colab.output.renderOutput(dataTable, element);\n",
              "        const docLink = document.createElement('div');\n",
              "        docLink.innerHTML = docLinkHtml;\n",
              "        element.appendChild(docLink);\n",
              "      }\n",
              "    </script>\n",
              "  </div>\n",
              "\n",
              "\n",
              "<div id=\"df-6d2a2230-ee28-4ab2-a753-0a5925601338\">\n",
              "  <button class=\"colab-df-quickchart\" onclick=\"quickchart('df-6d2a2230-ee28-4ab2-a753-0a5925601338')\"\n",
              "            title=\"Suggest charts.\"\n",
              "            style=\"display:none;\">\n",
              "\n",
              "<svg xmlns=\"http://www.w3.org/2000/svg\" height=\"24px\"viewBox=\"0 0 24 24\"\n",
              "     width=\"24px\">\n",
              "    <g>\n",
              "        <path d=\"M19 3H5c-1.1 0-2 .9-2 2v14c0 1.1.9 2 2 2h14c1.1 0 2-.9 2-2V5c0-1.1-.9-2-2-2zM9 17H7v-7h2v7zm4 0h-2V7h2v10zm4 0h-2v-4h2v4z\"/>\n",
              "    </g>\n",
              "</svg>\n",
              "  </button>\n",
              "\n",
              "<style>\n",
              "  .colab-df-quickchart {\n",
              "    background-color: #E8F0FE;\n",
              "    border: none;\n",
              "    border-radius: 50%;\n",
              "    cursor: pointer;\n",
              "    display: none;\n",
              "    fill: #1967D2;\n",
              "    height: 32px;\n",
              "    padding: 0 0 0 0;\n",
              "    width: 32px;\n",
              "  }\n",
              "\n",
              "  .colab-df-quickchart:hover {\n",
              "    background-color: #E2EBFA;\n",
              "    box-shadow: 0px 1px 2px rgba(60, 64, 67, 0.3), 0px 1px 3px 1px rgba(60, 64, 67, 0.15);\n",
              "    fill: #174EA6;\n",
              "  }\n",
              "\n",
              "  [theme=dark] .colab-df-quickchart {\n",
              "    background-color: #3B4455;\n",
              "    fill: #D2E3FC;\n",
              "  }\n",
              "\n",
              "  [theme=dark] .colab-df-quickchart:hover {\n",
              "    background-color: #434B5C;\n",
              "    box-shadow: 0px 1px 3px 1px rgba(0, 0, 0, 0.15);\n",
              "    filter: drop-shadow(0px 1px 2px rgba(0, 0, 0, 0.3));\n",
              "    fill: #FFFFFF;\n",
              "  }\n",
              "</style>\n",
              "\n",
              "  <script>\n",
              "    async function quickchart(key) {\n",
              "      const charts = await google.colab.kernel.invokeFunction(\n",
              "          'suggestCharts', [key], {});\n",
              "    }\n",
              "    (() => {\n",
              "      let quickchartButtonEl =\n",
              "        document.querySelector('#df-6d2a2230-ee28-4ab2-a753-0a5925601338 button');\n",
              "      quickchartButtonEl.style.display =\n",
              "        google.colab.kernel.accessAllowed ? 'block' : 'none';\n",
              "    })();\n",
              "  </script>\n",
              "</div>\n",
              "    </div>\n",
              "  </div>\n"
            ]
          },
          "metadata": {},
          "execution_count": 14
        }
      ],
      "source": [
        "from hazm import stopwords_list\n",
        "\n",
        "def removeStopWords(text):\n",
        "  # text = ' '.join([word for word in text.split() if word not in stopwords_list()])\n",
        "  text = ' '.join([word for word in text.split() if word not in stop_words])\n",
        "  return text\n",
        "\n",
        "df['cleaned_poems'] = df['poem'].apply(removeStopWords)\n",
        "df = df[['cleaned_poems', 'poet']]\n",
        "df.columns = ['poem', 'poet']\n",
        "df\n"
      ]
    },
    {
      "cell_type": "code",
      "source": [
        "import numpy as np # linear algebra\n",
        "import pandas as pd # data processing, CSV file I/O (e.g. pd.read_csv)\n",
        "from keras.layers import Dense, Embedding, GRU, Dropout\n",
        "from keras.models import Sequential\n",
        "from sklearn.feature_extraction.text import CountVectorizer\n",
        "from keras.preprocessing.text import Tokenizer\n",
        "# from keras.preprocessing.sequence import pad_sequences\n",
        "from sklearn.model_selection import train_test_split\n",
        "from keras.utils.np_utils import to_categorical\n",
        "from keras.callbacks import EarlyStopping"
      ],
      "metadata": {
        "id": "gYRQyWdCDx1H"
      },
      "execution_count": null,
      "outputs": []
    },
    {
      "cell_type": "code",
      "source": [
        "from keras.utils import pad_sequences"
      ],
      "metadata": {
        "id": "nFARUszhHg4B"
      },
      "execution_count": null,
      "outputs": []
    },
    {
      "cell_type": "code",
      "execution_count": null,
      "metadata": {
        "colab": {
          "base_uri": "https://localhost:8080/"
        },
        "id": "80aqw3DPCGBj",
        "outputId": "83c0d65a-cd19-4725-f9b5-d0ca1967eea3"
      },
      "outputs": [
        {
          "output_type": "stream",
          "name": "stdout",
          "text": [
            "Found 7124 unique tokens.\n"
          ]
        }
      ],
      "source": [
        "# The maximum number of words to be used. (most frequent)\n",
        "MAX_NB_WORDS = 10000\n",
        "# Max number of words in each complaint.\n",
        "MAX_SEQUENCE_LENGTH = 128\n",
        "# This is fixed.\n",
        "EMBEDDING_DIM = 100\n",
        "tokenizer = Tokenizer(num_words=MAX_NB_WORDS, filters='!\"#$%&()*+,-./:;<=>?@[\\]^_`{|}~')\n",
        "tokenizer.fit_on_texts(df['poem'].values)\n",
        "word_index = tokenizer.word_index\n",
        "print('Found %s unique tokens.' % len(word_index))"
      ]
    },
    {
      "cell_type": "code",
      "source": [
        "X = tokenizer.texts_to_sequences(df['poem'].values)\n",
        "X = pad_sequences(X, maxlen=MAX_SEQUENCE_LENGTH)\n",
        "print('Shape of data tensor:', X.shape)"
      ],
      "metadata": {
        "colab": {
          "base_uri": "https://localhost:8080/"
        },
        "id": "PKmAYqSMHMa5",
        "outputId": "4fadb882-384e-4df8-99d1-cdfd67ef0b9d"
      },
      "execution_count": null,
      "outputs": [
        {
          "output_type": "stream",
          "name": "stdout",
          "text": [
            "Shape of data tensor: (2172, 128)\n"
          ]
        }
      ]
    },
    {
      "cell_type": "code",
      "source": [
        "Y = pd.get_dummies(df['poet']).values\n",
        "print('Shape of label tensor:', Y.shape)"
      ],
      "metadata": {
        "colab": {
          "base_uri": "https://localhost:8080/"
        },
        "id": "qIt8WMRHH_k6",
        "outputId": "370ea207-176d-4917-e50f-baa94a768c81"
      },
      "execution_count": null,
      "outputs": [
        {
          "output_type": "stream",
          "name": "stdout",
          "text": [
            "Shape of label tensor: (2172, 3)\n"
          ]
        }
      ]
    },
    {
      "cell_type": "code",
      "source": [
        "X_train, X_test, Y_train, Y_test = train_test_split(X,Y, test_size = 0.20, random_state = 1, shuffle = True)\n",
        "X_val, X_test, Y_val, Y_test = train_test_split(X_test, Y_test, test_size=0.1, random_state=1, shuffle=True)\n",
        "print(X_train.shape,Y_train.shape)\n",
        "print(X_test.shape,Y_test.shape)\n",
        "print(X_val.shape,Y_val.shape)"
      ],
      "metadata": {
        "colab": {
          "base_uri": "https://localhost:8080/"
        },
        "id": "LMhuUJ8EGdXp",
        "outputId": "62472ed7-17d0-44c9-caa7-91f601027428"
      },
      "execution_count": null,
      "outputs": [
        {
          "output_type": "stream",
          "name": "stdout",
          "text": [
            "(1737, 128) (1737, 3)\n",
            "(44, 128) (44, 3)\n",
            "(391, 128) (391, 3)\n"
          ]
        }
      ]
    },
    {
      "cell_type": "code",
      "source": [
        "gru_model = Sequential()\n",
        "gru_model.add(Embedding(MAX_NB_WORDS, EMBEDDING_DIM, input_length=X.shape[1]))\n",
        "gru_model.add(GRU(128, return_sequences=False))\n",
        "gru_model.add(Dropout(0.5))\n",
        "gru_model.add(Dense(3, activation = 'softmax'))\n",
        "gru_model.compile(loss='categorical_crossentropy', optimizer='adam', metrics=['accuracy'])\n",
        "print(gru_model.summary())"
      ],
      "metadata": {
        "id": "6FaRppa3n2A3",
        "colab": {
          "base_uri": "https://localhost:8080/"
        },
        "outputId": "abfd3578-4973-408f-db19-f3aabcd2872b"
      },
      "execution_count": null,
      "outputs": [
        {
          "output_type": "stream",
          "name": "stdout",
          "text": [
            "Model: \"sequential_1\"\n",
            "_________________________________________________________________\n",
            " Layer (type)                Output Shape              Param #   \n",
            "=================================================================\n",
            " embedding_1 (Embedding)     (None, 128, 100)          1000000   \n",
            "                                                                 \n",
            " gru_1 (GRU)                 (None, 128)               88320     \n",
            "                                                                 \n",
            " dropout_1 (Dropout)         (None, 128)               0         \n",
            "                                                                 \n",
            " dense_1 (Dense)             (None, 3)                 387       \n",
            "                                                                 \n",
            "=================================================================\n",
            "Total params: 1,088,707\n",
            "Trainable params: 1,088,707\n",
            "Non-trainable params: 0\n",
            "_________________________________________________________________\n",
            "None\n"
          ]
        }
      ]
    },
    {
      "cell_type": "code",
      "source": [
        "epochs = 10\n",
        "batch_size = 8\n",
        "\n",
        "history = gru_model.fit(X_train, Y_train, epochs=epochs, batch_size=batch_size,validation_split=0.1, callbacks=[EarlyStopping(monitor='val_loss', patience=3, min_delta=0.0001)])"
      ],
      "metadata": {
        "colab": {
          "base_uri": "https://localhost:8080/"
        },
        "id": "z8mB59RiIP5N",
        "outputId": "93d2efcd-7f43-475d-fab9-9a24079e3b5c"
      },
      "execution_count": null,
      "outputs": [
        {
          "output_type": "stream",
          "name": "stdout",
          "text": [
            "Epoch 1/10\n",
            "196/196 [==============================] - 10s 51ms/step - loss: 0.0076 - accuracy: 0.9974 - val_loss: 1.3979 - val_accuracy: 0.5632\n",
            "Epoch 2/10\n",
            "196/196 [==============================] - 3s 16ms/step - loss: 0.0358 - accuracy: 0.9917 - val_loss: 2.0756 - val_accuracy: 0.5747\n",
            "Epoch 3/10\n",
            "196/196 [==============================] - 2s 9ms/step - loss: 0.0469 - accuracy: 0.9878 - val_loss: 1.6264 - val_accuracy: 0.5575\n",
            "Epoch 4/10\n",
            "196/196 [==============================] - 3s 16ms/step - loss: 0.0342 - accuracy: 0.9878 - val_loss: 1.8692 - val_accuracy: 0.5402\n"
          ]
        }
      ]
    },
    {
      "cell_type": "code",
      "source": [
        "accr = gru_model.evaluate(X_test,Y_test)\n",
        "print('Test set\\n  Loss: {:0.3f}\\n  Accuracy: {:0.3f}'.format(accr[0],accr[1]))"
      ],
      "metadata": {
        "colab": {
          "base_uri": "https://localhost:8080/"
        },
        "id": "HxYOmOQXbrAO",
        "outputId": "666ad196-cf29-47fb-b622-9d425e72f711"
      },
      "execution_count": null,
      "outputs": [
        {
          "output_type": "stream",
          "name": "stdout",
          "text": [
            "2/2 [==============================] - 0s 11ms/step - loss: 1.5671 - accuracy: 0.6818\n",
            "Test set\n",
            "  Loss: 1.567\n",
            "  Accuracy: 0.682\n"
          ]
        }
      ]
    },
    {
      "cell_type": "code",
      "source": [
        "plt.title('Loss')\n",
        "plt.plot(history.history['loss'], label='train')\n",
        "plt.plot(history.history['val_loss'], label='validation')\n",
        "plt.legend()\n",
        "plt.show();"
      ],
      "metadata": {
        "id": "W_bAzIuQoMwL",
        "colab": {
          "base_uri": "https://localhost:8080/",
          "height": 452
        },
        "outputId": "394c768f-da1f-4d62-cdc7-ed51fed738fe"
      },
      "execution_count": null,
      "outputs": [
        {
          "output_type": "display_data",
          "data": {
            "text/plain": [
              "<Figure size 640x480 with 1 Axes>"
            ],
            "image/png": "[encoded data removed]"
          },
          "metadata": {}
        }
      ]
    },
    {
      "cell_type": "code",
      "source": [
        "plt.title('Accuracy')\n",
        "plt.plot(history.history['accuracy'], label='train')\n",
        "plt.plot(history.history['val_accuracy'], label='validation')\n",
        "plt.legend()\n",
        "plt.show();"
      ],
      "metadata": {
        "colab": {
          "base_uri": "https://localhost:8080/",
          "height": 452
        },
        "id": "OipBO4PVZo1o",
        "outputId": "ad53e97c-f175-4457-9d30-28d396c0b8a7"
      },
      "execution_count": null,
      "outputs": [
        {
          "output_type": "display_data",
          "data": {
            "text/plain": [
              "<Figure size 640x480 with 1 Axes>"
            ],
            "image/png": "[encoded data removed]"
          },
          "metadata": {}
        }
      ]
    },
    {
      "cell_type": "code",
      "source": [
        "predictions = gru_model.predict(X_test)\n",
        "predictions.tolist()"
      ],
      "metadata": {
        "id": "D0DPT3mjcZFg"
      },
      "execution_count": null,
      "outputs": []
    },
    {
      "cell_type": "code",
      "source": [
        "labelsdf = pd.DataFrame(Y_test)"
      ],
      "metadata": {
        "id": "Au-Gv16bd9Ce"
      },
      "execution_count": null,
      "outputs": []
    },
    {
      "cell_type": "code",
      "source": [
        "ldf = pd.from_dummies(labelsdf)\n",
        "ldf = ldf.values.tolist()\n",
        "ldf"
      ],
      "metadata": {
        "id": "F2c2-tcydcwi"
      },
      "execution_count": null,
      "outputs": []
    },
    {
      "cell_type": "code",
      "source": [
        "Y_pred = predictions.argmax(axis=-1).tolist()\n",
        "Y_pred"
      ],
      "metadata": {
        "id": "CBzBBdnTa5eR"
      },
      "execution_count": null,
      "outputs": []
    },
    {
      "cell_type": "code",
      "source": [
        "from sklearn.metrics import classification_report\n",
        "\n",
        "print()\n",
        "print(classification_report(ldf, Y_pred, target_names=labels))\n",
        "print()"
      ],
      "metadata": {
        "colab": {
          "base_uri": "https://localhost:8080/"
        },
        "id": "IO55DIpebEi4",
        "outputId": "2ab39ce8-c67e-40eb-d9fd-955a9c342bdd"
      },
      "execution_count": null,
      "outputs": [
        {
          "output_type": "stream",
          "name": "stdout",
          "text": [
            "\n",
            "              precision    recall  f1-score   support\n",
            "\n",
            "    abusaeed       0.65      0.73      0.69        15\n",
            "       attar       0.67      0.55      0.60        11\n",
            "     moulavi       0.72      0.72      0.72        18\n",
            "\n",
            "    accuracy                           0.68        44\n",
            "   macro avg       0.68      0.67      0.67        44\n",
            "weighted avg       0.68      0.68      0.68        44\n",
            "\n",
            "\n"
          ]
        }
      ]
    },
    {
      "cell_type": "code",
      "source": [
        "from sklearn.metrics import f1_score\n",
        "print(f'F1: {f1_score(ldf, Y_pred, average=\"weighted\")}')"
      ],
      "metadata": {
        "colab": {
          "base_uri": "https://localhost:8080/"
        },
        "id": "g05u-eDderG6",
        "outputId": "5401094b-5a91-4533-9890-eb4b84311c1d"
      },
      "execution_count": null,
      "outputs": [
        {
          "output_type": "stream",
          "name": "stdout",
          "text": [
            "F1: 0.6798295454545454\n"
          ]
        }
      ]
    },
    {
      "cell_type": "code",
      "source": [
        "from sklearn.metrics import confusion_matrix\n",
        "import seaborn as sb\n",
        "matrix_confusion = confusion_matrix(ldf, Y_pred)\n",
        "sb.heatmap(matrix_confusion, square=True, annot=True, cmap=sb.cubehelix_palette(as_cmap=True)\n",
        ", fmt='d', cbar=False)"
      ],
      "metadata": {
        "colab": {
          "base_uri": "https://localhost:8080/",
          "height": 447
        },
        "id": "S4I5z3NXe3E0",
        "outputId": "f9f0ed2e-aaf0-4173-d542-2b9bbb613c31"
      },
      "execution_count": null,
      "outputs": [
        {
          "output_type": "execute_result",
          "data": {
            "text/plain": [
              "<Axes: >"
            ]
          },
          "metadata": {},
          "execution_count": 36
        },
        {
          "output_type": "display_data",
          "data": {
            "text/plain": [
              "<Figure size 640x480 with 1 Axes>"
            ],
            "image/png": "[encoded data removed]"
          },
          "metadata": {}
        }
      ]
    }
  ]
}